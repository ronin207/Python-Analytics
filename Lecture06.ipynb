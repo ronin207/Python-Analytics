{
  "nbformat": 4,
  "nbformat_minor": 0,
  "metadata": {
    "colab": {
      "name": "Lecture06.ipynb",
      "provenance": [],
      "authorship_tag": "ABX9TyP7MieYUCDCpiXxkYq/JXLY",
      "include_colab_link": true
    },
    "kernelspec": {
      "name": "python3",
      "display_name": "Python 3"
    },
    "language_info": {
      "name": "python"
    }
  },
  "cells": [
    {
      "cell_type": "markdown",
      "metadata": {
        "id": "view-in-github",
        "colab_type": "text"
      },
      "source": [
        "<a href=\"https://colab.research.google.com/github/ronin207/Python-Analytics/blob/main/Lecture06.ipynb\" target=\"_parent\"><img src=\"https://colab.research.google.com/assets/colab-badge.svg\" alt=\"Open In Colab\"/></a>"
      ]
    },
    {
      "cell_type": "markdown",
      "metadata": {
        "id": "74m5eDjEhNb1"
      },
      "source": [
        "## **NUS Python for Analytics Lecture 06**\n",
        "\n",
        "#### **Data Manipulation and Analysis with Pandas**\n",
        "\n",
        "<ul>\n",
        "  <li>Pandas DataFrames and Series</li>\n",
        "  <li>Data Manipulation</li>\n",
        "  <li>Filtering Data</li>\n",
        "</ul>"
      ]
    },
    {
      "cell_type": "markdown",
      "metadata": {
        "id": "dMNny_HhidSA"
      },
      "source": [
        "#### Required Assignment 6.2: Case Study - Patient Arrivals in Singapore's Major Public Hospitals\n",
        "\n",
        "Case Questions\n",
        "<ol>\n",
        "<li>Do male Singaporeans have preferences over different hospitals to attend in case of an emergency? Please remember to delete the patient visits to (KKH in the dataset KKH is a Women's and Children's hospital.) If an emergency happens, the male patient will basically not be sent to KKH.</li>\n",
        "<li>Are the patients’ waiting time distributions similar across different public hospitals?</li>\n",
        "<li>To make a staffing plan, which decides the number of nurses and doctors needed to serve patients, a deep understanding of patient arrivals is crucial. The staffing plan in practice will be made on an hourly basis (24 intervals) every day. Thus, please create a new column, <code>REGIS_HOUR</code> in df. Moreover, the patients’ arrival pattern may vary by the day of a month. Please also create a new column, <code>REGIS_DAY</code> in df.</li>\n",
        "<li>Find out the average number of patient arrivals in each hour of a day. To answer this question, we assume the arrival pattern is similar across different days and only utilise the data in 2011.</li>\n",
        "<li>The assumption that the arrival pattern is similar across different days is too strong to be true. Let's discuss the weekday effect (including Saturday and Sunday) on the arrival pattern of patients. Please create a <code>WEEKDAY</code> column in df. For example, if a patient's arrival occurred on 01/10/2011, the corresponding value in <code>WEEKDAY</code> column is Saturday.</li>\n",
        "<li>Using the <code>WEEKDAY</code> column, please find out the average number of patient arrivals in each hour by weekday categories. Your answer should be a 7-by-24 table.</li>\n",
        "</ol>"
      ]
    },
    {
      "cell_type": "markdown",
      "metadata": {
        "id": "k0y-Jz2t2_j8"
      },
      "source": [
        "#### **Case Study - Patient Arrivals in Singapore's Major Public Hospitals**\n",
        "\n",
        "***Background***: Understanding demand is always a key issue in business operations. In healthcare management, patient arrivals are the key to affecting the efficiency of the hospital/clinic operations. Without a sufficient number of healthcare professionals to serve patients, the consequence is a long waiting time for patients; thus their lives may be jeopardized. Increasing the number of healthcare professionals, without a doubt, can build a very efficient healthcare system with a shorter waiting time, thereby gaining the great satisfaction of patients. However, the corresponding labor cost will become a big burden of the operations. From a managerial point of view, it is importance to balance the operation cost and patients’ satisfaction. To achieve this, the first task is being able to know the pattern of patient arrivals as accurate as possible.<br>\n",
        "The <code>EDdata.csv</code> contains Singaporeans’ arrivals at some major public hospitals’ emergency departments (EDs) in Oct 2011 and April 2012. Those hospitals are Tan Tock Seng Hospital, Singapore General Hospital, National University Hospital, Changi General Hospital, Alexandra Hospital, Khoo Teck Puat Hospital, and KK Women's and Children's Hospital. The data were retrieved from each hospital’s data warehouse system and were a random sample from all the patients who arrived at those hospitals’ EDs during a study period. Please import <code>EDdata.csv</code> first and check the data."
      ]
    },
    {
      "cell_type": "code",
      "metadata": {
        "colab": {
          "base_uri": "https://localhost:8080/",
          "height": 359
        },
        "id": "LX4YcJh-glR8",
        "outputId": "3c367f34-34d5-499d-a5b0-9015d2e60ddb"
      },
      "source": [
        "import pandas as pd\n",
        "\n",
        "df = pd.read_csv(\"EDdata_new.csv\")  \n",
        "df.head(10)"
      ],
      "execution_count": 2,
      "outputs": [
        {
          "output_type": "execute_result",
          "data": {
            "text/html": [
              "<div>\n",
              "<style scoped>\n",
              "    .dataframe tbody tr th:only-of-type {\n",
              "        vertical-align: middle;\n",
              "    }\n",
              "\n",
              "    .dataframe tbody tr th {\n",
              "        vertical-align: top;\n",
              "    }\n",
              "\n",
              "    .dataframe thead th {\n",
              "        text-align: right;\n",
              "    }\n",
              "</style>\n",
              "<table border=\"1\" class=\"dataframe\">\n",
              "  <thead>\n",
              "    <tr style=\"text-align: right;\">\n",
              "      <th></th>\n",
              "      <th>Case</th>\n",
              "      <th>Hospital_Name</th>\n",
              "      <th>REGIS_DATE</th>\n",
              "      <th>REGIS_TIME</th>\n",
              "      <th>reg_sec</th>\n",
              "      <th>Triage Time</th>\n",
              "      <th>triage_sec</th>\n",
              "      <th>Triage_Class</th>\n",
              "      <th>Age</th>\n",
              "      <th>Gender</th>\n",
              "      <th>Race</th>\n",
              "    </tr>\n",
              "  </thead>\n",
              "  <tbody>\n",
              "    <tr>\n",
              "      <th>0</th>\n",
              "      <td>92408</td>\n",
              "      <td>KTPH</td>\n",
              "      <td>7/4/2012</td>\n",
              "      <td>9:48:33</td>\n",
              "      <td>35313</td>\n",
              "      <td>9:58:12</td>\n",
              "      <td>35892</td>\n",
              "      <td>P2</td>\n",
              "      <td>40.0</td>\n",
              "      <td>M</td>\n",
              "      <td>Chinese</td>\n",
              "    </tr>\n",
              "    <tr>\n",
              "      <th>1</th>\n",
              "      <td>54452</td>\n",
              "      <td>KKH</td>\n",
              "      <td>7/10/2011</td>\n",
              "      <td>16:21:05</td>\n",
              "      <td>58865</td>\n",
              "      <td>16:23:42</td>\n",
              "      <td>59022</td>\n",
              "      <td>P2</td>\n",
              "      <td>0.0</td>\n",
              "      <td>M</td>\n",
              "      <td>Chinese</td>\n",
              "    </tr>\n",
              "    <tr>\n",
              "      <th>2</th>\n",
              "      <td>28303</td>\n",
              "      <td>CGH</td>\n",
              "      <td>3/10/2011</td>\n",
              "      <td>3:57:45</td>\n",
              "      <td>14265</td>\n",
              "      <td>4:00:00</td>\n",
              "      <td>14400</td>\n",
              "      <td>P3</td>\n",
              "      <td>33.0</td>\n",
              "      <td>M</td>\n",
              "      <td>Indian</td>\n",
              "    </tr>\n",
              "    <tr>\n",
              "      <th>3</th>\n",
              "      <td>121169</td>\n",
              "      <td>SGH</td>\n",
              "      <td>16/10/2011</td>\n",
              "      <td>4:08:47</td>\n",
              "      <td>14927</td>\n",
              "      <td>4:10:00</td>\n",
              "      <td>15000</td>\n",
              "      <td>P3</td>\n",
              "      <td>53.0</td>\n",
              "      <td>F</td>\n",
              "      <td>Malay</td>\n",
              "    </tr>\n",
              "    <tr>\n",
              "      <th>4</th>\n",
              "      <td>146488</td>\n",
              "      <td>TTSH</td>\n",
              "      <td>24/10/2011</td>\n",
              "      <td>3:09:47</td>\n",
              "      <td>11387</td>\n",
              "      <td>3:14:21</td>\n",
              "      <td>11661</td>\n",
              "      <td>P3</td>\n",
              "      <td>23.0</td>\n",
              "      <td>M</td>\n",
              "      <td>Others</td>\n",
              "    </tr>\n",
              "    <tr>\n",
              "      <th>5</th>\n",
              "      <td>93761</td>\n",
              "      <td>KTPH</td>\n",
              "      <td>11/4/2012</td>\n",
              "      <td>0:13:43</td>\n",
              "      <td>823</td>\n",
              "      <td>2:51:08</td>\n",
              "      <td>10268</td>\n",
              "      <td>P3</td>\n",
              "      <td>21.0</td>\n",
              "      <td>M</td>\n",
              "      <td>Chinese</td>\n",
              "    </tr>\n",
              "    <tr>\n",
              "      <th>6</th>\n",
              "      <td>95762</td>\n",
              "      <td>KTPH</td>\n",
              "      <td>16/04/2012</td>\n",
              "      <td>23:14:41</td>\n",
              "      <td>83681</td>\n",
              "      <td>1:05:13</td>\n",
              "      <td>3913</td>\n",
              "      <td>P2</td>\n",
              "      <td>47.0</td>\n",
              "      <td>M</td>\n",
              "      <td>Chinese</td>\n",
              "    </tr>\n",
              "    <tr>\n",
              "      <th>7</th>\n",
              "      <td>149941</td>\n",
              "      <td>TTSH</td>\n",
              "      <td>2/4/2012</td>\n",
              "      <td>10:12:32</td>\n",
              "      <td>36752</td>\n",
              "      <td>10:15:06</td>\n",
              "      <td>36906</td>\n",
              "      <td>P3</td>\n",
              "      <td>48.0</td>\n",
              "      <td>F</td>\n",
              "      <td>Others</td>\n",
              "    </tr>\n",
              "    <tr>\n",
              "      <th>8</th>\n",
              "      <td>23665</td>\n",
              "      <td>AH</td>\n",
              "      <td>29/10/2011</td>\n",
              "      <td>13:43:40</td>\n",
              "      <td>49420</td>\n",
              "      <td>13:49:00</td>\n",
              "      <td>49740</td>\n",
              "      <td>P2</td>\n",
              "      <td>43.0</td>\n",
              "      <td>M</td>\n",
              "      <td>Malay</td>\n",
              "    </tr>\n",
              "    <tr>\n",
              "      <th>9</th>\n",
              "      <td>12883</td>\n",
              "      <td>SGH</td>\n",
              "      <td>11/10/2011</td>\n",
              "      <td>6:23:14</td>\n",
              "      <td>22994</td>\n",
              "      <td>6:28:00</td>\n",
              "      <td>23280</td>\n",
              "      <td>P2</td>\n",
              "      <td>44.0</td>\n",
              "      <td>M</td>\n",
              "      <td>Malay</td>\n",
              "    </tr>\n",
              "  </tbody>\n",
              "</table>\n",
              "</div>"
            ],
            "text/plain": [
              "     Case Hospital_Name  REGIS_DATE  ...   Age  Gender     Race\n",
              "0   92408          KTPH    7/4/2012  ...  40.0       M  Chinese\n",
              "1   54452           KKH   7/10/2011  ...   0.0       M  Chinese\n",
              "2   28303           CGH   3/10/2011  ...  33.0       M   Indian\n",
              "3  121169           SGH  16/10/2011  ...  53.0       F    Malay\n",
              "4  146488          TTSH  24/10/2011  ...  23.0       M   Others\n",
              "5   93761          KTPH   11/4/2012  ...  21.0       M  Chinese\n",
              "6   95762          KTPH  16/04/2012  ...  47.0       M  Chinese\n",
              "7  149941          TTSH    2/4/2012  ...  48.0       F   Others\n",
              "8   23665            AH  29/10/2011  ...  43.0       M    Malay\n",
              "9   12883           SGH  11/10/2011  ...  44.0       M    Malay\n",
              "\n",
              "[10 rows x 11 columns]"
            ]
          },
          "metadata": {},
          "execution_count": 2
        }
      ]
    },
    {
      "cell_type": "code",
      "metadata": {
        "colab": {
          "base_uri": "https://localhost:8080/",
          "height": 390
        },
        "id": "1tZhZ7IT3kII",
        "outputId": "5251859e-f538-449a-ed4f-8b7dd7321136"
      },
      "source": [
        "# You can assign a column in dataset as the row index labels\n",
        "df = pd.read_csv(\"EDdata_new.csv\", index_col = \"Case\")  \n",
        "df.head(10)"
      ],
      "execution_count": 3,
      "outputs": [
        {
          "output_type": "execute_result",
          "data": {
            "text/html": [
              "<div>\n",
              "<style scoped>\n",
              "    .dataframe tbody tr th:only-of-type {\n",
              "        vertical-align: middle;\n",
              "    }\n",
              "\n",
              "    .dataframe tbody tr th {\n",
              "        vertical-align: top;\n",
              "    }\n",
              "\n",
              "    .dataframe thead th {\n",
              "        text-align: right;\n",
              "    }\n",
              "</style>\n",
              "<table border=\"1\" class=\"dataframe\">\n",
              "  <thead>\n",
              "    <tr style=\"text-align: right;\">\n",
              "      <th></th>\n",
              "      <th>Hospital_Name</th>\n",
              "      <th>REGIS_DATE</th>\n",
              "      <th>REGIS_TIME</th>\n",
              "      <th>reg_sec</th>\n",
              "      <th>Triage Time</th>\n",
              "      <th>triage_sec</th>\n",
              "      <th>Triage_Class</th>\n",
              "      <th>Age</th>\n",
              "      <th>Gender</th>\n",
              "      <th>Race</th>\n",
              "    </tr>\n",
              "    <tr>\n",
              "      <th>Case</th>\n",
              "      <th></th>\n",
              "      <th></th>\n",
              "      <th></th>\n",
              "      <th></th>\n",
              "      <th></th>\n",
              "      <th></th>\n",
              "      <th></th>\n",
              "      <th></th>\n",
              "      <th></th>\n",
              "      <th></th>\n",
              "    </tr>\n",
              "  </thead>\n",
              "  <tbody>\n",
              "    <tr>\n",
              "      <th>92408</th>\n",
              "      <td>KTPH</td>\n",
              "      <td>7/4/2012</td>\n",
              "      <td>9:48:33</td>\n",
              "      <td>35313</td>\n",
              "      <td>9:58:12</td>\n",
              "      <td>35892</td>\n",
              "      <td>P2</td>\n",
              "      <td>40.0</td>\n",
              "      <td>M</td>\n",
              "      <td>Chinese</td>\n",
              "    </tr>\n",
              "    <tr>\n",
              "      <th>54452</th>\n",
              "      <td>KKH</td>\n",
              "      <td>7/10/2011</td>\n",
              "      <td>16:21:05</td>\n",
              "      <td>58865</td>\n",
              "      <td>16:23:42</td>\n",
              "      <td>59022</td>\n",
              "      <td>P2</td>\n",
              "      <td>0.0</td>\n",
              "      <td>M</td>\n",
              "      <td>Chinese</td>\n",
              "    </tr>\n",
              "    <tr>\n",
              "      <th>28303</th>\n",
              "      <td>CGH</td>\n",
              "      <td>3/10/2011</td>\n",
              "      <td>3:57:45</td>\n",
              "      <td>14265</td>\n",
              "      <td>4:00:00</td>\n",
              "      <td>14400</td>\n",
              "      <td>P3</td>\n",
              "      <td>33.0</td>\n",
              "      <td>M</td>\n",
              "      <td>Indian</td>\n",
              "    </tr>\n",
              "    <tr>\n",
              "      <th>121169</th>\n",
              "      <td>SGH</td>\n",
              "      <td>16/10/2011</td>\n",
              "      <td>4:08:47</td>\n",
              "      <td>14927</td>\n",
              "      <td>4:10:00</td>\n",
              "      <td>15000</td>\n",
              "      <td>P3</td>\n",
              "      <td>53.0</td>\n",
              "      <td>F</td>\n",
              "      <td>Malay</td>\n",
              "    </tr>\n",
              "    <tr>\n",
              "      <th>146488</th>\n",
              "      <td>TTSH</td>\n",
              "      <td>24/10/2011</td>\n",
              "      <td>3:09:47</td>\n",
              "      <td>11387</td>\n",
              "      <td>3:14:21</td>\n",
              "      <td>11661</td>\n",
              "      <td>P3</td>\n",
              "      <td>23.0</td>\n",
              "      <td>M</td>\n",
              "      <td>Others</td>\n",
              "    </tr>\n",
              "    <tr>\n",
              "      <th>93761</th>\n",
              "      <td>KTPH</td>\n",
              "      <td>11/4/2012</td>\n",
              "      <td>0:13:43</td>\n",
              "      <td>823</td>\n",
              "      <td>2:51:08</td>\n",
              "      <td>10268</td>\n",
              "      <td>P3</td>\n",
              "      <td>21.0</td>\n",
              "      <td>M</td>\n",
              "      <td>Chinese</td>\n",
              "    </tr>\n",
              "    <tr>\n",
              "      <th>95762</th>\n",
              "      <td>KTPH</td>\n",
              "      <td>16/04/2012</td>\n",
              "      <td>23:14:41</td>\n",
              "      <td>83681</td>\n",
              "      <td>1:05:13</td>\n",
              "      <td>3913</td>\n",
              "      <td>P2</td>\n",
              "      <td>47.0</td>\n",
              "      <td>M</td>\n",
              "      <td>Chinese</td>\n",
              "    </tr>\n",
              "    <tr>\n",
              "      <th>149941</th>\n",
              "      <td>TTSH</td>\n",
              "      <td>2/4/2012</td>\n",
              "      <td>10:12:32</td>\n",
              "      <td>36752</td>\n",
              "      <td>10:15:06</td>\n",
              "      <td>36906</td>\n",
              "      <td>P3</td>\n",
              "      <td>48.0</td>\n",
              "      <td>F</td>\n",
              "      <td>Others</td>\n",
              "    </tr>\n",
              "    <tr>\n",
              "      <th>23665</th>\n",
              "      <td>AH</td>\n",
              "      <td>29/10/2011</td>\n",
              "      <td>13:43:40</td>\n",
              "      <td>49420</td>\n",
              "      <td>13:49:00</td>\n",
              "      <td>49740</td>\n",
              "      <td>P2</td>\n",
              "      <td>43.0</td>\n",
              "      <td>M</td>\n",
              "      <td>Malay</td>\n",
              "    </tr>\n",
              "    <tr>\n",
              "      <th>12883</th>\n",
              "      <td>SGH</td>\n",
              "      <td>11/10/2011</td>\n",
              "      <td>6:23:14</td>\n",
              "      <td>22994</td>\n",
              "      <td>6:28:00</td>\n",
              "      <td>23280</td>\n",
              "      <td>P2</td>\n",
              "      <td>44.0</td>\n",
              "      <td>M</td>\n",
              "      <td>Malay</td>\n",
              "    </tr>\n",
              "  </tbody>\n",
              "</table>\n",
              "</div>"
            ],
            "text/plain": [
              "       Hospital_Name  REGIS_DATE REGIS_TIME  ...   Age Gender     Race\n",
              "Case                                         ...                      \n",
              "92408           KTPH    7/4/2012    9:48:33  ...  40.0      M  Chinese\n",
              "54452            KKH   7/10/2011   16:21:05  ...   0.0      M  Chinese\n",
              "28303            CGH   3/10/2011    3:57:45  ...  33.0      M   Indian\n",
              "121169           SGH  16/10/2011    4:08:47  ...  53.0      F    Malay\n",
              "146488          TTSH  24/10/2011    3:09:47  ...  23.0      M   Others\n",
              "93761           KTPH   11/4/2012    0:13:43  ...  21.0      M  Chinese\n",
              "95762           KTPH  16/04/2012   23:14:41  ...  47.0      M  Chinese\n",
              "149941          TTSH    2/4/2012   10:12:32  ...  48.0      F   Others\n",
              "23665             AH  29/10/2011   13:43:40  ...  43.0      M    Malay\n",
              "12883            SGH  11/10/2011    6:23:14  ...  44.0      M    Malay\n",
              "\n",
              "[10 rows x 10 columns]"
            ]
          },
          "metadata": {},
          "execution_count": 3
        }
      ]
    },
    {
      "cell_type": "code",
      "metadata": {
        "colab": {
          "base_uri": "https://localhost:8080/"
        },
        "id": "P2EYc-D2-Ngq",
        "outputId": "23b00a74-c847-4867-f505-ee1a2c4aed3d"
      },
      "source": [
        "# Identify first row\n",
        "df.loc[92408]"
      ],
      "execution_count": 4,
      "outputs": [
        {
          "output_type": "execute_result",
          "data": {
            "text/plain": [
              "Hospital_Name        KTPH\n",
              "REGIS_DATE       7/4/2012\n",
              "REGIS_TIME        9:48:33\n",
              "reg_sec             35313\n",
              "Triage Time       9:58:12\n",
              "triage_sec          35892\n",
              "Triage_Class           P2\n",
              "Age                    40\n",
              "Gender                  M\n",
              "Race              Chinese\n",
              "Name: 92408, dtype: object"
            ]
          },
          "metadata": {},
          "execution_count": 4
        }
      ]
    },
    {
      "cell_type": "code",
      "metadata": {
        "colab": {
          "base_uri": "https://localhost:8080/"
        },
        "id": "LqnGw-HS-SnF",
        "outputId": "34355a17-7b6f-4f64-c403-1627a0df1e98"
      },
      "source": [
        "df.shape"
      ],
      "execution_count": 5,
      "outputs": [
        {
          "output_type": "execute_result",
          "data": {
            "text/plain": [
              "(41832, 10)"
            ]
          },
          "metadata": {},
          "execution_count": 5
        }
      ]
    },
    {
      "cell_type": "code",
      "metadata": {
        "colab": {
          "base_uri": "https://localhost:8080/"
        },
        "id": "wSuk8bXK-QPI",
        "outputId": "007396ea-b67b-4a9a-b42c-a4b82ff8f004"
      },
      "source": [
        "df.dtypes"
      ],
      "execution_count": 6,
      "outputs": [
        {
          "output_type": "execute_result",
          "data": {
            "text/plain": [
              "Hospital_Name     object\n",
              "REGIS_DATE        object\n",
              "REGIS_TIME        object\n",
              "reg_sec            int64\n",
              "Triage Time       object\n",
              "triage_sec         int64\n",
              "Triage_Class      object\n",
              "Age              float64\n",
              "Gender            object\n",
              "Race              object\n",
              "dtype: object"
            ]
          },
          "metadata": {},
          "execution_count": 6
        }
      ]
    },
    {
      "cell_type": "code",
      "metadata": {
        "id": "TbGfWmxX-X_u"
      },
      "source": [
        "df.reset_index(inplace=True)"
      ],
      "execution_count": 7,
      "outputs": []
    },
    {
      "cell_type": "code",
      "metadata": {
        "colab": {
          "base_uri": "https://localhost:8080/"
        },
        "id": "PWD4w7dX-b4m",
        "outputId": "45925f76-973c-494d-84e8-6132dc9d06f5"
      },
      "source": [
        "df.iloc[0] # You can use the traditional row indexing to do indexing"
      ],
      "execution_count": 8,
      "outputs": [
        {
          "output_type": "execute_result",
          "data": {
            "text/plain": [
              "Case                92408\n",
              "Hospital_Name        KTPH\n",
              "REGIS_DATE       7/4/2012\n",
              "REGIS_TIME        9:48:33\n",
              "reg_sec             35313\n",
              "Triage Time       9:58:12\n",
              "triage_sec          35892\n",
              "Triage_Class           P2\n",
              "Age                    40\n",
              "Gender                  M\n",
              "Race              Chinese\n",
              "Name: 0, dtype: object"
            ]
          },
          "metadata": {},
          "execution_count": 8
        }
      ]
    },
    {
      "cell_type": "markdown",
      "metadata": {
        "id": "POXMnsAt4K2m"
      },
      "source": [
        "##### **Task 1**:<br> Do male Singaporeans have preferences over different hospitals to attend in case of an emergency? Please remember to delete the patient visits to (KKH in the dataset KKH is a Women's and Children's hospital.) If an emergency happens, the male patient will basically not be sent to KKH."
      ]
    },
    {
      "cell_type": "markdown",
      "metadata": {
        "id": "CPWyEJHe-osW"
      },
      "source": [
        "* Male Singaporeans"
      ]
    },
    {
      "cell_type": "code",
      "metadata": {
        "id": "YR0TASvY-vLa"
      },
      "source": [
        ""
      ],
      "execution_count": null,
      "outputs": []
    },
    {
      "cell_type": "markdown",
      "metadata": {
        "id": "FczysqAP-sqx"
      },
      "source": [
        "* Female Singaporeans"
      ]
    },
    {
      "cell_type": "code",
      "metadata": {
        "id": "FESOGCkJ-vp8"
      },
      "source": [
        ""
      ],
      "execution_count": null,
      "outputs": []
    },
    {
      "cell_type": "markdown",
      "metadata": {
        "id": "j0LeDRuz4aop"
      },
      "source": [
        "##### **Task 2**:<br>Are the patients’ waiting time distributions similar across different public hospitals?<br>\n",
        "* To find the waiting time, there are two possible scenarios as follows:\n",
        "  1. (Case 1) triage time is larger than registration time (normal cases)\n",
        "  2. (Case 2) the triage will be conducted after midnight. However, the \"sec\" columns are always computed using <code>00:00:00</code> as the origin"
      ]
    },
    {
      "cell_type": "code",
      "metadata": {
        "id": "YcNlp9SY4nYC"
      },
      "source": [
        ""
      ],
      "execution_count": null,
      "outputs": []
    },
    {
      "cell_type": "markdown",
      "metadata": {
        "id": "LrmoLtc9_G58"
      },
      "source": [
        "* Please filter the records with waiting time larger than 300 minutes."
      ]
    },
    {
      "cell_type": "markdown",
      "metadata": {
        "id": "JRkr4EXf4afM"
      },
      "source": [
        "##### **Task 3**:<br>To make a staffing plan, which decides the number of nurses and doctors needed to serve patients, a deep understanding of patient arrivals is crucial. The staffing plan in practice will be made on an hourly basis (24 intervals) every day. Thus, please create a new column, <code>REGIS_HOUR</code> in df. Moreover, the patients’ arrival pattern may vary by the day of a month. Please also create a new column, <code>REGIS_DAY</code> in df."
      ]
    },
    {
      "cell_type": "code",
      "metadata": {
        "id": "HycUBiFT4n8H"
      },
      "source": [
        ""
      ],
      "execution_count": null,
      "outputs": []
    },
    {
      "cell_type": "markdown",
      "metadata": {
        "id": "sHZKU1vd4aWn"
      },
      "source": [
        "##### **Task 4**:<br>Find out the average number of patient arrivals in each hour of a day. To answer this question, we assume the arrival pattern is similar across different days and only utilise the data in 2011."
      ]
    },
    {
      "cell_type": "code",
      "metadata": {
        "id": "vxXCDO2K4owP"
      },
      "source": [
        ""
      ],
      "execution_count": null,
      "outputs": []
    },
    {
      "cell_type": "markdown",
      "metadata": {
        "id": "WH0A6yAy4aLs"
      },
      "source": [
        "##### **Task 5**:<br>The assumption that the arrival pattern is similar across different days is too strong to be true. Let's discuss the weekday effect (including Saturday and Sunday) on the arrival pattern of patients. Please create a <code>WEEKDAY</code> column in df. For example, if a patient's arrival occurred on 01/10/2011, the corresponding value in <code>WEEKDAY</code> column is Saturday."
      ]
    },
    {
      "cell_type": "code",
      "metadata": {
        "id": "Tf6qfAiJ4pR2"
      },
      "source": [
        ""
      ],
      "execution_count": null,
      "outputs": []
    },
    {
      "cell_type": "markdown",
      "metadata": {
        "id": "pQ7Z2QEE4Zh9"
      },
      "source": [
        "##### **Task 6**:<br>Using the <code>WEEKDAY</code> column, please find out the average number of patient arrivals in each hour by weekday categories. Your answer should be a 7-by-24 table."
      ]
    },
    {
      "cell_type": "code",
      "metadata": {
        "id": "A5_dxTSs4pzd"
      },
      "source": [
        ""
      ],
      "execution_count": null,
      "outputs": []
    }
  ]
}