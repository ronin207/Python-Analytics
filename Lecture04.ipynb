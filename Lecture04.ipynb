{
  "nbformat": 4,
  "nbformat_minor": 0,
  "metadata": {
    "colab": {
      "name": "Lecture04.ipynb",
      "provenance": [],
      "authorship_tag": "ABX9TyMrUuF0dHSfu1Q/qv+TCapb",
      "include_colab_link": true
    },
    "kernelspec": {
      "name": "python3",
      "display_name": "Python 3"
    },
    "language_info": {
      "name": "python"
    }
  },
  "cells": [
    {
      "cell_type": "markdown",
      "metadata": {
        "id": "view-in-github",
        "colab_type": "text"
      },
      "source": [
        "<a href=\"https://colab.research.google.com/github/ronin207/Python-Analytics/blob/main/Lecture04.ipynb\" target=\"_parent\"><img src=\"https://colab.research.google.com/assets/colab-badge.svg\" alt=\"Open In Colab\"/></a>"
      ]
    },
    {
      "cell_type": "markdown",
      "metadata": {
        "id": "-YRFDDMp902j"
      },
      "source": [
        "## NUS Python for Analytics Lecture 04\n",
        "\n",
        "#### Functions, Methods and Packages\n",
        "<ul>\n",
        "  <li>Functions (Namespaces, Arguments)</li>\n",
        "  <li>Modules (Numpy)</li>\n",
        "  <li>Numpy for Scientific Calculation</li>\n",
        "</ul>"
      ]
    },
    {
      "cell_type": "markdown",
      "metadata": {
        "id": "JurpMpUE-iTT"
      },
      "source": [
        "#### **Required Assignment: Newsvendor Case (continued)**\n",
        "\n",
        "Questions\n",
        "<ol>\n",
        "  <li>Calculate the expected values of the demands of <code>paper1</code>  and <code>paper2</code> .</li>\n",
        "  <li>Calculate the standard deviation of paper demands expressed as:<br>\n",
        "$𝜎_𝐷=\\sqrt{\\Sigma_{s=1}^S p_s(d_s−𝔼(𝐷_{𝑝𝑎𝑝𝑒𝑟}))^2}$ <br>Display the results with three decimal digits.</li>\n",
        "  <li>Suppose that the costs of <code>paper1</code> and <code>paper2</code> are 0.6 and 0.8, and the selling prices of paper1 and paper2 are 1.00 and 1.15, respectively. Calculate the expected total profit if the newsboy has ordered 430 pieces of <code>paper1</code> and 380 pieces of <code>paper2</code>. Print the results with two decimal digits.\n",
        "  <li>Write a function <code>sold_fun</code> to calculate the expected sold quantities. The input arguments are:\n",
        "  <ul type=\"circle\">\n",
        "    <li>The order quantity as a one-dimensional array order.</li>\n",
        "    <li>The discrete distribution expressed as a two-dimensional array distr.</li>\n",
        "  </ul>\n",
        "  </li>"
      ]
    },
    {
      "cell_type": "markdown",
      "metadata": {
        "id": "zHVgfFGBB1jT"
      },
      "source": [
        "#### **Case Study: A Newsvendor Problem (Array Version)**\n",
        "\n",
        "***Background***: In this case study, we will solve the previous newsvendor problem using NumPy arrays, in order to show the benefits of element-wise operations. The discrete probability distribution is again given as the following table.\n",
        "\n",
        "|           | probabilities | paper1  | paper2   |\n",
        "|-----------|---------------|---------|--------- |\n",
        "Sunny       | 0.315         | 560     | 533      \n",
        "Cloudy      | 0.226         | 530     | 486\n",
        "Raining     | 0.289         | 389     | 386\n",
        "Thunderstorm| 0.087         | 202     | 234\n",
        "Haze        | 0.083         | 278     | 263\n",
        "\n",
        "The table above is expressed by the two-dimensional NumPy array <code>distr</code>."
      ]
    },
    {
      "cell_type": "code",
      "metadata": {
        "colab": {
          "base_uri": "https://localhost:8080/"
        },
        "id": "o3R7m7f-9yYI",
        "outputId": "d35307e0-63d9-4ca2-acfb-cbb09250be5f"
      },
      "source": [
        "import numpy as np\n",
        "\n",
        "distr = np.array([[0.315, 0.226, 0.289, 0.087, 0.083],\n",
        "                  [560, 530, 389, 202, 278],\n",
        "                  [533, 486, 386, 234, 263]])\n",
        "\n",
        "distr"
      ],
      "execution_count": 1,
      "outputs": [
        {
          "output_type": "execute_result",
          "data": {
            "text/plain": [
              "array([[3.15e-01, 2.26e-01, 2.89e-01, 8.70e-02, 8.30e-02],\n",
              "       [5.60e+02, 5.30e+02, 3.89e+02, 2.02e+02, 2.78e+02],\n",
              "       [5.33e+02, 4.86e+02, 3.86e+02, 2.34e+02, 2.63e+02]])"
            ]
          },
          "metadata": {},
          "execution_count": 1
        }
      ]
    },
    {
      "cell_type": "code",
      "metadata": {
        "colab": {
          "base_uri": "https://localhost:8080/"
        },
        "id": "pntGJ6XfCRWT",
        "outputId": "1a5766fc-e3fb-4ca8-92bc-ad9360854533"
      },
      "source": [
        "# Calculating the sum of products between \n",
        "# the probability and demand of each papers (paper1 and paper2) \n",
        "# respective to their categories\n",
        "expected_demand = (distr[0] * distr[1:]).sum(axis=1)\n",
        "expected_demand"
      ],
      "execution_count": 2,
      "outputs": [
        {
          "output_type": "execute_result",
          "data": {
            "text/plain": [
              "array([449.249, 431.472])"
            ]
          },
          "metadata": {},
          "execution_count": 2
        }
      ]
    },
    {
      "cell_type": "code",
      "metadata": {
        "colab": {
          "base_uri": "https://localhost:8080/"
        },
        "id": "6zgyuO_9CwEU",
        "outputId": "08e965c9-1ad3-4d2e-fe27-a5e633704a07"
      },
      "source": [
        "# Using the method to calculate variance,\n",
        "# the array is converted into a 2D array and summed\n",
        "# By sqrt the variance, we obtain the standard_deviation\n",
        "standard_dev = (distr[0] * (distr[1:] - expected_demand.reshape((2, 1))) ** 2).sum(axis=1) ** 0.5\n",
        "standard_dev"
      ],
      "execution_count": 3,
      "outputs": [
        {
          "output_type": "execute_result",
          "data": {
            "text/plain": [
              "array([118.90763222, 101.3157797 ])"
            ]
          },
          "metadata": {},
          "execution_count": 3
        }
      ]
    },
    {
      "cell_type": "code",
      "metadata": {
        "colab": {
          "base_uri": "https://localhost:8080/"
        },
        "id": "__WG3EiEDdno",
        "outputId": "3ee0af0b-1030-4c8a-b674-4f6c2ccae81d"
      },
      "source": [
        "# First declare the array variable for order to store the new information\n",
        "# Using np.minimum, we extract the minimum values to obtain an accurate expected_sold value\n",
        "order = np.array([430, 380])\n",
        "expected_sold = (distr[0] * np.minimum(order.reshape((2, 1)), distr[1:])).sum(axis=1)\n",
        "expected_sold"
      ],
      "execution_count": 4,
      "outputs": [
        {
          "output_type": "execute_result",
          "data": {
            "text/plain": [
              "array([385.699, 357.587])"
            ]
          },
          "metadata": {},
          "execution_count": 4
        }
      ]
    },
    {
      "cell_type": "code",
      "metadata": {
        "colab": {
          "base_uri": "https://localhost:8080/"
        },
        "id": "afTBIV0qEpX0",
        "outputId": "78c25804-87df-4453-dcd1-59c94c74410d"
      },
      "source": [
        "# First declare the array variable for cost and price to store the new informations\n",
        "# price * expected_sold - cost * order and sum the results the get the expected_profit\n",
        "cost = np.array([0.6, 0.8])\n",
        "price = np.array([1.00, 1.15])\n",
        "expected_profit = (price * expected_sold - cost * order).sum()\n",
        "print(\"The Expected Profit is ${0:0.2f}\".format(expected_profit))"
      ],
      "execution_count": 5,
      "outputs": [
        {
          "output_type": "stream",
          "text": [
            "The Expected Profit is $234.92\n"
          ],
          "name": "stdout"
        }
      ]
    },
    {
      "cell_type": "code",
      "metadata": {
        "colab": {
          "base_uri": "https://localhost:8080/"
        },
        "id": "4nZ-YtQJFU8b",
        "outputId": "ff79ca5b-32db-41af-9afa-388d90971ddf"
      },
      "source": [
        "# Create a function sold_fun taking in distr and order variables\n",
        "# Calculate the number of orders from the order array\n",
        "# and reshape according to the number of orders\n",
        "# Perform a similar method from above\n",
        "def sold_fun(distr, order):\n",
        "  order_number = len(order)\n",
        "  expected_sold_values = (distr[0] * np.minimum(order.reshape((order_number, 1)), distr[1:])).sum(axis=1)\n",
        "  return expected_sold_values\n",
        "\n",
        "sold_fun(distr, order)"
      ],
      "execution_count": 6,
      "outputs": [
        {
          "output_type": "execute_result",
          "data": {
            "text/plain": [
              "array([385.699, 357.587])"
            ]
          },
          "metadata": {},
          "execution_count": 6
        }
      ]
    },
    {
      "cell_type": "code",
      "metadata": {
        "id": "v4I0mI_QGCqf"
      },
      "source": [
        ""
      ],
      "execution_count": 6,
      "outputs": []
    }
  ]
}