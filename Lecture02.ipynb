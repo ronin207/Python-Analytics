{
  "nbformat": 4,
  "nbformat_minor": 0,
  "metadata": {
    "colab": {
      "name": "Lecture02.ipynb",
      "provenance": [],
      "collapsed_sections": [],
      "authorship_tag": "ABX9TyODY64Rf7X0i9OqD/fUuUEp",
      "include_colab_link": true
    },
    "kernelspec": {
      "name": "python3",
      "display_name": "Python 3"
    },
    "language_info": {
      "name": "python"
    }
  },
  "cells": [
    {
      "cell_type": "markdown",
      "metadata": {
        "id": "view-in-github",
        "colab_type": "text"
      },
      "source": [
        "<a href=\"https://colab.research.google.com/github/ronin207/Python-Analytics/blob/main/Lecture02.ipynb\" target=\"_parent\"><img src=\"https://colab.research.google.com/assets/colab-badge.svg\" alt=\"Open In Colab\"/></a>"
      ]
    },
    {
      "cell_type": "markdown",
      "metadata": {
        "id": "bydpaoHc-sdg"
      },
      "source": [
        "## NUS Python for Analytics Lecture 02\n",
        "\n",
        "#### Data Type Conversion and Control Flow\n",
        "<ul>\n",
        "  <li>Control Flows with: Strings, Boolean</li>\n",
        "  <li>Conditional Statements</li>\n",
        "  <li>Loops</li>\n",
        "<ul>"
      ]
    },
    {
      "cell_type": "markdown",
      "metadata": {
        "id": "OXMktVJl_rij"
      },
      "source": [
        "#### Self-Study Assignment 2.2: Practising Methods of Strings\n",
        "\n",
        "Write a program to print the initials of a name given by the user.<br> For example, if the given name is 'John Fitzgerald Kennedy',<br> then the printed-out message is 'JFK'."
      ]
    },
    {
      "cell_type": "code",
      "metadata": {
        "colab": {
          "base_uri": "https://localhost:8080/"
        },
        "id": "zzU97IZZ-U62",
        "outputId": "5a29650f-6e3b-4866-94ea-4ef7b087384f"
      },
      "source": [
        "# Collect name input and title. Declare a capitalized_name_input to get all the capitalized letters\n",
        "name_input = str.title(input(\"Insert name here: \"))\n",
        "capitalized_name_input = \"\"\n",
        "\n",
        "# Loop through name_input to find the capitalized letters\n",
        "# Concatenate the capitalized letters\n",
        "for i in name_input:\n",
        "  if i.isupper():\n",
        "    capitalized_name_input += i\n",
        "  elif i == \" \":\n",
        "    continue\n",
        "\n",
        "# Output\n",
        "print(capitalized_name_input)"
      ],
      "execution_count": 8,
      "outputs": [
        {
          "output_type": "stream",
          "text": [
            "Insert name here: John Fitzgerald Kennedy\n",
            "JFK\n"
          ],
          "name": "stdout"
        }
      ]
    },
    {
      "cell_type": "markdown",
      "metadata": {
        "id": "Jref-fONDehN"
      },
      "source": [
        "#### Required Assignment: Applying Python Control Flows\n",
        "\n",
        "Questions\n",
        "\n",
        "<ol>\n",
        "  <li>You may find that the 'Cheerleader' program we discussed in the live session is not yet perfect. One of the most significant flaws is that it gives wrong articles for some of the letters. For example, the correct sentence should be, 'Give me an I', but the program prints 'Give me a I'. We want to correct this mistake in the updated version of the 'Cheerleader' program. Another change is to use upper case when each letter is shouted out. Write a program to incorporate these two changes to the 'Cheerleader' program.<br>\n",
        "<em><strong>Please note</strong>: The usage of the articles 'a' or 'an' depends on how we pronounce a letter. In addition to the vowels (A, E, I and O), other letters that have vowel sounds in pronunciation (such as F, H, L, M, N, R, S and X) also take the article 'an'. The letter U, although a vowel, is pronounced as 'yew' and hence takes the article 'a'.</em></li>\n",
        "  <li>Write a program that asks the user to enter an integer and tells whether the given integer is a palindrome. <strong>Note</strong>: An integer is a palindrome when it reads the same backward as forward. </li>\n",
        "  <li>Given a sentence entered by the user, write a program to identify the number of S's (both upper case and lower case) in the sentence. </li>\n",
        "  <li>Write a number guessing game. In this game, a target integer between one and ninety-nine is given. The user can enter an integer as a guess. If the guess is the same as the given target number, then print 'Bingo!' and stop the program. Otherwise, print 'Your guess is too small' or 'Your guess is too large' as the hint for the next guess and continue the guessing game.</li>\n",
        "</ol>"
      ]
    },
    {
      "cell_type": "code",
      "metadata": {
        "colab": {
          "base_uri": "https://localhost:8080/"
        },
        "id": "kDDwJ-DiD_Jb",
        "outputId": "aec83b3e-cd3d-4fe3-e857-7eb5ab63f4f6"
      },
      "source": [
        "# Question 1\n",
        "\n",
        "# Receive name_input and declare a variable to hold the different vowels.\n",
        "name = input(\"What is your name: \")\n",
        "vowels = 'AEIOFHLMNRSX'\n",
        "\n",
        "# Loop through the name and compare with the vowels in the vowels variable\n",
        "# Output a sentence after each comparison\n",
        "for i in name:\n",
        "  if i == \" \":\n",
        "    continue\n",
        "  \n",
        "  if i.upper() in vowels:\n",
        "    article = \"an\"\n",
        "  else:\n",
        "    article = \"a\"\n",
        "\n",
        "  print(\"Give me {0} {1}\".format(article, i.upper()))\n",
        "  print(\"{0}!!!\".format(i.upper()))\n",
        "\n",
        "# After looping through the code completely\n",
        "# Output any remaining statements\n",
        "print(\"What's that spell?\")\n",
        "print(\"{0}!!\".format(name))\n",
        "print(\"Go! Go! {0}!!\".format(name))"
      ],
      "execution_count": 9,
      "outputs": [
        {
          "output_type": "stream",
          "text": [
            "What is your name: Stephen Curry\n",
            "Give me an S\n",
            "S!!!\n",
            "Give me a T\n",
            "T!!!\n",
            "Give me an E\n",
            "E!!!\n",
            "Give me a P\n",
            "P!!!\n",
            "Give me an H\n",
            "H!!!\n",
            "Give me an E\n",
            "E!!!\n",
            "Give me an N\n",
            "N!!!\n",
            "Give me a C\n",
            "C!!!\n",
            "Give me a U\n",
            "U!!!\n",
            "Give me an R\n",
            "R!!!\n",
            "Give me an R\n",
            "R!!!\n",
            "Give me a Y\n",
            "Y!!!\n",
            "What's that spell?\n",
            "Stephen Curry!!\n",
            "Go! Go! Stephen Curry!!\n"
          ],
          "name": "stdout"
        }
      ]
    },
    {
      "cell_type": "code",
      "metadata": {
        "colab": {
          "base_uri": "https://localhost:8080/"
        },
        "id": "eVPee192H0Gh",
        "outputId": "c13b5d78-8fea-4119-87a3-de037a3c16d6"
      },
      "source": [
        "# Question 2\n",
        "\n",
        "# Receives an integer input\n",
        "number_input = int(input(\"Let's check if your number is a palindrome: \"))\n",
        "\n",
        "# Converting the integer to string, we can then reverse the number_input\n",
        "string_number_input = str(number_input)\n",
        "reversed_string_number_input = string_number_input[::-1]\n",
        "\n",
        "# Checks to see if the number_input is the same as it's reversed\n",
        "# Output the comparison!\n",
        "if string_number_input == reversed_string_number_input:\n",
        "  print(\"{0} is a palindrome!\".format(string_number_input))\n",
        "else:\n",
        "  print(\"{0} is not a palindrome!\".format(string_number_input))"
      ],
      "execution_count": 10,
      "outputs": [
        {
          "output_type": "stream",
          "text": [
            "Let's check if your number is a palindrome: 35\n",
            "35 is not a palindrome!\n"
          ],
          "name": "stdout"
        }
      ]
    },
    {
      "cell_type": "code",
      "metadata": {
        "colab": {
          "base_uri": "https://localhost:8080/"
        },
        "id": "f-399sNOH0aA",
        "outputId": "91b88f1c-a2be-4a9e-facf-e945c616e610"
      },
      "source": [
        "# Question 3\n",
        "\n",
        "# Receives a sentence input and declare total_s variable to get the number of s/S\n",
        "sentence_input = input(\"Enter a sentence: \")\n",
        "total_s = 0\n",
        "\n",
        "# Loop through sentence_input to find s/S\n",
        "# Increment total_s for every successful find!\n",
        "for i in sentence_input:\n",
        "  if (i == \"s\".upper()) or (i == \"s\".lower()):\n",
        "    total_s += 1\n",
        "  else:\n",
        "    continue\n",
        "\n",
        "# Output\n",
        "print(\"The number of S's (both upper case and lower case) is {0}\".format(total_s))"
      ],
      "execution_count": 11,
      "outputs": [
        {
          "output_type": "stream",
          "text": [
            "Enter a sentence: Hi! It's sunny outside\n",
            "The number of S's (both upper case and lower case) is 3\n"
          ],
          "name": "stdout"
        }
      ]
    },
    {
      "cell_type": "code",
      "metadata": {
        "colab": {
          "base_uri": "https://localhost:8080/"
        },
        "id": "EuIwr_yVH0vV",
        "outputId": "6e695310-bced-4499-f7b0-615c0178d513"
      },
      "source": [
        "# Question 4\n",
        "\n",
        "# Target Number is Given from a range of 1 ~ 99. Receive a guess_number between 1 and 99\n",
        "target_number = 37\n",
        "guess_number = int(input(\"Guess a number between 1 and 99: \"))\n",
        "\n",
        "# Loop while guess_number is not equal to target_number\n",
        "while guess_number != target_number:\n",
        "  print(\"Continue guessing: \")\n",
        "\n",
        "  # Perform conditional checks to determine if the guess_number is less than / more than / equal to the target number.\n",
        "  # Output\n",
        "  if guess_number == target_number:\n",
        "    print(\"Bingo!\")\n",
        "    break\n",
        "  elif guess_number < target_number:\n",
        "    print(\"Your guess is too small.\")\n",
        "    guess_number = int(input(\"Guess a number between 1 and 99: \"))\n",
        "  elif guess_number > target_number:\n",
        "    print(\"You guess is too large.\")\n",
        "    guess_number = int(input(\"Guess a number between 1 and 99: \"))"
      ],
      "execution_count": 12,
      "outputs": [
        {
          "output_type": "stream",
          "text": [
            "Guess a number between 1 and 99: 1\n",
            "Continue guessing: \n",
            "Your guess is too small.\n",
            "Guess a number between 1 and 99: 99\n",
            "Continue guessing: \n",
            "You guess is too large.\n",
            "Guess a number between 1 and 99: 37\n"
          ],
          "name": "stdout"
        }
      ]
    }
  ]
}