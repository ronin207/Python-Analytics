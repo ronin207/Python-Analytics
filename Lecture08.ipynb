{
  "nbformat": 4,
  "nbformat_minor": 0,
  "metadata": {
    "colab": {
      "name": "Lecture08.ipynb",
      "provenance": [],
      "authorship_tag": "ABX9TyNS5sMcbx+F9FnNPhjJuD31",
      "include_colab_link": true
    },
    "kernelspec": {
      "name": "python3",
      "display_name": "Python 3"
    },
    "language_info": {
      "name": "python"
    }
  },
  "cells": [
    {
      "cell_type": "markdown",
      "metadata": {
        "id": "view-in-github",
        "colab_type": "text"
      },
      "source": [
        "<a href=\"https://colab.research.google.com/github/ronin207/Python-Analytics/blob/main/Lecture08.ipynb\" target=\"_parent\"><img src=\"https://colab.research.google.com/assets/colab-badge.svg\" alt=\"Open In Colab\"/></a>"
      ]
    },
    {
      "cell_type": "markdown",
      "metadata": {
        "id": "Ox8QE0k9bv1L"
      },
      "source": [
        "## **NUS Python for Analytics**\n",
        "\n",
        "#### **Descriptive Analytics with Data Visualisation**\n",
        "* Data Visualisation using Packages\n",
        "* Basic Visualisation Techniques\n",
        "* Time Trends"
      ]
    },
    {
      "cell_type": "markdown",
      "metadata": {
        "id": "gUqSTxnQdCsj"
      },
      "source": [
        "#### **Self-Study Assignment: Revisiting the Singapore Healthcare Case Study**\n",
        "\n",
        "Questions:\n",
        "1. Do male Singaporeans have preferences over different hospitals to attend in case of an emergency? Find the pattern for female Singaporeans and draw a visualisation to convey your findings effectively.\n",
        "2. Are the patients’ waiting time distributions similar across different public hospitals? Draw a line chart to compare the median waiting time across different public hospitals.\n",
        "3. To make a staffing plan, which decides the number of nurses and doctors needed to serve patients, a deep understanding of patient arrivals is crucial. The staffing plan in practice will be made on an hourly basis (24 intervals) every day. Create a new column, <code>REGIS_HOUR</code> in df. Moreover, the patients’ arrival pattern may vary by the day of a month. Also create a new column, <code>REGIS_DAY</code> in df.\n",
        "4. Find out the average number of patient arrivals in each hour of a day. 5. Draw a line chart to show the hourly trend of patient arrivals in Singapore's public hospitals. What conclusion can you draw from your chart?\n",
        "5. The assumption that the arrival pattern is similar across different days is too strong to be true. Let's discuss the daily effect (including Saturday and Sunday) on the arrival pattern of patients. Create a <code>WEEKDAY</code> column in df. For example, if a patient's arrival occurred on 01/10/2011, the corresponding value in <code>WEEKDAY</code> column would be Saturday.\n",
        "6. With the <code>WEEKDAY</code> column, find the average number of patient arrivals in each hour by daily categories. Your answer should be a 7-by-24 table.\n",
        "7. Using the result of Task 1-6, draw a chart to show the hourly trend of patient arrivals in Singapore's public hospitals by different days of the week. What conclusion can you draw from your chart?"
      ]
    },
    {
      "cell_type": "markdown",
      "metadata": {
        "id": "488BW4q8ig2t"
      },
      "source": [
        "##### **Task 1**:<br>\n",
        "Do male Singaporeans have preferences over different hospitals to attend in case of an emergency? Find the pattern for female Singaporeans and draw a visualisation to convey your findings effectively."
      ]
    },
    {
      "cell_type": "code",
      "metadata": {
        "id": "KAUR74f3aU11"
      },
      "source": [
        ""
      ],
      "execution_count": null,
      "outputs": []
    },
    {
      "cell_type": "markdown",
      "metadata": {
        "id": "dMP1pMmAiiqE"
      },
      "source": [
        "##### **Task 2**:<br>\n",
        "Are the patients’ waiting time distributions similar across different public hospitals? Draw a line chart to compare the median waiting time across different public hospitals."
      ]
    },
    {
      "cell_type": "code",
      "metadata": {
        "id": "va_f67lfijLj"
      },
      "source": [
        ""
      ],
      "execution_count": null,
      "outputs": []
    },
    {
      "cell_type": "markdown",
      "metadata": {
        "id": "F18uigKrijhe"
      },
      "source": [
        "##### **Task 3**:<br>\n",
        "To make a staffing plan, which decides the number of nurses and doctors needed to serve patients, a deep understanding of patient arrivals is crucial. The staffing plan in practice will be made on an hourly basis (24 intervals) every day. Create a new column, <code>REGIS_HOUR</code> in df. Moreover, the patients’ arrival pattern may vary by the day of a month. Also create a new column, <code>REGIS_DAY</code> in df."
      ]
    },
    {
      "cell_type": "code",
      "metadata": {
        "id": "v7mxQP8kikFk"
      },
      "source": [
        ""
      ],
      "execution_count": null,
      "outputs": []
    },
    {
      "cell_type": "markdown",
      "metadata": {
        "id": "v94EsoHVilrm"
      },
      "source": [
        "##### **Task 4**:<br>\n",
        "Find out the average number of patient arrivals in each hour of a day. 5. Draw a line chart to show the hourly trend of patient arrivals in Singapore's public hospitals. What conclusion can you draw from your chart?"
      ]
    },
    {
      "cell_type": "code",
      "metadata": {
        "id": "ehq8S57Cil-e"
      },
      "source": [
        ""
      ],
      "execution_count": null,
      "outputs": []
    },
    {
      "cell_type": "markdown",
      "metadata": {
        "id": "nXKNWYvqimO3"
      },
      "source": [
        "##### **Task 5**:<br>\n",
        "The assumption that the arrival pattern is similar across different days is too strong to be true. Let's discuss the daily effect (including Saturday and Sunday) on the arrival pattern of patients. Create a <code>WEEKDAY</code> column in df. For example, if a patient's arrival occurred on 01/10/2011, the corresponding value in <code>WEEKDAY</code> column would be Saturday."
      ]
    },
    {
      "cell_type": "code",
      "metadata": {
        "id": "s1gSnYnHimpC"
      },
      "source": [
        ""
      ],
      "execution_count": null,
      "outputs": []
    },
    {
      "cell_type": "markdown",
      "metadata": {
        "id": "dt3tneVaim6W"
      },
      "source": [
        "##### **Task 6**:<br>\n",
        "With the <code>WEEKDAY</code> column, find the average number of patient arrivals in each hour by daily categories. Your answer should be a 7-by-24 table."
      ]
    },
    {
      "cell_type": "code",
      "metadata": {
        "id": "8VM5Oo3rinRQ"
      },
      "source": [
        ""
      ],
      "execution_count": null,
      "outputs": []
    },
    {
      "cell_type": "markdown",
      "metadata": {
        "id": "xzKW-BVdinkU"
      },
      "source": [
        "##### **Task 7**:<br>\n",
        "Using the result of Task 1-6, draw a chart to show the hourly trend of patient arrivals in Singapore's public hospitals by different days of the week. What conclusion can you draw from your chart?"
      ]
    },
    {
      "cell_type": "code",
      "metadata": {
        "id": "BipJSfFhin4W"
      },
      "source": [
        ""
      ],
      "execution_count": null,
      "outputs": []
    },
    {
      "cell_type": "markdown",
      "metadata": {
        "id": "SUs9F8ONeySz"
      },
      "source": [
        "#### **Required Assignment: Case Study - Condo Market in Singapore**\n",
        "\n",
        "* Analyse the condo prices and market in Singapore using data visualisation to explore the price differences between resale and new condos\n",
        "\n",
        "1. Explore the price differences between resale and new condos.\n",
        "2. Explore the relationship between the condo area and the condo type.\n",
        "3. Explore the relationship between the condo area and the condo price.\n",
        "4. Explore the ways of controlling for the confounding effect of the area of a condo in the analysis.\n",
        "5. Explore the relationship between condo price and condo type, controlling for the condo area.\n"
      ]
    },
    {
      "cell_type": "markdown",
      "metadata": {
        "id": "MPmiumiMjb07"
      },
      "source": [
        "##### **Task 1**:<br>\n",
        "Explore the price differences between resale and new condos.\n"
      ]
    },
    {
      "cell_type": "code",
      "metadata": {
        "id": "gHjrDIaQj3gN"
      },
      "source": [
        ""
      ],
      "execution_count": null,
      "outputs": []
    },
    {
      "cell_type": "markdown",
      "metadata": {
        "id": "_nR_hezQjbi7"
      },
      "source": [
        "##### **Task 2**:<br>\n",
        "Explore the relationship between the condo area and the condo type."
      ]
    },
    {
      "cell_type": "code",
      "metadata": {
        "id": "79MBjtQ6j3_W"
      },
      "source": [
        ""
      ],
      "execution_count": null,
      "outputs": []
    },
    {
      "cell_type": "markdown",
      "metadata": {
        "id": "morRLChmjbbS"
      },
      "source": [
        "##### **Task 3**:<br>\n",
        "Explore the relationship between the condo area and the condo price."
      ]
    },
    {
      "cell_type": "code",
      "metadata": {
        "id": "1xzW9psCj4jZ"
      },
      "source": [
        ""
      ],
      "execution_count": null,
      "outputs": []
    },
    {
      "cell_type": "markdown",
      "metadata": {
        "id": "uUu0kRtdjbUz"
      },
      "source": [
        "##### **Task 4**:<br>\n",
        "Explore the ways of controlling for the confounding effect of the area of a condo in the analysis."
      ]
    },
    {
      "cell_type": "code",
      "metadata": {
        "id": "V_eOzbycj5DJ"
      },
      "source": [
        ""
      ],
      "execution_count": null,
      "outputs": []
    },
    {
      "cell_type": "markdown",
      "metadata": {
        "id": "DBuGhgNjjbOv"
      },
      "source": [
        "##### **Task 5**:<br>\n",
        "Explore the relationship between condo price and condo type, controlling for the condo area."
      ]
    },
    {
      "cell_type": "code",
      "metadata": {
        "id": "A6wIZEWZieuk"
      },
      "source": [
        ""
      ],
      "execution_count": null,
      "outputs": []
    }
  ]
}