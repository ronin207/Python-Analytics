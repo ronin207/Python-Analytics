{
  "nbformat": 4,
  "nbformat_minor": 0,
  "metadata": {
    "colab": {
      "name": "Lecture07.ipynb",
      "provenance": [],
      "authorship_tag": "ABX9TyMIAB65YcXgZjDELK55AHQe",
      "include_colab_link": true
    },
    "kernelspec": {
      "name": "python3",
      "display_name": "Python 3"
    },
    "language_info": {
      "name": "python"
    }
  },
  "cells": [
    {
      "cell_type": "markdown",
      "metadata": {
        "id": "view-in-github",
        "colab_type": "text"
      },
      "source": [
        "<a href=\"https://colab.research.google.com/github/ronin207/Python-Analytics/blob/main/Lecture07.ipynb\" target=\"_parent\"><img src=\"https://colab.research.google.com/assets/colab-badge.svg\" alt=\"Open In Colab\"/></a>"
      ]
    },
    {
      "cell_type": "markdown",
      "metadata": {
        "id": "EDVhkVMFbwUN"
      },
      "source": [
        "## **NUS Python for Analytics**\n",
        "\n",
        "#### **Descriptive Analytics with Numerical Summary**\n",
        "* Introduction to Descriptive Analytics\n",
        "* Advanced Data manipulation using Pandas\n",
        "* Group-Wise Operation: Aggregation, Transformation and Filtration"
      ]
    },
    {
      "cell_type": "markdown",
      "metadata": {
        "id": "iszgu980fMMg"
      },
      "source": [
        "#### **Required Assignment: Applying Group-Wise Operations using Pandas**"
      ]
    },
    {
      "cell_type": "code",
      "metadata": {
        "id": "bvp8CT7yaQcF"
      },
      "source": [
        ""
      ],
      "execution_count": null,
      "outputs": []
    }
  ]
}