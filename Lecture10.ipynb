{
  "nbformat": 4,
  "nbformat_minor": 0,
  "metadata": {
    "colab": {
      "name": "Lecture10.ipynb",
      "provenance": [],
      "authorship_tag": "ABX9TyOQjtSn4mUtYU6ynoACT00h",
      "include_colab_link": true
    },
    "kernelspec": {
      "name": "python3",
      "display_name": "Python 3"
    },
    "language_info": {
      "name": "python"
    }
  },
  "cells": [
    {
      "cell_type": "markdown",
      "metadata": {
        "id": "view-in-github",
        "colab_type": "text"
      },
      "source": [
        "<a href=\"https://colab.research.google.com/github/ronin207/Python-Analytics/blob/main/Lecture10.ipynb\" target=\"_parent\"><img src=\"https://colab.research.google.com/assets/colab-badge.svg\" alt=\"Open In Colab\"/></a>"
      ]
    },
    {
      "cell_type": "markdown",
      "metadata": {
        "id": "GBaMivptf-Ac"
      },
      "source": [
        "## **NUS Python for Analytics**\n",
        "\n",
        "* Distributions on SciPy\n",
        "* Sampling Distributions and Decision Analysis\n",
        "* Probability Calculations with SciPy"
      ]
    },
    {
      "cell_type": "markdown",
      "metadata": {
        "id": "eL-93C06f96w"
      },
      "source": [
        "#### **Self-Study Assignment: Decision-Analysis Case Study - David's Decision Problem**\n",
        "\n",
        "David Tan, a second-year MBA student at NUS Business School, faces a challenge. He has three potential offers, and he needs to make a decision that will be the best for him:\n",
        "\n",
        "* An excellent job offer from a top management consulting firm\n",
        "* A different career path to start his own restaurant, Dallas Restaurant and Bar\n",
        "* An unusual partnership offer from his aunt who is also a restaurant owner\n",
        "\n",
        "In this discussion, you will analyse David's offers and help him make the right choice by performing a decision analysis using a random variable simulation.\n",
        "\n",
        "Questions: \n",
        "<br>Share your findings with your peers on the following questions:\n",
        "\n",
        "1. Please refer to `Demand_new.csv`. In this data file, a sample of the monthly meals sold at a similar restaurant was recorded. From the sample data, please propose a possible probability distribution for the monthly meals sold to assist with David's decision-making.\n",
        "2. With the assumptions made on the number of meals sold (per month), the revenue per meal and the labour costs of the restaurant, please simulate the possible probability distribution for the monthly revenue of the Dallas Restaurant and Bar.\n",
        "3. With the partnership condition, please simulate the possible probability distribution for the monthly revenue David can earn.\n",
        "4. If you are David, what will be your best decision? Please provide any visualisation or numerical evidence to support your conclusion."
      ]
    },
    {
      "cell_type": "markdown",
      "metadata": {
        "id": "PEcT0WgqkTsU"
      },
      "source": [
        "##### **Task 1**:<br>\n",
        "Please refer to `Demand_new.csv`. In this data file, a sample of the monthly meals sold at a similar restaurant was recorded. From the sample data, please propose a possible probability distribution for the monthly meals sold to assist with David's decision-making."
      ]
    },
    {
      "cell_type": "code",
      "metadata": {
        "id": "OpSdrguYkp2z"
      },
      "source": [
        ""
      ],
      "execution_count": null,
      "outputs": []
    },
    {
      "cell_type": "markdown",
      "metadata": {
        "id": "jvof_km-kTkE"
      },
      "source": [
        "##### **Task 2**:<br>\n",
        "With the assumptions made on the number of meals sold (per month), the revenue per meal and the labour costs of the restaurant, please simulate the possible probability distribution for the monthly revenue of the Dallas Restaurant and Bar."
      ]
    },
    {
      "cell_type": "code",
      "metadata": {
        "id": "FkfbXmrpkpot"
      },
      "source": [
        ""
      ],
      "execution_count": null,
      "outputs": []
    },
    {
      "cell_type": "markdown",
      "metadata": {
        "id": "AyO2i1RXkTcA"
      },
      "source": [
        "##### **Task 3**:<br>\n",
        "With the partnership condition, please simulate the possible probability distribution for the monthly revenue David can earn."
      ]
    },
    {
      "cell_type": "code",
      "metadata": {
        "id": "IdnHpeaCkpWV"
      },
      "source": [
        ""
      ],
      "execution_count": null,
      "outputs": []
    },
    {
      "cell_type": "markdown",
      "metadata": {
        "id": "a5_B7vhFkS4e"
      },
      "source": [
        "##### **Task 4**:<br>\n",
        "If you are David, what will be your best decision? Please provide any visualisation or numerical evidence to support your conclusion."
      ]
    },
    {
      "cell_type": "code",
      "metadata": {
        "id": "eT0PMM1_acXh"
      },
      "source": [
        ""
      ],
      "execution_count": null,
      "outputs": []
    },
    {
      "cell_type": "markdown",
      "metadata": {
        "id": "EQB451zQf-ml"
      },
      "source": [
        "#### **Required Assignment: Sampling Case Study - Monthly Salary Distribution of Taiwanese Employees**\n",
        "\n",
        "* Analyse the sampling distribution of the monthly salary of full-time Taiwanese employees using SciPy random simulation\n",
        "\n",
        "Questions:\n",
        "1. Please use Python to obtain a random sample of size 200 and estimate the sample median monthly salary.\n",
        "2. Please perform repeated random sampling of size 200 from the Taiwanese population and estimate the sampling distribution of the sample median monthly salary. (The sampling distribution must be constructed with 5000 repeated sampling outcomes and you need to visualize the sampling distribution simulated as your answers).\n",
        "3. Please repeat your repeated sampling, but now you need to increase the sample size from 200 to 500 and 1000. Comment on the shape of the sampling distribution of the median monthly salary. When the sample size increases, is the sampling distribution of the median monthly salary approaching a normal distribution? (Please draw a panel of histograms to present your visualization)."
      ]
    },
    {
      "cell_type": "markdown",
      "metadata": {
        "id": "_17nuyg7j9Jm"
      },
      "source": [
        "##### **Task 1**:<br>\n",
        "Please use Python to obtain a random sample of size 200 and estimate the sample median monthly salary."
      ]
    },
    {
      "cell_type": "code",
      "metadata": {
        "id": "qN-xsAY4hbz1"
      },
      "source": [
        ""
      ],
      "execution_count": null,
      "outputs": []
    },
    {
      "cell_type": "markdown",
      "metadata": {
        "id": "UL01iY4oj9kq"
      },
      "source": [
        "##### **Task 2**:<br>\n",
        "Please perform repeated random sampling of size 200 from the Taiwanese population and estimate the sampling distribution of the sample median monthly salary. (The sampling distribution must be constructed with 5000 repeated sampling outcomes and you need to visualize the sampling distribution simulated as your answers)."
      ]
    },
    {
      "cell_type": "code",
      "metadata": {
        "id": "UsuJmSfwj94b"
      },
      "source": [
        ""
      ],
      "execution_count": null,
      "outputs": []
    },
    {
      "cell_type": "markdown",
      "metadata": {
        "id": "cBiw9wKuj-UJ"
      },
      "source": [
        "##### **Task 3**:<br>\n",
        "Please repeat your repeated sampling, but now you need to increase the sample size from 200 to 500 and 1000. Comment on the shape of the sampling distribution of the median monthly salary. When the sample size increases, is the sampling distribution of the median monthly salary approaching a normal distribution? (Please draw a panel of histograms to present your visualization)."
      ]
    },
    {
      "cell_type": "code",
      "metadata": {
        "id": "87aOXSH6j-u8"
      },
      "source": [
        ""
      ],
      "execution_count": null,
      "outputs": []
    }
  ]
}