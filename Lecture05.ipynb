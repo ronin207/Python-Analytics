{
  "nbformat": 4,
  "nbformat_minor": 0,
  "metadata": {
    "colab": {
      "name": "Lecture05.ipynb",
      "provenance": [],
      "authorship_tag": "ABX9TyPGxRnjhx/ZnT+rz26F/iVW",
      "include_colab_link": true
    },
    "kernelspec": {
      "name": "python3",
      "display_name": "Python 3"
    },
    "language_info": {
      "name": "python"
    }
  },
  "cells": [
    {
      "cell_type": "markdown",
      "metadata": {
        "id": "view-in-github",
        "colab_type": "text"
      },
      "source": [
        "<a href=\"https://colab.research.google.com/github/ronin207/Python-Analytics/blob/main/Lecture05.ipynb\" target=\"_parent\"><img src=\"https://colab.research.google.com/assets/colab-badge.svg\" alt=\"Open In Colab\"/></a>"
      ]
    },
    {
      "cell_type": "markdown",
      "metadata": {
        "id": "Ke9eSDKxNmef"
      },
      "source": [
        "## **NUS Python for Analytics Lecture 05**\n",
        "\n",
        "Reinforce Lectures 01 - 04 foundational knowledge through these 36 exercises.\n"
      ]
    },
    {
      "cell_type": "code",
      "metadata": {
        "colab": {
          "base_uri": "https://localhost:8080/"
        },
        "id": "-wbAQKGcNS2A",
        "outputId": "5d61f0d5-c969-4a3d-8114-335f9201c566"
      },
      "source": [
        "!pip install exbook"
      ],
      "execution_count": 1,
      "outputs": [
        {
          "output_type": "stream",
          "text": [
            "Requirement already satisfied: exbook in /usr/local/lib/python3.7/dist-packages (0.0.3)\n"
          ],
          "name": "stdout"
        }
      ]
    },
    {
      "cell_type": "code",
      "metadata": {
        "colab": {
          "base_uri": "https://localhost:8080/"
        },
        "id": "jPJ_uv81NpLl",
        "outputId": "211de5fe-88bc-4417-a888-a8be8d894eb9"
      },
      "source": [
        "from exbook import book as eb\n",
        "len(eb)"
      ],
      "execution_count": 2,
      "outputs": [
        {
          "output_type": "execute_result",
          "data": {
            "text/plain": [
              "36"
            ]
          },
          "metadata": {},
          "execution_count": 2
        }
      ]
    },
    {
      "cell_type": "code",
      "metadata": {
        "colab": {
          "base_uri": "https://localhost:8080/",
          "height": 199
        },
        "id": "kqAaXiLqNw-w",
        "outputId": "7ef6027e-a459-4f41-db69-62e9d798de19"
      },
      "source": [
        "print(eb[0])"
      ],
      "execution_count": 3,
      "outputs": [
        {
          "output_type": "stream",
          "text": [
            "Define a function with two strings to be the input arguments. The output is \n",
            "the summation of the numerical values of the input strings. For example, if \n",
            "the input strings are \"3.5\"and \"2.7\", then the output is 6.2, as a floating\n",
            "point number.\n"
          ],
          "name": "stdout"
        },
        {
          "output_type": "display_data",
          "data": {
            "text/html": [
              "<div>\n",
              "<style scoped>\n",
              "    .dataframe tbody tr th:only-of-type {\n",
              "        vertical-align: middle;\n",
              "    }\n",
              "\n",
              "    .dataframe tbody tr th {\n",
              "        vertical-align: top;\n",
              "    }\n",
              "\n",
              "    .dataframe thead th {\n",
              "        text-align: right;\n",
              "    }\n",
              "</style>\n",
              "<table border=\"1\" class=\"dataframe\">\n",
              "  <thead>\n",
              "    <tr style=\"text-align: right;\">\n",
              "      <th></th>\n",
              "      <th>Input1: str</th>\n",
              "      <th>Input2: str</th>\n",
              "      <th>Output: float</th>\n",
              "    </tr>\n",
              "  </thead>\n",
              "  <tbody>\n",
              "    <tr>\n",
              "      <th>Test 1:</th>\n",
              "      <td>3.5</td>\n",
              "      <td>2.7</td>\n",
              "      <td>6.2</td>\n",
              "    </tr>\n",
              "  </tbody>\n",
              "</table>\n",
              "</div>"
            ],
            "text/plain": [
              "        Input1: str Input2: str Output: float\n",
              "Test 1:         3.5         2.7           6.2"
            ]
          },
          "metadata": {}
        },
        {
          "output_type": "stream",
          "text": [
            "\n",
            "\u001b[1mData Type Conversion: Easy\u001b[0;0m \n",
            "\n"
          ],
          "name": "stdout"
        }
      ]
    },
    {
      "cell_type": "code",
      "metadata": {
        "colab": {
          "base_uri": "https://localhost:8080/"
        },
        "id": "S4gtomfFOmwp",
        "outputId": "bd1d8c4b-5ec9-4549-e914-52efb5ef314d"
      },
      "source": [
        "def string_integer_conversion(string1, string2):\n",
        "  \n",
        "  # Converts 2 strings into floats before adding them together\n",
        "  string_integer_sum = float(string1) + float(string2)\n",
        "  \n",
        "  return string_integer_sum\n",
        "\n",
        "string_integer_conversion(\"3.5\", \"2.7\")"
      ],
      "execution_count": 4,
      "outputs": [
        {
          "output_type": "execute_result",
          "data": {
            "text/plain": [
              "6.2"
            ]
          },
          "metadata": {},
          "execution_count": 4
        }
      ]
    },
    {
      "cell_type": "code",
      "metadata": {
        "colab": {
          "base_uri": "https://localhost:8080/",
          "height": 176
        },
        "id": "ai4IFkQ4MIhP",
        "outputId": "1a1d6b96-4d12-4e69-c708-9c7e49b1b8f2"
      },
      "source": [
        "eb[0].check(string_integer_conversion, cheat=True)"
      ],
      "execution_count": 5,
      "outputs": [
        {
          "output_type": "display_data",
          "data": {
            "text/html": [
              "<div>\n",
              "<style scoped>\n",
              "    .dataframe tbody tr th:only-of-type {\n",
              "        vertical-align: middle;\n",
              "    }\n",
              "\n",
              "    .dataframe tbody tr th {\n",
              "        vertical-align: top;\n",
              "    }\n",
              "\n",
              "    .dataframe thead th {\n",
              "        text-align: right;\n",
              "    }\n",
              "</style>\n",
              "<table border=\"1\" class=\"dataframe\">\n",
              "  <thead>\n",
              "    <tr style=\"text-align: right;\">\n",
              "      <th></th>\n",
              "      <th>Input 1: str</th>\n",
              "      <th>Input 2: str</th>\n",
              "      <th>Your output</th>\n",
              "      <th>Correct output: float</th>\n",
              "      <th>Correct</th>\n",
              "    </tr>\n",
              "  </thead>\n",
              "  <tbody>\n",
              "    <tr>\n",
              "      <th>Test 1:</th>\n",
              "      <td>3.5</td>\n",
              "      <td>2.7</td>\n",
              "      <td>6.2</td>\n",
              "      <td>6.2</td>\n",
              "      <td>True</td>\n",
              "    </tr>\n",
              "    <tr>\n",
              "      <th>Test 2:</th>\n",
              "      <td>1.2</td>\n",
              "      <td>5</td>\n",
              "      <td>6.2</td>\n",
              "      <td>6.2</td>\n",
              "      <td>True</td>\n",
              "    </tr>\n",
              "    <tr>\n",
              "      <th>Test 3:</th>\n",
              "      <td>2</td>\n",
              "      <td>4</td>\n",
              "      <td>6.0</td>\n",
              "      <td>6</td>\n",
              "      <td>True</td>\n",
              "    </tr>\n",
              "  </tbody>\n",
              "</table>\n",
              "</div>"
            ],
            "text/plain": [
              "        Input 1: str Input 2: str Your output Correct output: float Correct\n",
              "Test 1:          3.5          2.7         6.2                   6.2    True\n",
              "Test 2:          1.2            5         6.2                   6.2    True\n",
              "Test 3:            2            4         6.0                     6    True"
            ]
          },
          "metadata": {}
        },
        {
          "output_type": "stream",
          "text": [
            "You passed 3 of the 3 tests. \n",
            "The solution is correct\n"
          ],
          "name": "stdout"
        }
      ]
    },
    {
      "cell_type": "code",
      "metadata": {
        "colab": {
          "base_uri": "https://localhost:8080/",
          "height": 230
        },
        "id": "eTw7MIKuN2ck",
        "outputId": "3b90d126-db3a-435f-e735-9aefe464ffef"
      },
      "source": [
        "print(eb[1])"
      ],
      "execution_count": 6,
      "outputs": [
        {
          "output_type": "stream",
          "text": [
            "Write a function to determine whether an integer is a palindrome. An integer \n",
            "is a palindrome when it reads the same backward as forward. For example, \n",
            "121 is a palindrome so the output is True, 10 is not a palindrome so the\n",
            "output is False.\n"
          ],
          "name": "stdout"
        },
        {
          "output_type": "display_data",
          "data": {
            "text/html": [
              "<div>\n",
              "<style scoped>\n",
              "    .dataframe tbody tr th:only-of-type {\n",
              "        vertical-align: middle;\n",
              "    }\n",
              "\n",
              "    .dataframe tbody tr th {\n",
              "        vertical-align: top;\n",
              "    }\n",
              "\n",
              "    .dataframe thead th {\n",
              "        text-align: right;\n",
              "    }\n",
              "</style>\n",
              "<table border=\"1\" class=\"dataframe\">\n",
              "  <thead>\n",
              "    <tr style=\"text-align: right;\">\n",
              "      <th></th>\n",
              "      <th>Input1: int</th>\n",
              "      <th>Output: bool</th>\n",
              "    </tr>\n",
              "  </thead>\n",
              "  <tbody>\n",
              "    <tr>\n",
              "      <th>Test 1:</th>\n",
              "      <td>151</td>\n",
              "      <td>True</td>\n",
              "    </tr>\n",
              "    <tr>\n",
              "      <th>Test 2:</th>\n",
              "      <td>-5</td>\n",
              "      <td>False</td>\n",
              "    </tr>\n",
              "  </tbody>\n",
              "</table>\n",
              "</div>"
            ],
            "text/plain": [
              "        Input1: int Output: bool\n",
              "Test 1:         151         True\n",
              "Test 2:          -5        False"
            ]
          },
          "metadata": {}
        },
        {
          "output_type": "stream",
          "text": [
            "\n",
            "\u001b[1mPalindrome: Easy\u001b[0;0m \n",
            "\n"
          ],
          "name": "stdout"
        }
      ]
    },
    {
      "cell_type": "code",
      "metadata": {
        "colab": {
          "base_uri": "https://localhost:8080/"
        },
        "id": "XSm9OlrTP0ve",
        "outputId": "3e9dbf67-ae10-46a3-897c-3cd9a2788ccd"
      },
      "source": [
        "def palindrome(test_number):\n",
        "  \n",
        "  # Declare and assign the string type of test_number before reversing\n",
        "  string_test_number = str(test_number)\n",
        "  string_test_number_reversed = string_test_number[::-1]\n",
        "  \n",
        "  # Check if the reverse and original is true\n",
        "  if string_test_number == string_test_number_reversed:\n",
        "    return True\n",
        "  else:\n",
        "    return False\n",
        "\n",
        "print(palindrome(151))\n",
        "print(palindrome(-5))"
      ],
      "execution_count": 7,
      "outputs": [
        {
          "output_type": "stream",
          "text": [
            "True\n",
            "False\n"
          ],
          "name": "stdout"
        }
      ]
    },
    {
      "cell_type": "code",
      "metadata": {
        "colab": {
          "base_uri": "https://localhost:8080/",
          "height": 300
        },
        "id": "A7LTZTlkMEWz",
        "outputId": "a5fc7658-321d-4527-b3d0-4704a6a75ea6"
      },
      "source": [
        "eb[1].check(palindrome, cheat=True)"
      ],
      "execution_count": 8,
      "outputs": [
        {
          "output_type": "display_data",
          "data": {
            "text/html": [
              "<div>\n",
              "<style scoped>\n",
              "    .dataframe tbody tr th:only-of-type {\n",
              "        vertical-align: middle;\n",
              "    }\n",
              "\n",
              "    .dataframe tbody tr th {\n",
              "        vertical-align: top;\n",
              "    }\n",
              "\n",
              "    .dataframe thead th {\n",
              "        text-align: right;\n",
              "    }\n",
              "</style>\n",
              "<table border=\"1\" class=\"dataframe\">\n",
              "  <thead>\n",
              "    <tr style=\"text-align: right;\">\n",
              "      <th></th>\n",
              "      <th>Input 1: int</th>\n",
              "      <th>Your output</th>\n",
              "      <th>Correct output: bool</th>\n",
              "      <th>Correct</th>\n",
              "    </tr>\n",
              "  </thead>\n",
              "  <tbody>\n",
              "    <tr>\n",
              "      <th>Test 1:</th>\n",
              "      <td>151</td>\n",
              "      <td>True</td>\n",
              "      <td>True</td>\n",
              "      <td>True</td>\n",
              "    </tr>\n",
              "    <tr>\n",
              "      <th>Test 2:</th>\n",
              "      <td>-26000</td>\n",
              "      <td>False</td>\n",
              "      <td>False</td>\n",
              "      <td>True</td>\n",
              "    </tr>\n",
              "    <tr>\n",
              "      <th>Test 3:</th>\n",
              "      <td>234565432</td>\n",
              "      <td>True</td>\n",
              "      <td>True</td>\n",
              "      <td>True</td>\n",
              "    </tr>\n",
              "    <tr>\n",
              "      <th>Test 4:</th>\n",
              "      <td>1</td>\n",
              "      <td>True</td>\n",
              "      <td>True</td>\n",
              "      <td>True</td>\n",
              "    </tr>\n",
              "    <tr>\n",
              "      <th>Test 5:</th>\n",
              "      <td>101</td>\n",
              "      <td>True</td>\n",
              "      <td>True</td>\n",
              "      <td>True</td>\n",
              "    </tr>\n",
              "    <tr>\n",
              "      <th>Test 6:</th>\n",
              "      <td>-5</td>\n",
              "      <td>False</td>\n",
              "      <td>False</td>\n",
              "      <td>True</td>\n",
              "    </tr>\n",
              "    <tr>\n",
              "      <th>Test 7:</th>\n",
              "      <td>234321</td>\n",
              "      <td>False</td>\n",
              "      <td>False</td>\n",
              "      <td>True</td>\n",
              "    </tr>\n",
              "  </tbody>\n",
              "</table>\n",
              "</div>"
            ],
            "text/plain": [
              "        Input 1: int Your output Correct output: bool Correct\n",
              "Test 1:          151        True                 True    True\n",
              "Test 2:       -26000       False                False    True\n",
              "Test 3:    234565432        True                 True    True\n",
              "Test 4:            1        True                 True    True\n",
              "Test 5:          101        True                 True    True\n",
              "Test 6:           -5       False                False    True\n",
              "Test 7:       234321       False                False    True"
            ]
          },
          "metadata": {}
        },
        {
          "output_type": "stream",
          "text": [
            "You passed 7 of the 7 tests. \n",
            "The solution is correct\n"
          ],
          "name": "stdout"
        }
      ]
    },
    {
      "cell_type": "code",
      "metadata": {
        "colab": {
          "base_uri": "https://localhost:8080/",
          "height": 261
        },
        "id": "Q-uEThXKN6ql",
        "outputId": "b0f9aec2-b47f-4666-d901-313a987224c8"
      },
      "source": [
        "print(eb[2])"
      ],
      "execution_count": 9,
      "outputs": [
        {
          "output_type": "stream",
          "text": [
            "Write a function with a given argument n to return a list containing all \n",
            "positive integers no larger than n, and these integers can be divided by 7 \n",
            "but can not be divided by 5. For example, if n=50, then the returned list \n",
            "is [7, 14, 21, 28, 42, 49].\n"
          ],
          "name": "stdout"
        },
        {
          "output_type": "display_data",
          "data": {
            "text/html": [
              "<div>\n",
              "<style scoped>\n",
              "    .dataframe tbody tr th:only-of-type {\n",
              "        vertical-align: middle;\n",
              "    }\n",
              "\n",
              "    .dataframe tbody tr th {\n",
              "        vertical-align: top;\n",
              "    }\n",
              "\n",
              "    .dataframe thead th {\n",
              "        text-align: right;\n",
              "    }\n",
              "</style>\n",
              "<table border=\"1\" class=\"dataframe\">\n",
              "  <thead>\n",
              "    <tr style=\"text-align: right;\">\n",
              "      <th></th>\n",
              "      <th>Input1: int</th>\n",
              "      <th>Output: list</th>\n",
              "    </tr>\n",
              "  </thead>\n",
              "  <tbody>\n",
              "    <tr>\n",
              "      <th>Test 1:</th>\n",
              "      <td>14</td>\n",
              "      <td>[7, 14]</td>\n",
              "    </tr>\n",
              "    <tr>\n",
              "      <th>Test 2:</th>\n",
              "      <td>20</td>\n",
              "      <td>[7, 14]</td>\n",
              "    </tr>\n",
              "    <tr>\n",
              "      <th>Test 3:</th>\n",
              "      <td>50</td>\n",
              "      <td>[7, 14, 21, 28, 42, 49]</td>\n",
              "    </tr>\n",
              "  </tbody>\n",
              "</table>\n",
              "</div>"
            ],
            "text/plain": [
              "        Input1: int             Output: list\n",
              "Test 1:          14                  [7, 14]\n",
              "Test 2:          20                  [7, 14]\n",
              "Test 3:          50  [7, 14, 21, 28, 42, 49]"
            ]
          },
          "metadata": {}
        },
        {
          "output_type": "stream",
          "text": [
            "\n",
            "\u001b[1mSeven And Five: Easy\u001b[0;0m \n",
            "\n"
          ],
          "name": "stdout"
        }
      ]
    },
    {
      "cell_type": "code",
      "metadata": {
        "colab": {
          "base_uri": "https://localhost:8080/"
        },
        "id": "16UMiAJ_QvUq",
        "outputId": "8a26dbc2-7b8e-4924-f0f9-08874d4b0234"
      },
      "source": [
        "def sevens(n):\n",
        "  \n",
        "  # Declare an empty list\n",
        "  sevens_array = []\n",
        "  \n",
        "  # Loop through till n\n",
        "  # Check if i is divisible by 7 and not divisible by 5\n",
        "  # Append if true\n",
        "  for i in range(n + 1):\n",
        "    if i % 7 == 0 and i % 5 != 0:\n",
        "      sevens_array.append(i)\n",
        "  \n",
        "  return sevens_array\n",
        "\n",
        "print(sevens(14))\n",
        "print(sevens(20))\n",
        "print(sevens(50))"
      ],
      "execution_count": 10,
      "outputs": [
        {
          "output_type": "stream",
          "text": [
            "[7, 14]\n",
            "[7, 14]\n",
            "[7, 14, 21, 28, 42, 49]\n"
          ],
          "name": "stdout"
        }
      ]
    },
    {
      "cell_type": "code",
      "metadata": {
        "colab": {
          "base_uri": "https://localhost:8080/",
          "height": 300
        },
        "id": "q9BS2TqxMBCU",
        "outputId": "b5c5508d-c72d-40cc-e30d-a1d78e2a64be"
      },
      "source": [
        "eb[2].check(sevens, cheat=True)"
      ],
      "execution_count": 11,
      "outputs": [
        {
          "output_type": "display_data",
          "data": {
            "text/html": [
              "<div>\n",
              "<style scoped>\n",
              "    .dataframe tbody tr th:only-of-type {\n",
              "        vertical-align: middle;\n",
              "    }\n",
              "\n",
              "    .dataframe tbody tr th {\n",
              "        vertical-align: top;\n",
              "    }\n",
              "\n",
              "    .dataframe thead th {\n",
              "        text-align: right;\n",
              "    }\n",
              "</style>\n",
              "<table border=\"1\" class=\"dataframe\">\n",
              "  <thead>\n",
              "    <tr style=\"text-align: right;\">\n",
              "      <th></th>\n",
              "      <th>Input 1: int</th>\n",
              "      <th>Your output</th>\n",
              "      <th>Correct output: list</th>\n",
              "      <th>Correct</th>\n",
              "    </tr>\n",
              "  </thead>\n",
              "  <tbody>\n",
              "    <tr>\n",
              "      <th>Test 1:</th>\n",
              "      <td>14</td>\n",
              "      <td>[7, 14]</td>\n",
              "      <td>[7, 14]</td>\n",
              "      <td>True</td>\n",
              "    </tr>\n",
              "    <tr>\n",
              "      <th>Test 2:</th>\n",
              "      <td>20</td>\n",
              "      <td>[7, 14]</td>\n",
              "      <td>[7, 14]</td>\n",
              "      <td>True</td>\n",
              "    </tr>\n",
              "    <tr>\n",
              "      <th>Test 3:</th>\n",
              "      <td>35</td>\n",
              "      <td>[7, 14, 21, 28]</td>\n",
              "      <td>[7, 14, 21, 28]</td>\n",
              "      <td>True</td>\n",
              "    </tr>\n",
              "    <tr>\n",
              "      <th>Test 4:</th>\n",
              "      <td>50</td>\n",
              "      <td>[7, 14, 21, 28, 42, 49]</td>\n",
              "      <td>[7, 14, 21, 28, 42, 49]</td>\n",
              "      <td>True</td>\n",
              "    </tr>\n",
              "    <tr>\n",
              "      <th>Test 5:</th>\n",
              "      <td>100</td>\n",
              "      <td>[7, 14, 21, 28, 42, 49, 56, 63, 77, 84, 91, 98]</td>\n",
              "      <td>[7, 14, 21, 28, 42, 49, 56, 63, 77, 84, 91, 98]</td>\n",
              "      <td>True</td>\n",
              "    </tr>\n",
              "    <tr>\n",
              "      <th>Test 6:</th>\n",
              "      <td>120</td>\n",
              "      <td>[7, 14, 21, 28, 42, 49, 56, 63, 77, 84, 91, 98...</td>\n",
              "      <td>[7, 14, 21, 28, 42, 49, 56, 63, 77, 84, 91, 98...</td>\n",
              "      <td>True</td>\n",
              "    </tr>\n",
              "    <tr>\n",
              "      <th>Test 7:</th>\n",
              "      <td>150</td>\n",
              "      <td>[7, 14, 21, 28, 42, 49, 56, 63, 77, 84, 91, 98...</td>\n",
              "      <td>[7, 14, 21, 28, 42, 49, 56, 63, 77, 84, 91, 98...</td>\n",
              "      <td>True</td>\n",
              "    </tr>\n",
              "  </tbody>\n",
              "</table>\n",
              "</div>"
            ],
            "text/plain": [
              "        Input 1: int  ... Correct\n",
              "Test 1:           14  ...    True\n",
              "Test 2:           20  ...    True\n",
              "Test 3:           35  ...    True\n",
              "Test 4:           50  ...    True\n",
              "Test 5:          100  ...    True\n",
              "Test 6:          120  ...    True\n",
              "Test 7:          150  ...    True\n",
              "\n",
              "[7 rows x 4 columns]"
            ]
          },
          "metadata": {}
        },
        {
          "output_type": "stream",
          "text": [
            "You passed 7 of the 7 tests. \n",
            "The solution is correct\n"
          ],
          "name": "stdout"
        }
      ]
    },
    {
      "cell_type": "code",
      "metadata": {
        "colab": {
          "base_uri": "https://localhost:8080/",
          "height": 275
        },
        "id": "AnVmUHkYN6nk",
        "outputId": "f3b9a9f9-308f-4fdd-c70e-51a109fe6d41"
      },
      "source": [
        "print(eb[3])"
      ],
      "execution_count": 12,
      "outputs": [
        {
          "output_type": "stream",
          "text": [
            "Write a function to determine if a given positive integer n is a prime \n",
            "number.For example, 37 is a prime number so the output is True, 10 is not \n",
            "so the output is False.\n"
          ],
          "name": "stdout"
        },
        {
          "output_type": "display_data",
          "data": {
            "text/html": [
              "<div>\n",
              "<style scoped>\n",
              "    .dataframe tbody tr th:only-of-type {\n",
              "        vertical-align: middle;\n",
              "    }\n",
              "\n",
              "    .dataframe tbody tr th {\n",
              "        vertical-align: top;\n",
              "    }\n",
              "\n",
              "    .dataframe thead th {\n",
              "        text-align: right;\n",
              "    }\n",
              "</style>\n",
              "<table border=\"1\" class=\"dataframe\">\n",
              "  <thead>\n",
              "    <tr style=\"text-align: right;\">\n",
              "      <th></th>\n",
              "      <th>Input1: int</th>\n",
              "      <th>Output: bool</th>\n",
              "    </tr>\n",
              "  </thead>\n",
              "  <tbody>\n",
              "    <tr>\n",
              "      <th>Test 1:</th>\n",
              "      <td>6</td>\n",
              "      <td>False</td>\n",
              "    </tr>\n",
              "    <tr>\n",
              "      <th>Test 2:</th>\n",
              "      <td>47</td>\n",
              "      <td>True</td>\n",
              "    </tr>\n",
              "    <tr>\n",
              "      <th>Test 3:</th>\n",
              "      <td>53</td>\n",
              "      <td>True</td>\n",
              "    </tr>\n",
              "    <tr>\n",
              "      <th>Test 4:</th>\n",
              "      <td>61</td>\n",
              "      <td>True</td>\n",
              "    </tr>\n",
              "  </tbody>\n",
              "</table>\n",
              "</div>"
            ],
            "text/plain": [
              "        Input1: int Output: bool\n",
              "Test 1:           6        False\n",
              "Test 2:          47         True\n",
              "Test 3:          53         True\n",
              "Test 4:          61         True"
            ]
          },
          "metadata": {}
        },
        {
          "output_type": "stream",
          "text": [
            "\n",
            "\u001b[1mPrime Number: Easy\u001b[0;0m \n",
            "\n"
          ],
          "name": "stdout"
        }
      ]
    },
    {
      "cell_type": "code",
      "metadata": {
        "colab": {
          "base_uri": "https://localhost:8080/"
        },
        "id": "0ZSiRqGAW2EP",
        "outputId": "5c6ef506-6e92-4149-c77e-370af442aa2e"
      },
      "source": [
        "def prime_number(n):\n",
        "  \n",
        "  # n has to be more than 1\n",
        "  # Loop from 2 to n - 1\n",
        "  # Check if n is divisible by i\n",
        "  # Return true if it is not divisible\n",
        "  if n > 1:\n",
        "    for i in range(2, n):\n",
        "      if n % i == 0:\n",
        "        return False\n",
        "      return True\n",
        "  \n",
        "print(prime_number(6))\n",
        "print(prime_number(47))\n",
        "print(prime_number(53))\n",
        "print(prime_number(61))"
      ],
      "execution_count": 13,
      "outputs": [
        {
          "output_type": "stream",
          "text": [
            "False\n",
            "True\n",
            "True\n",
            "True\n"
          ],
          "name": "stdout"
        }
      ]
    },
    {
      "cell_type": "code",
      "metadata": {
        "colab": {
          "base_uri": "https://localhost:8080/",
          "height": 517
        },
        "id": "nRMfu02cL87E",
        "outputId": "b737cda8-d56b-4bee-d931-84c501f67e3d"
      },
      "source": [
        "eb[3].check(prime_number, cheat=True)"
      ],
      "execution_count": 14,
      "outputs": [
        {
          "output_type": "display_data",
          "data": {
            "text/html": [
              "<div>\n",
              "<style scoped>\n",
              "    .dataframe tbody tr th:only-of-type {\n",
              "        vertical-align: middle;\n",
              "    }\n",
              "\n",
              "    .dataframe tbody tr th {\n",
              "        vertical-align: top;\n",
              "    }\n",
              "\n",
              "    .dataframe thead th {\n",
              "        text-align: right;\n",
              "    }\n",
              "</style>\n",
              "<table border=\"1\" class=\"dataframe\">\n",
              "  <thead>\n",
              "    <tr style=\"text-align: right;\">\n",
              "      <th></th>\n",
              "      <th>Input 1: int</th>\n",
              "      <th>Your output</th>\n",
              "      <th>Correct output: bool</th>\n",
              "      <th>Correct</th>\n",
              "    </tr>\n",
              "  </thead>\n",
              "  <tbody>\n",
              "    <tr>\n",
              "      <th>Test 1:</th>\n",
              "      <td>2</td>\n",
              "      <td>None</td>\n",
              "      <td>True</td>\n",
              "      <td>False</td>\n",
              "    </tr>\n",
              "    <tr>\n",
              "      <th>Test 2:</th>\n",
              "      <td>3</td>\n",
              "      <td>True</td>\n",
              "      <td>True</td>\n",
              "      <td>True</td>\n",
              "    </tr>\n",
              "    <tr>\n",
              "      <th>Test 3:</th>\n",
              "      <td>4</td>\n",
              "      <td>False</td>\n",
              "      <td>False</td>\n",
              "      <td>True</td>\n",
              "    </tr>\n",
              "    <tr>\n",
              "      <th>Test 4:</th>\n",
              "      <td>5</td>\n",
              "      <td>True</td>\n",
              "      <td>True</td>\n",
              "      <td>True</td>\n",
              "    </tr>\n",
              "    <tr>\n",
              "      <th>Test 5:</th>\n",
              "      <td>6</td>\n",
              "      <td>False</td>\n",
              "      <td>False</td>\n",
              "      <td>True</td>\n",
              "    </tr>\n",
              "    <tr>\n",
              "      <th>Test 6:</th>\n",
              "      <td>39</td>\n",
              "      <td>True</td>\n",
              "      <td>False</td>\n",
              "      <td>False</td>\n",
              "    </tr>\n",
              "    <tr>\n",
              "      <th>Test 7:</th>\n",
              "      <td>47</td>\n",
              "      <td>True</td>\n",
              "      <td>True</td>\n",
              "      <td>True</td>\n",
              "    </tr>\n",
              "    <tr>\n",
              "      <th>Test 8:</th>\n",
              "      <td>53</td>\n",
              "      <td>True</td>\n",
              "      <td>True</td>\n",
              "      <td>True</td>\n",
              "    </tr>\n",
              "    <tr>\n",
              "      <th>Test 9:</th>\n",
              "      <td>65</td>\n",
              "      <td>True</td>\n",
              "      <td>False</td>\n",
              "      <td>False</td>\n",
              "    </tr>\n",
              "    <tr>\n",
              "      <th>Test 10:</th>\n",
              "      <td>61</td>\n",
              "      <td>True</td>\n",
              "      <td>True</td>\n",
              "      <td>True</td>\n",
              "    </tr>\n",
              "    <tr>\n",
              "      <th>Test 11:</th>\n",
              "      <td>73</td>\n",
              "      <td>True</td>\n",
              "      <td>True</td>\n",
              "      <td>True</td>\n",
              "    </tr>\n",
              "    <tr>\n",
              "      <th>Test 12:</th>\n",
              "      <td>81</td>\n",
              "      <td>True</td>\n",
              "      <td>False</td>\n",
              "      <td>False</td>\n",
              "    </tr>\n",
              "    <tr>\n",
              "      <th>Test 13:</th>\n",
              "      <td>93</td>\n",
              "      <td>True</td>\n",
              "      <td>False</td>\n",
              "      <td>False</td>\n",
              "    </tr>\n",
              "    <tr>\n",
              "      <th>Test 14:</th>\n",
              "      <td>97</td>\n",
              "      <td>True</td>\n",
              "      <td>True</td>\n",
              "      <td>True</td>\n",
              "    </tr>\n",
              "  </tbody>\n",
              "</table>\n",
              "</div>"
            ],
            "text/plain": [
              "         Input 1: int Your output Correct output: bool Correct\n",
              "Test 1:             2        None                 True   False\n",
              "Test 2:             3        True                 True    True\n",
              "Test 3:             4       False                False    True\n",
              "Test 4:             5        True                 True    True\n",
              "Test 5:             6       False                False    True\n",
              "Test 6:            39        True                False   False\n",
              "Test 7:            47        True                 True    True\n",
              "Test 8:            53        True                 True    True\n",
              "Test 9:            65        True                False   False\n",
              "Test 10:           61        True                 True    True\n",
              "Test 11:           73        True                 True    True\n",
              "Test 12:           81        True                False   False\n",
              "Test 13:           93        True                False   False\n",
              "Test 14:           97        True                 True    True"
            ]
          },
          "metadata": {}
        },
        {
          "output_type": "stream",
          "text": [
            "You passed 9 of the 14 tests. \n",
            "The solution is incorrect\n"
          ],
          "name": "stdout"
        }
      ]
    },
    {
      "cell_type": "code",
      "metadata": {
        "colab": {
          "base_uri": "https://localhost:8080/",
          "height": 275
        },
        "id": "sf8gxhTkN6k0",
        "outputId": "00aaac7d-352a-4c54-bde4-b078681522b7"
      },
      "source": [
        "print(eb[4])"
      ],
      "execution_count": 15,
      "outputs": [
        {
          "output_type": "stream",
          "text": [
            "Given a positive integer n, write a function to return a list of prime \n",
            "numbers that are no larger than n. For example, if n=20, then the returned \n",
            "list is [2, 3, 5, 7, 11, 13, 17, 19].\n"
          ],
          "name": "stdout"
        },
        {
          "output_type": "display_data",
          "data": {
            "text/html": [
              "<div>\n",
              "<style scoped>\n",
              "    .dataframe tbody tr th:only-of-type {\n",
              "        vertical-align: middle;\n",
              "    }\n",
              "\n",
              "    .dataframe tbody tr th {\n",
              "        vertical-align: top;\n",
              "    }\n",
              "\n",
              "    .dataframe thead th {\n",
              "        text-align: right;\n",
              "    }\n",
              "</style>\n",
              "<table border=\"1\" class=\"dataframe\">\n",
              "  <thead>\n",
              "    <tr style=\"text-align: right;\">\n",
              "      <th></th>\n",
              "      <th>Input1: int</th>\n",
              "      <th>Output: list</th>\n",
              "    </tr>\n",
              "  </thead>\n",
              "  <tbody>\n",
              "    <tr>\n",
              "      <th>Test 1:</th>\n",
              "      <td>1</td>\n",
              "      <td>[]</td>\n",
              "    </tr>\n",
              "    <tr>\n",
              "      <th>Test 2:</th>\n",
              "      <td>2</td>\n",
              "      <td>[2]</td>\n",
              "    </tr>\n",
              "    <tr>\n",
              "      <th>Test 3:</th>\n",
              "      <td>30</td>\n",
              "      <td>[2, 3, 5, 7, 11, 13, 17, 19, 23, 29]</td>\n",
              "    </tr>\n",
              "    <tr>\n",
              "      <th>Test 4:</th>\n",
              "      <td>40</td>\n",
              "      <td>[2, 3, 5, 7, 11, 13, 17, 19, 23, 29, 31, 37]</td>\n",
              "    </tr>\n",
              "  </tbody>\n",
              "</table>\n",
              "</div>"
            ],
            "text/plain": [
              "        Input1: int                                  Output: list\n",
              "Test 1:           1                                            []\n",
              "Test 2:           2                                           [2]\n",
              "Test 3:          30          [2, 3, 5, 7, 11, 13, 17, 19, 23, 29]\n",
              "Test 4:          40  [2, 3, 5, 7, 11, 13, 17, 19, 23, 29, 31, 37]"
            ]
          },
          "metadata": {}
        },
        {
          "output_type": "stream",
          "text": [
            "\n",
            "\u001b[1mPrime List: Medium\u001b[0;0m \n",
            "\n"
          ],
          "name": "stdout"
        }
      ]
    },
    {
      "cell_type": "code",
      "metadata": {
        "colab": {
          "base_uri": "https://localhost:8080/"
        },
        "id": "yKKPLSB2cZyo",
        "outputId": "87363298-8965-4667-a657-7a96258fd630"
      },
      "source": [
        "def prime_list(n):\n",
        "  \n",
        "  # Declare an empty array\n",
        "  prime_array = []\n",
        "  \n",
        "  # Returns an empty array if n = 1\n",
        "  if n == 1:\n",
        "    prime_array = []\n",
        "  # Else returns an array with 2 as the sole element if n = 2\n",
        "  elif n == 2:\n",
        "    prime_array.append(2)\n",
        "  # Print out all the prime numbers within the range if both conditions above do not meet\n",
        "  else:\n",
        "    prime_array = [i for i in range(2, n) if all(i % j != 0 for j in range(2, i-1))]\n",
        "\n",
        "  return prime_array\n",
        "\n",
        "print(prime_list(1))\n",
        "print(prime_list(2))\n",
        "print(prime_list(30))\n",
        "print(prime_list(40))"
      ],
      "execution_count": 16,
      "outputs": [
        {
          "output_type": "stream",
          "text": [
            "[]\n",
            "[2]\n",
            "[2, 3, 5, 7, 11, 13, 17, 19, 23, 29]\n",
            "[2, 3, 5, 7, 11, 13, 17, 19, 23, 29, 31, 37]\n"
          ],
          "name": "stdout"
        }
      ]
    },
    {
      "cell_type": "code",
      "metadata": {
        "colab": {
          "base_uri": "https://localhost:8080/",
          "height": 362
        },
        "id": "Rr427Iw7L40I",
        "outputId": "b02ff087-bd5f-429d-f84e-0441443c018f"
      },
      "source": [
        "eb[4].check(prime_list, cheat=True)"
      ],
      "execution_count": 17,
      "outputs": [
        {
          "output_type": "display_data",
          "data": {
            "text/html": [
              "<div>\n",
              "<style scoped>\n",
              "    .dataframe tbody tr th:only-of-type {\n",
              "        vertical-align: middle;\n",
              "    }\n",
              "\n",
              "    .dataframe tbody tr th {\n",
              "        vertical-align: top;\n",
              "    }\n",
              "\n",
              "    .dataframe thead th {\n",
              "        text-align: right;\n",
              "    }\n",
              "</style>\n",
              "<table border=\"1\" class=\"dataframe\">\n",
              "  <thead>\n",
              "    <tr style=\"text-align: right;\">\n",
              "      <th></th>\n",
              "      <th>Input 1: int</th>\n",
              "      <th>Your output</th>\n",
              "      <th>Correct output: list</th>\n",
              "      <th>Correct</th>\n",
              "    </tr>\n",
              "  </thead>\n",
              "  <tbody>\n",
              "    <tr>\n",
              "      <th>Test 1:</th>\n",
              "      <td>1</td>\n",
              "      <td>[]</td>\n",
              "      <td>[]</td>\n",
              "      <td>True</td>\n",
              "    </tr>\n",
              "    <tr>\n",
              "      <th>Test 2:</th>\n",
              "      <td>2</td>\n",
              "      <td>[2]</td>\n",
              "      <td>[2]</td>\n",
              "      <td>True</td>\n",
              "    </tr>\n",
              "    <tr>\n",
              "      <th>Test 3:</th>\n",
              "      <td>3</td>\n",
              "      <td>[2]</td>\n",
              "      <td>[2, 3]</td>\n",
              "      <td>False</td>\n",
              "    </tr>\n",
              "    <tr>\n",
              "      <th>Test 4:</th>\n",
              "      <td>10</td>\n",
              "      <td>[2, 3, 5, 7]</td>\n",
              "      <td>[2, 3, 5, 7]</td>\n",
              "      <td>True</td>\n",
              "    </tr>\n",
              "    <tr>\n",
              "      <th>Test 5:</th>\n",
              "      <td>20</td>\n",
              "      <td>[2, 3, 5, 7, 11, 13, 17, 19]</td>\n",
              "      <td>[2, 3, 5, 7, 11, 13, 17, 19]</td>\n",
              "      <td>True</td>\n",
              "    </tr>\n",
              "    <tr>\n",
              "      <th>Test 6:</th>\n",
              "      <td>30</td>\n",
              "      <td>[2, 3, 5, 7, 11, 13, 17, 19, 23, 29]</td>\n",
              "      <td>[2, 3, 5, 7, 11, 13, 17, 19, 23, 29]</td>\n",
              "      <td>True</td>\n",
              "    </tr>\n",
              "    <tr>\n",
              "      <th>Test 7:</th>\n",
              "      <td>40</td>\n",
              "      <td>[2, 3, 5, 7, 11, 13, 17, 19, 23, 29, 31, 37]</td>\n",
              "      <td>[2, 3, 5, 7, 11, 13, 17, 19, 23, 29, 31, 37]</td>\n",
              "      <td>True</td>\n",
              "    </tr>\n",
              "    <tr>\n",
              "      <th>Test 8:</th>\n",
              "      <td>60</td>\n",
              "      <td>[2, 3, 5, 7, 11, 13, 17, 19, 23, 29, 31, 37, 4...</td>\n",
              "      <td>[2, 3, 5, 7, 11, 13, 17, 19, 23, 29, 31, 37, 4...</td>\n",
              "      <td>True</td>\n",
              "    </tr>\n",
              "    <tr>\n",
              "      <th>Test 9:</th>\n",
              "      <td>100</td>\n",
              "      <td>[2, 3, 5, 7, 11, 13, 17, 19, 23, 29, 31, 37, 4...</td>\n",
              "      <td>[2, 3, 5, 7, 11, 13, 17, 19, 23, 29, 31, 37, 4...</td>\n",
              "      <td>True</td>\n",
              "    </tr>\n",
              "  </tbody>\n",
              "</table>\n",
              "</div>"
            ],
            "text/plain": [
              "        Input 1: int  ... Correct\n",
              "Test 1:            1  ...    True\n",
              "Test 2:            2  ...    True\n",
              "Test 3:            3  ...   False\n",
              "Test 4:           10  ...    True\n",
              "Test 5:           20  ...    True\n",
              "Test 6:           30  ...    True\n",
              "Test 7:           40  ...    True\n",
              "Test 8:           60  ...    True\n",
              "Test 9:          100  ...    True\n",
              "\n",
              "[9 rows x 4 columns]"
            ]
          },
          "metadata": {}
        },
        {
          "output_type": "stream",
          "text": [
            "You passed 8 of the 9 tests. \n",
            "The solution is incorrect\n"
          ],
          "name": "stdout"
        }
      ]
    },
    {
      "cell_type": "code",
      "metadata": {
        "colab": {
          "base_uri": "https://localhost:8080/",
          "height": 247
        },
        "id": "zbpYaIgpN6iC",
        "outputId": "4af3bc7c-29ca-4b1c-f4ab-ace86e04794c"
      },
      "source": [
        "print(eb[5])"
      ],
      "execution_count": 18,
      "outputs": [
        {
          "output_type": "stream",
          "text": [
            "A robot starts to move from the origin (0, 0) on a 2D plane. Given a squence\n",
            "of moves, in terms of strings \"L\" for left, \"R\" for right, \"U\" for up, and\n",
            "\"D\" for down, write a function to tell if the robot returns to the origin\n",
            "(0, 0) after this sequence of moves. The output of the function is a boolean\n",
            "value.\n"
          ],
          "name": "stdout"
        },
        {
          "output_type": "display_data",
          "data": {
            "text/html": [
              "<div>\n",
              "<style scoped>\n",
              "    .dataframe tbody tr th:only-of-type {\n",
              "        vertical-align: middle;\n",
              "    }\n",
              "\n",
              "    .dataframe tbody tr th {\n",
              "        vertical-align: top;\n",
              "    }\n",
              "\n",
              "    .dataframe thead th {\n",
              "        text-align: right;\n",
              "    }\n",
              "</style>\n",
              "<table border=\"1\" class=\"dataframe\">\n",
              "  <thead>\n",
              "    <tr style=\"text-align: right;\">\n",
              "      <th></th>\n",
              "      <th>Input1: str</th>\n",
              "      <th>Output: bool</th>\n",
              "    </tr>\n",
              "  </thead>\n",
              "  <tbody>\n",
              "    <tr>\n",
              "      <th>Test 1:</th>\n",
              "      <td>UD</td>\n",
              "      <td>True</td>\n",
              "    </tr>\n",
              "    <tr>\n",
              "      <th>Test 2:</th>\n",
              "      <td>LL</td>\n",
              "      <td>False</td>\n",
              "    </tr>\n",
              "  </tbody>\n",
              "</table>\n",
              "</div>"
            ],
            "text/plain": [
              "        Input1: str Output: bool\n",
              "Test 1:          UD         True\n",
              "Test 2:          LL        False"
            ]
          },
          "metadata": {}
        },
        {
          "output_type": "stream",
          "text": [
            "\n",
            "\u001b[1mRobot: Easy\u001b[0;0m \n",
            "\n"
          ],
          "name": "stdout"
        }
      ]
    },
    {
      "cell_type": "code",
      "metadata": {
        "colab": {
          "base_uri": "https://localhost:8080/"
        },
        "id": "59kBZMXh1-fQ",
        "outputId": "148d0566-e877-4c6a-db35-9f8f2c6562d7"
      },
      "source": [
        "def move_sequence(moves):\n",
        "  \n",
        "  # Declare the start points as [0, 0]\n",
        "  starting_coordinates = [0, 0]\n",
        "  \n",
        "  for i in moves:\n",
        "    # 'U' and 'D' affects position index: 1 either +1 or -1\n",
        "    if i == \"U\":\n",
        "      starting_coordinates[1] += 1\n",
        "    elif i == \"D\":\n",
        "      starting_coordinates[1] -= 1\n",
        "    # 'L' and 'R' affects position index: 0 either +1 or -1\n",
        "    elif i == \"R\":\n",
        "      starting_coordinates[0] += 1\n",
        "    elif i == \"L\":\n",
        "      starting_coordinates[0] -= 1\n",
        "\n",
        "  # Check if the starting coordinates are back to [0, 0] -> Bool\n",
        "  if starting_coordinates == [0, 0]:\n",
        "    return True\n",
        "  else:\n",
        "    return False\n",
        "\n",
        "print(move_sequence(\"UD\"))\n",
        "print(move_sequence(\"LL\"))"
      ],
      "execution_count": 19,
      "outputs": [
        {
          "output_type": "stream",
          "text": [
            "True\n",
            "False\n"
          ],
          "name": "stdout"
        }
      ]
    },
    {
      "cell_type": "code",
      "metadata": {
        "colab": {
          "base_uri": "https://localhost:8080/",
          "height": 238
        },
        "id": "2n6tjoSEL1rB",
        "outputId": "6b854909-5706-4fc3-a8b0-d6fdc4cc75fd"
      },
      "source": [
        "eb[5].check(move_sequence, cheat=True)"
      ],
      "execution_count": 20,
      "outputs": [
        {
          "output_type": "display_data",
          "data": {
            "text/html": [
              "<div>\n",
              "<style scoped>\n",
              "    .dataframe tbody tr th:only-of-type {\n",
              "        vertical-align: middle;\n",
              "    }\n",
              "\n",
              "    .dataframe tbody tr th {\n",
              "        vertical-align: top;\n",
              "    }\n",
              "\n",
              "    .dataframe thead th {\n",
              "        text-align: right;\n",
              "    }\n",
              "</style>\n",
              "<table border=\"1\" class=\"dataframe\">\n",
              "  <thead>\n",
              "    <tr style=\"text-align: right;\">\n",
              "      <th></th>\n",
              "      <th>Input 1: str</th>\n",
              "      <th>Your output</th>\n",
              "      <th>Correct output: bool</th>\n",
              "      <th>Correct</th>\n",
              "    </tr>\n",
              "  </thead>\n",
              "  <tbody>\n",
              "    <tr>\n",
              "      <th>Test 1:</th>\n",
              "      <td>UD</td>\n",
              "      <td>True</td>\n",
              "      <td>True</td>\n",
              "      <td>True</td>\n",
              "    </tr>\n",
              "    <tr>\n",
              "      <th>Test 2:</th>\n",
              "      <td>LL</td>\n",
              "      <td>False</td>\n",
              "      <td>False</td>\n",
              "      <td>True</td>\n",
              "    </tr>\n",
              "    <tr>\n",
              "      <th>Test 3:</th>\n",
              "      <td>LDRLUU</td>\n",
              "      <td>False</td>\n",
              "      <td>False</td>\n",
              "      <td>True</td>\n",
              "    </tr>\n",
              "    <tr>\n",
              "      <th>Test 4:</th>\n",
              "      <td>LLDUUUDDRLRR</td>\n",
              "      <td>True</td>\n",
              "      <td>True</td>\n",
              "      <td>True</td>\n",
              "    </tr>\n",
              "    <tr>\n",
              "      <th>Test 5:</th>\n",
              "      <td>LRLR</td>\n",
              "      <td>True</td>\n",
              "      <td>True</td>\n",
              "      <td>True</td>\n",
              "    </tr>\n",
              "  </tbody>\n",
              "</table>\n",
              "</div>"
            ],
            "text/plain": [
              "         Input 1: str Your output Correct output: bool Correct\n",
              "Test 1:            UD        True                 True    True\n",
              "Test 2:            LL       False                False    True\n",
              "Test 3:        LDRLUU       False                False    True\n",
              "Test 4:  LLDUUUDDRLRR        True                 True    True\n",
              "Test 5:          LRLR        True                 True    True"
            ]
          },
          "metadata": {}
        },
        {
          "output_type": "stream",
          "text": [
            "You passed 5 of the 5 tests. \n",
            "The solution is correct\n"
          ],
          "name": "stdout"
        }
      ]
    },
    {
      "cell_type": "code",
      "metadata": {
        "colab": {
          "base_uri": "https://localhost:8080/",
          "height": 247
        },
        "id": "qbYbgcQbN6ej",
        "outputId": "13037707-b88a-4abe-e96d-528e060c2d56"
      },
      "source": [
        "print(eb[6])"
      ],
      "execution_count": 21,
      "outputs": [
        {
          "output_type": "stream",
          "text": [
            "Given a list of numbers as the first input argument, write a function to \n",
            "remove all items in the list that have the same value as the second input \n",
            "argument. For example, if the first argument is [1, 3, 2, 2, 4, 2, 5] and \n",
            "the second argument is given as 2, then the output is [1, 3, 4, 5], with \n",
            "all 2s removed.\n"
          ],
          "name": "stdout"
        },
        {
          "output_type": "display_data",
          "data": {
            "text/html": [
              "<div>\n",
              "<style scoped>\n",
              "    .dataframe tbody tr th:only-of-type {\n",
              "        vertical-align: middle;\n",
              "    }\n",
              "\n",
              "    .dataframe tbody tr th {\n",
              "        vertical-align: top;\n",
              "    }\n",
              "\n",
              "    .dataframe thead th {\n",
              "        text-align: right;\n",
              "    }\n",
              "</style>\n",
              "<table border=\"1\" class=\"dataframe\">\n",
              "  <thead>\n",
              "    <tr style=\"text-align: right;\">\n",
              "      <th></th>\n",
              "      <th>Input1: list</th>\n",
              "      <th>Input2: int</th>\n",
              "      <th>Output: list</th>\n",
              "    </tr>\n",
              "  </thead>\n",
              "  <tbody>\n",
              "    <tr>\n",
              "      <th>Test 1:</th>\n",
              "      <td>[0, 1, 2, 3, 2, 5]</td>\n",
              "      <td>2</td>\n",
              "      <td>[0, 1, 3, 5]</td>\n",
              "    </tr>\n",
              "    <tr>\n",
              "      <th>Test 2:</th>\n",
              "      <td>[0, 1, 2, 3]</td>\n",
              "      <td>4</td>\n",
              "      <td>[0, 1, 2, 3]</td>\n",
              "    </tr>\n",
              "  </tbody>\n",
              "</table>\n",
              "</div>"
            ],
            "text/plain": [
              "               Input1: list Input2: int  Output: list\n",
              "Test 1:  [0, 1, 2, 3, 2, 5]           2  [0, 1, 3, 5]\n",
              "Test 2:        [0, 1, 2, 3]           4  [0, 1, 2, 3]"
            ]
          },
          "metadata": {}
        },
        {
          "output_type": "stream",
          "text": [
            "\n",
            "\u001b[1mRemove All: Easy\u001b[0;0m \n",
            "\n"
          ],
          "name": "stdout"
        }
      ]
    },
    {
      "cell_type": "code",
      "metadata": {
        "colab": {
          "base_uri": "https://localhost:8080/"
        },
        "id": "ARmM0lXlQlNw",
        "outputId": "44d98748-a15d-4eed-e213-81d2bb87db87"
      },
      "source": [
        "def remove_same(list_input, value_input):\n",
        "  \n",
        "  # Declares and empty list\n",
        "  new_list = []\n",
        "  # Extracts duplicates from the list and puts into another list\n",
        "  [new_list.append(i) for i in list_input if i not in new_list]\n",
        "  \n",
        "  # Removes the remaining duplicate from new_list and returns the new_list\n",
        "  if value_input in new_list:\n",
        "    new_list.remove(value_input)\n",
        "  \n",
        "  return new_list\n",
        "\n",
        "print(remove_same([0, 1, 2, 3, 2, 5], 2))\n",
        "print(remove_same([0, 1, 2, 3], 4))"
      ],
      "execution_count": 22,
      "outputs": [
        {
          "output_type": "stream",
          "text": [
            "[0, 1, 3, 5]\n",
            "[0, 1, 2, 3]\n"
          ],
          "name": "stdout"
        }
      ]
    },
    {
      "cell_type": "code",
      "metadata": {
        "colab": {
          "base_uri": "https://localhost:8080/",
          "height": 207
        },
        "id": "VROf4uaqLy6e",
        "outputId": "20ed6dc7-061d-4b8e-96ce-2680fcb67345"
      },
      "source": [
        "eb[6].check(remove_same, cheat=True)"
      ],
      "execution_count": 23,
      "outputs": [
        {
          "output_type": "display_data",
          "data": {
            "text/html": [
              "<div>\n",
              "<style scoped>\n",
              "    .dataframe tbody tr th:only-of-type {\n",
              "        vertical-align: middle;\n",
              "    }\n",
              "\n",
              "    .dataframe tbody tr th {\n",
              "        vertical-align: top;\n",
              "    }\n",
              "\n",
              "    .dataframe thead th {\n",
              "        text-align: right;\n",
              "    }\n",
              "</style>\n",
              "<table border=\"1\" class=\"dataframe\">\n",
              "  <thead>\n",
              "    <tr style=\"text-align: right;\">\n",
              "      <th></th>\n",
              "      <th>Input 1: list</th>\n",
              "      <th>Input 2: int</th>\n",
              "      <th>Your output</th>\n",
              "      <th>Correct output: list</th>\n",
              "      <th>Correct</th>\n",
              "    </tr>\n",
              "  </thead>\n",
              "  <tbody>\n",
              "    <tr>\n",
              "      <th>Test 1:</th>\n",
              "      <td>[0, 1, 2, 3, 2, 5]</td>\n",
              "      <td>2</td>\n",
              "      <td>[0, 1, 3, 5]</td>\n",
              "      <td>[0, 1, 3, 5]</td>\n",
              "      <td>True</td>\n",
              "    </tr>\n",
              "    <tr>\n",
              "      <th>Test 2:</th>\n",
              "      <td>[2, 3, 5, 6, 8, 3, 4, 3, 3, 4, 5]</td>\n",
              "      <td>3</td>\n",
              "      <td>[2, 5, 6, 8, 4]</td>\n",
              "      <td>[2, 5, 6, 8, 4, 4, 5]</td>\n",
              "      <td>True</td>\n",
              "    </tr>\n",
              "    <tr>\n",
              "      <th>Test 3:</th>\n",
              "      <td>[0, 1, 2, 3]</td>\n",
              "      <td>4</td>\n",
              "      <td>[0, 1, 2, 3]</td>\n",
              "      <td>[0, 1, 2, 3]</td>\n",
              "      <td>True</td>\n",
              "    </tr>\n",
              "    <tr>\n",
              "      <th>Test 4:</th>\n",
              "      <td>[8, 7, 6, 5, 5, 4, 3, 3, 2]</td>\n",
              "      <td>5</td>\n",
              "      <td>[8, 7, 6, 4, 3, 2]</td>\n",
              "      <td>[8, 7, 6, 4, 3, 3, 2]</td>\n",
              "      <td>True</td>\n",
              "    </tr>\n",
              "  </tbody>\n",
              "</table>\n",
              "</div>"
            ],
            "text/plain": [
              "                             Input 1: list  ... Correct\n",
              "Test 1:                 [0, 1, 2, 3, 2, 5]  ...    True\n",
              "Test 2:  [2, 3, 5, 6, 8, 3, 4, 3, 3, 4, 5]  ...    True\n",
              "Test 3:                       [0, 1, 2, 3]  ...    True\n",
              "Test 4:        [8, 7, 6, 5, 5, 4, 3, 3, 2]  ...    True\n",
              "\n",
              "[4 rows x 5 columns]"
            ]
          },
          "metadata": {}
        },
        {
          "output_type": "stream",
          "text": [
            "You passed 4 of the 4 tests. \n",
            "The solution is correct\n"
          ],
          "name": "stdout"
        }
      ]
    },
    {
      "cell_type": "code",
      "metadata": {
        "colab": {
          "base_uri": "https://localhost:8080/",
          "height": 247
        },
        "id": "NTWze7hWN6bB",
        "outputId": "5760dbd0-3e4b-4ff8-c837-b5549a03c700"
      },
      "source": [
        "print(eb[7])"
      ],
      "execution_count": 24,
      "outputs": [
        {
          "output_type": "stream",
          "text": [
            "Given two equal length lists of unique numbers, write a function to return \n",
            "the number of items in these two lists that have the same values and are \n",
            "at the same positions. For example, if these two lists are [1, 2, 3, 5] and \n",
            "[2, 1, 3, 4], then the output is 1 because the same value 3 appears at the \n",
            "same position 2 of both lists.\n"
          ],
          "name": "stdout"
        },
        {
          "output_type": "display_data",
          "data": {
            "text/html": [
              "<div>\n",
              "<style scoped>\n",
              "    .dataframe tbody tr th:only-of-type {\n",
              "        vertical-align: middle;\n",
              "    }\n",
              "\n",
              "    .dataframe tbody tr th {\n",
              "        vertical-align: top;\n",
              "    }\n",
              "\n",
              "    .dataframe thead th {\n",
              "        text-align: right;\n",
              "    }\n",
              "</style>\n",
              "<table border=\"1\" class=\"dataframe\">\n",
              "  <thead>\n",
              "    <tr style=\"text-align: right;\">\n",
              "      <th></th>\n",
              "      <th>Input1: list</th>\n",
              "      <th>Input2: list</th>\n",
              "      <th>Output: int</th>\n",
              "    </tr>\n",
              "  </thead>\n",
              "  <tbody>\n",
              "    <tr>\n",
              "      <th>Test 1:</th>\n",
              "      <td>[1, 2, 3, 5]</td>\n",
              "      <td>[2, 1, 3, 4]</td>\n",
              "      <td>1</td>\n",
              "    </tr>\n",
              "    <tr>\n",
              "      <th>Test 2:</th>\n",
              "      <td>[1, 2, 3, 5]</td>\n",
              "      <td>[5, 2, 3, 1]</td>\n",
              "      <td>2</td>\n",
              "    </tr>\n",
              "  </tbody>\n",
              "</table>\n",
              "</div>"
            ],
            "text/plain": [
              "         Input1: list  Input2: list Output: int\n",
              "Test 1:  [1, 2, 3, 5]  [2, 1, 3, 4]           1\n",
              "Test 2:  [1, 2, 3, 5]  [5, 2, 3, 1]           2"
            ]
          },
          "metadata": {}
        },
        {
          "output_type": "stream",
          "text": [
            "\n",
            "\u001b[1mRight Position: Easy\u001b[0;0m \n",
            "\n"
          ],
          "name": "stdout"
        }
      ]
    },
    {
      "cell_type": "code",
      "metadata": {
        "colab": {
          "base_uri": "https://localhost:8080/"
        },
        "id": "ZbsVmJihqoQZ",
        "outputId": "bf64e5af-6065-4b8e-dcf3-91f7e61bda37"
      },
      "source": [
        "def position_value(list1, list2):\n",
        "  \n",
        "  # Declares a count variable to hold integer\n",
        "  count = 0\n",
        "  \n",
        "  # Nested Loops across the 2 lists and compare if the same value appears at the same position\n",
        "  # Appends count for number of times is found to be True\n",
        "  for i in range(len(list1)):\n",
        "    for j in range(len(list2)):\n",
        "      if i == j and list1[i] == list2[j]:\n",
        "        count += 1\n",
        "  \n",
        "  return count\n",
        "\n",
        "print(position_value([1, 2, 3, 5], [2, 1, 3, 4]))\n",
        "print(position_value([1, 2, 3, 5], [5, 2, 3, 1]))"
      ],
      "execution_count": 25,
      "outputs": [
        {
          "output_type": "stream",
          "text": [
            "1\n",
            "2\n"
          ],
          "name": "stdout"
        }
      ]
    },
    {
      "cell_type": "code",
      "metadata": {
        "colab": {
          "base_uri": "https://localhost:8080/",
          "height": 238
        },
        "id": "O_5pUYKyLvjS",
        "outputId": "223d7f88-7415-4821-b59c-15a38e7b509b"
      },
      "source": [
        "eb[7].check(position_value, cheat=True)"
      ],
      "execution_count": 26,
      "outputs": [
        {
          "output_type": "display_data",
          "data": {
            "text/html": [
              "<div>\n",
              "<style scoped>\n",
              "    .dataframe tbody tr th:only-of-type {\n",
              "        vertical-align: middle;\n",
              "    }\n",
              "\n",
              "    .dataframe tbody tr th {\n",
              "        vertical-align: top;\n",
              "    }\n",
              "\n",
              "    .dataframe thead th {\n",
              "        text-align: right;\n",
              "    }\n",
              "</style>\n",
              "<table border=\"1\" class=\"dataframe\">\n",
              "  <thead>\n",
              "    <tr style=\"text-align: right;\">\n",
              "      <th></th>\n",
              "      <th>Input 1: list</th>\n",
              "      <th>Input 2: list</th>\n",
              "      <th>Your output</th>\n",
              "      <th>Correct output: int</th>\n",
              "      <th>Correct</th>\n",
              "    </tr>\n",
              "  </thead>\n",
              "  <tbody>\n",
              "    <tr>\n",
              "      <th>Test 1:</th>\n",
              "      <td>[1, 2, 3, 5]</td>\n",
              "      <td>[2, 1, 3, 4]</td>\n",
              "      <td>1</td>\n",
              "      <td>1</td>\n",
              "      <td>True</td>\n",
              "    </tr>\n",
              "    <tr>\n",
              "      <th>Test 2:</th>\n",
              "      <td>[1, 2, 3, 5]</td>\n",
              "      <td>[5, 2, 3, 1]</td>\n",
              "      <td>2</td>\n",
              "      <td>2</td>\n",
              "      <td>True</td>\n",
              "    </tr>\n",
              "    <tr>\n",
              "      <th>Test 3:</th>\n",
              "      <td>[1, 2, 3, 5]</td>\n",
              "      <td>[1, 2, 3, 4]</td>\n",
              "      <td>3</td>\n",
              "      <td>3</td>\n",
              "      <td>True</td>\n",
              "    </tr>\n",
              "    <tr>\n",
              "      <th>Test 4:</th>\n",
              "      <td>[1, 3]</td>\n",
              "      <td>[1, 2]</td>\n",
              "      <td>1</td>\n",
              "      <td>1</td>\n",
              "      <td>True</td>\n",
              "    </tr>\n",
              "    <tr>\n",
              "      <th>Test 5:</th>\n",
              "      <td>[1, 2, 3, 5]</td>\n",
              "      <td>[5, 3, 1, 2]</td>\n",
              "      <td>0</td>\n",
              "      <td>0</td>\n",
              "      <td>True</td>\n",
              "    </tr>\n",
              "  </tbody>\n",
              "</table>\n",
              "</div>"
            ],
            "text/plain": [
              "        Input 1: list Input 2: list Your output Correct output: int Correct\n",
              "Test 1:  [1, 2, 3, 5]  [2, 1, 3, 4]           1                   1    True\n",
              "Test 2:  [1, 2, 3, 5]  [5, 2, 3, 1]           2                   2    True\n",
              "Test 3:  [1, 2, 3, 5]  [1, 2, 3, 4]           3                   3    True\n",
              "Test 4:        [1, 3]        [1, 2]           1                   1    True\n",
              "Test 5:  [1, 2, 3, 5]  [5, 3, 1, 2]           0                   0    True"
            ]
          },
          "metadata": {}
        },
        {
          "output_type": "stream",
          "text": [
            "You passed 5 of the 5 tests. \n",
            "The solution is correct\n"
          ],
          "name": "stdout"
        }
      ]
    },
    {
      "cell_type": "code",
      "metadata": {
        "colab": {
          "base_uri": "https://localhost:8080/",
          "height": 247
        },
        "id": "tlN1ngPFN6YB",
        "outputId": "fb23b9cf-4ce1-4096-8c8e-38c3e19cb85d"
      },
      "source": [
        "print(eb[8])"
      ],
      "execution_count": 27,
      "outputs": [
        {
          "output_type": "stream",
          "text": [
            "Given two equal length lists of unique numbers, write a function to return \n",
            "the number of items in these two lists that have the same values but are at \n",
            "the different positions. For example, if these two lists are [1, 2, 3, 5] \n",
            "and [2, 1, 3, 4], then the output is 2 because the same values 1 and \n",
            "2 appear at the different positions.\n"
          ],
          "name": "stdout"
        },
        {
          "output_type": "display_data",
          "data": {
            "text/html": [
              "<div>\n",
              "<style scoped>\n",
              "    .dataframe tbody tr th:only-of-type {\n",
              "        vertical-align: middle;\n",
              "    }\n",
              "\n",
              "    .dataframe tbody tr th {\n",
              "        vertical-align: top;\n",
              "    }\n",
              "\n",
              "    .dataframe thead th {\n",
              "        text-align: right;\n",
              "    }\n",
              "</style>\n",
              "<table border=\"1\" class=\"dataframe\">\n",
              "  <thead>\n",
              "    <tr style=\"text-align: right;\">\n",
              "      <th></th>\n",
              "      <th>Input1: list</th>\n",
              "      <th>Input2: list</th>\n",
              "      <th>Output: int</th>\n",
              "    </tr>\n",
              "  </thead>\n",
              "  <tbody>\n",
              "    <tr>\n",
              "      <th>Test 1:</th>\n",
              "      <td>[1, 2, 3, 5]</td>\n",
              "      <td>[2, 1, 3, 4]</td>\n",
              "      <td>2</td>\n",
              "    </tr>\n",
              "    <tr>\n",
              "      <th>Test 2:</th>\n",
              "      <td>[1, 2, 3, 5]</td>\n",
              "      <td>[1, 2, 3, 4]</td>\n",
              "      <td>0</td>\n",
              "    </tr>\n",
              "  </tbody>\n",
              "</table>\n",
              "</div>"
            ],
            "text/plain": [
              "         Input1: list  Input2: list Output: int\n",
              "Test 1:  [1, 2, 3, 5]  [2, 1, 3, 4]           2\n",
              "Test 2:  [1, 2, 3, 5]  [1, 2, 3, 4]           0"
            ]
          },
          "metadata": {}
        },
        {
          "output_type": "stream",
          "text": [
            "\n",
            "\u001b[1mWrong Position: Easy\u001b[0;0m \n",
            "\n"
          ],
          "name": "stdout"
        }
      ]
    },
    {
      "cell_type": "code",
      "metadata": {
        "colab": {
          "base_uri": "https://localhost:8080/"
        },
        "id": "nSLwCbacrlTk",
        "outputId": "df6cafb3-417e-46b6-9949-cf33235fd1b8"
      },
      "source": [
        "def position_value_wrong(list1, list2):\n",
        "  \n",
        "  # Declares a count variable to hold integer\n",
        "  count = 0\n",
        "  \n",
        "  # Nested Loops across the 2 lists and compare if the same value appears at the wrong position\n",
        "  # Appends count for number of times is found to be True\n",
        "  for i in range(len(list1)):\n",
        "    for j in range(len(list2)):\n",
        "      if i != j and list1[i] == list2[j]:\n",
        "        count += 1\n",
        "  \n",
        "  return count\n",
        "\n",
        "print(position_value_wrong([1, 2, 3, 5], [2, 1, 3, 4]))\n",
        "print(position_value_wrong([1, 2, 3, 5], [1, 2, 3, 4]))"
      ],
      "execution_count": 28,
      "outputs": [
        {
          "output_type": "stream",
          "text": [
            "2\n",
            "0\n"
          ],
          "name": "stdout"
        }
      ]
    },
    {
      "cell_type": "code",
      "metadata": {
        "colab": {
          "base_uri": "https://localhost:8080/",
          "height": 238
        },
        "id": "bf8GmIeJLq9S",
        "outputId": "8330f66f-74ac-4991-beb5-c0a2cabae856"
      },
      "source": [
        "eb[8].check(position_value_wrong, cheat=True)"
      ],
      "execution_count": 29,
      "outputs": [
        {
          "output_type": "display_data",
          "data": {
            "text/html": [
              "<div>\n",
              "<style scoped>\n",
              "    .dataframe tbody tr th:only-of-type {\n",
              "        vertical-align: middle;\n",
              "    }\n",
              "\n",
              "    .dataframe tbody tr th {\n",
              "        vertical-align: top;\n",
              "    }\n",
              "\n",
              "    .dataframe thead th {\n",
              "        text-align: right;\n",
              "    }\n",
              "</style>\n",
              "<table border=\"1\" class=\"dataframe\">\n",
              "  <thead>\n",
              "    <tr style=\"text-align: right;\">\n",
              "      <th></th>\n",
              "      <th>Input 1: list</th>\n",
              "      <th>Input 2: list</th>\n",
              "      <th>Your output</th>\n",
              "      <th>Correct output: int</th>\n",
              "      <th>Correct</th>\n",
              "    </tr>\n",
              "  </thead>\n",
              "  <tbody>\n",
              "    <tr>\n",
              "      <th>Test 1:</th>\n",
              "      <td>[1, 2, 3, 5]</td>\n",
              "      <td>[2, 1, 3, 4]</td>\n",
              "      <td>2</td>\n",
              "      <td>2</td>\n",
              "      <td>True</td>\n",
              "    </tr>\n",
              "    <tr>\n",
              "      <th>Test 2:</th>\n",
              "      <td>[1, 2, 3, 5]</td>\n",
              "      <td>[5, 2, 3, 1]</td>\n",
              "      <td>2</td>\n",
              "      <td>2</td>\n",
              "      <td>True</td>\n",
              "    </tr>\n",
              "    <tr>\n",
              "      <th>Test 3:</th>\n",
              "      <td>[1, 2, 3, 5]</td>\n",
              "      <td>[1, 2, 3, 4]</td>\n",
              "      <td>0</td>\n",
              "      <td>0</td>\n",
              "      <td>True</td>\n",
              "    </tr>\n",
              "    <tr>\n",
              "      <th>Test 4:</th>\n",
              "      <td>[1, 3]</td>\n",
              "      <td>[1, 2]</td>\n",
              "      <td>0</td>\n",
              "      <td>0</td>\n",
              "      <td>True</td>\n",
              "    </tr>\n",
              "    <tr>\n",
              "      <th>Test 5:</th>\n",
              "      <td>[1, 2, 3, 5]</td>\n",
              "      <td>[5, 3, 1, 2]</td>\n",
              "      <td>4</td>\n",
              "      <td>4</td>\n",
              "      <td>True</td>\n",
              "    </tr>\n",
              "  </tbody>\n",
              "</table>\n",
              "</div>"
            ],
            "text/plain": [
              "        Input 1: list Input 2: list Your output Correct output: int Correct\n",
              "Test 1:  [1, 2, 3, 5]  [2, 1, 3, 4]           2                   2    True\n",
              "Test 2:  [1, 2, 3, 5]  [5, 2, 3, 1]           2                   2    True\n",
              "Test 3:  [1, 2, 3, 5]  [1, 2, 3, 4]           0                   0    True\n",
              "Test 4:        [1, 3]        [1, 2]           0                   0    True\n",
              "Test 5:  [1, 2, 3, 5]  [5, 3, 1, 2]           4                   4    True"
            ]
          },
          "metadata": {}
        },
        {
          "output_type": "stream",
          "text": [
            "You passed 5 of the 5 tests. \n",
            "The solution is correct\n"
          ],
          "name": "stdout"
        }
      ]
    },
    {
      "cell_type": "code",
      "metadata": {
        "colab": {
          "base_uri": "https://localhost:8080/",
          "height": 261
        },
        "id": "fO62Y4SLN6Uy",
        "outputId": "9166268c-f0cf-48ef-960f-2ae99a8b3535"
      },
      "source": [
        "print(eb[9])"
      ],
      "execution_count": 30,
      "outputs": [
        {
          "output_type": "stream",
          "text": [
            "Given a list of unique numbers, write a function to return the position \n",
            "index of the smallest number. For example, if the given list is [3, 1, 5, 0, \n",
            "2, 6], then the returned index is 3, because the smallest number 0 appears \n",
            "at position 3.\n"
          ],
          "name": "stdout"
        },
        {
          "output_type": "display_data",
          "data": {
            "text/html": [
              "<div>\n",
              "<style scoped>\n",
              "    .dataframe tbody tr th:only-of-type {\n",
              "        vertical-align: middle;\n",
              "    }\n",
              "\n",
              "    .dataframe tbody tr th {\n",
              "        vertical-align: top;\n",
              "    }\n",
              "\n",
              "    .dataframe thead th {\n",
              "        text-align: right;\n",
              "    }\n",
              "</style>\n",
              "<table border=\"1\" class=\"dataframe\">\n",
              "  <thead>\n",
              "    <tr style=\"text-align: right;\">\n",
              "      <th></th>\n",
              "      <th>Input1: list</th>\n",
              "      <th>Output: int</th>\n",
              "    </tr>\n",
              "  </thead>\n",
              "  <tbody>\n",
              "    <tr>\n",
              "      <th>Test 1:</th>\n",
              "      <td>[0, 1, 3, 2, 5]</td>\n",
              "      <td>0</td>\n",
              "    </tr>\n",
              "    <tr>\n",
              "      <th>Test 2:</th>\n",
              "      <td>[3, 2, 5, 1, 4, 0]</td>\n",
              "      <td>5</td>\n",
              "    </tr>\n",
              "    <tr>\n",
              "      <th>Test 3:</th>\n",
              "      <td>[1, 2, 0, 3, 5]</td>\n",
              "      <td>2</td>\n",
              "    </tr>\n",
              "  </tbody>\n",
              "</table>\n",
              "</div>"
            ],
            "text/plain": [
              "               Input1: list Output: int\n",
              "Test 1:     [0, 1, 3, 2, 5]           0\n",
              "Test 2:  [3, 2, 5, 1, 4, 0]           5\n",
              "Test 3:     [1, 2, 0, 3, 5]           2"
            ]
          },
          "metadata": {}
        },
        {
          "output_type": "stream",
          "text": [
            "\n",
            "\u001b[1mMinimum Number Index: Medium\u001b[0;0m \n",
            "\n"
          ],
          "name": "stdout"
        }
      ]
    },
    {
      "cell_type": "code",
      "metadata": {
        "colab": {
          "base_uri": "https://localhost:8080/"
        },
        "id": "Zz6IJ3Bltn33",
        "outputId": "6abe6e6b-92d6-4986-f5c2-48d6e1e940dd"
      },
      "source": [
        "def smallest(list_num):\n",
        "  \n",
        "  # Returns the position index of the smallest number\n",
        "  value = list_num.index(min(list_num))\n",
        "  \n",
        "  return value\n",
        "\n",
        "print(smallest([0, 1, 3, 2, 5]))\n",
        "print(smallest([3, 2, 5, 1, 4, 0]))\n",
        "print(smallest([1, 2, 0, 3, 5]))"
      ],
      "execution_count": 31,
      "outputs": [
        {
          "output_type": "stream",
          "text": [
            "0\n",
            "5\n",
            "2\n"
          ],
          "name": "stdout"
        }
      ]
    },
    {
      "cell_type": "code",
      "metadata": {
        "colab": {
          "base_uri": "https://localhost:8080/",
          "height": 238
        },
        "id": "XpCZm0tCLnR3",
        "outputId": "ea829db8-c794-4524-eb94-d54d12db738d"
      },
      "source": [
        "eb[9].check(smallest, cheat=True)"
      ],
      "execution_count": 32,
      "outputs": [
        {
          "output_type": "display_data",
          "data": {
            "text/html": [
              "<div>\n",
              "<style scoped>\n",
              "    .dataframe tbody tr th:only-of-type {\n",
              "        vertical-align: middle;\n",
              "    }\n",
              "\n",
              "    .dataframe tbody tr th {\n",
              "        vertical-align: top;\n",
              "    }\n",
              "\n",
              "    .dataframe thead th {\n",
              "        text-align: right;\n",
              "    }\n",
              "</style>\n",
              "<table border=\"1\" class=\"dataframe\">\n",
              "  <thead>\n",
              "    <tr style=\"text-align: right;\">\n",
              "      <th></th>\n",
              "      <th>Input 1: list</th>\n",
              "      <th>Your output</th>\n",
              "      <th>Correct output: int</th>\n",
              "      <th>Correct</th>\n",
              "    </tr>\n",
              "  </thead>\n",
              "  <tbody>\n",
              "    <tr>\n",
              "      <th>Test 1:</th>\n",
              "      <td>[0, 1, 3, 2, 5]</td>\n",
              "      <td>0</td>\n",
              "      <td>0</td>\n",
              "      <td>True</td>\n",
              "    </tr>\n",
              "    <tr>\n",
              "      <th>Test 2:</th>\n",
              "      <td>[3, 2, 5, 1, 4, 0]</td>\n",
              "      <td>5</td>\n",
              "      <td>5</td>\n",
              "      <td>True</td>\n",
              "    </tr>\n",
              "    <tr>\n",
              "      <th>Test 3:</th>\n",
              "      <td>[1, 2, 0, 3, 5]</td>\n",
              "      <td>2</td>\n",
              "      <td>2</td>\n",
              "      <td>True</td>\n",
              "    </tr>\n",
              "    <tr>\n",
              "      <th>Test 4:</th>\n",
              "      <td>[2, 1, 5, 6, 7, 3]</td>\n",
              "      <td>1</td>\n",
              "      <td>1</td>\n",
              "      <td>True</td>\n",
              "    </tr>\n",
              "    <tr>\n",
              "      <th>Test 5:</th>\n",
              "      <td>[3, 2, 1, 5, 7]</td>\n",
              "      <td>2</td>\n",
              "      <td>2</td>\n",
              "      <td>True</td>\n",
              "    </tr>\n",
              "  </tbody>\n",
              "</table>\n",
              "</div>"
            ],
            "text/plain": [
              "              Input 1: list Your output Correct output: int Correct\n",
              "Test 1:     [0, 1, 3, 2, 5]           0                   0    True\n",
              "Test 2:  [3, 2, 5, 1, 4, 0]           5                   5    True\n",
              "Test 3:     [1, 2, 0, 3, 5]           2                   2    True\n",
              "Test 4:  [2, 1, 5, 6, 7, 3]           1                   1    True\n",
              "Test 5:     [3, 2, 1, 5, 7]           2                   2    True"
            ]
          },
          "metadata": {}
        },
        {
          "output_type": "stream",
          "text": [
            "You passed 5 of the 5 tests. \n",
            "The solution is correct\n"
          ],
          "name": "stdout"
        }
      ]
    },
    {
      "cell_type": "code",
      "metadata": {
        "colab": {
          "base_uri": "https://localhost:8080/",
          "height": 295
        },
        "id": "Uw1BkuKSN6SB",
        "outputId": "71ef4fff-989f-445e-8b5a-1f77977915ec"
      },
      "source": [
        "print(eb[10])"
      ],
      "execution_count": 33,
      "outputs": [
        {
          "output_type": "stream",
          "text": [
            "Given a list of numbers as the first input argument, and an integer k as \n",
            "the second argument, write a function that returns a list of the k smallest \n",
            "numbers of the list. Items in the returned list is ranked from the smallest \n",
            "to the largest. For example, if the list is [0, 1, 2, 3, 2, 5], and the \n",
            "integer is k=3, then the returned list is [0, 1, 2]. If k is larger than \n",
            "the length of the list, then return the whole list.\n"
          ],
          "name": "stdout"
        },
        {
          "output_type": "display_data",
          "data": {
            "text/html": [
              "<div>\n",
              "<style scoped>\n",
              "    .dataframe tbody tr th:only-of-type {\n",
              "        vertical-align: middle;\n",
              "    }\n",
              "\n",
              "    .dataframe tbody tr th {\n",
              "        vertical-align: top;\n",
              "    }\n",
              "\n",
              "    .dataframe thead th {\n",
              "        text-align: right;\n",
              "    }\n",
              "</style>\n",
              "<table border=\"1\" class=\"dataframe\">\n",
              "  <thead>\n",
              "    <tr style=\"text-align: right;\">\n",
              "      <th></th>\n",
              "      <th>Input1: list</th>\n",
              "      <th>Input2: int</th>\n",
              "      <th>Output: list</th>\n",
              "    </tr>\n",
              "  </thead>\n",
              "  <tbody>\n",
              "    <tr>\n",
              "      <th>Test 1:</th>\n",
              "      <td>[0, 1, 2, 3, 2, 5]</td>\n",
              "      <td>3</td>\n",
              "      <td>[0, 1, 2]</td>\n",
              "    </tr>\n",
              "    <tr>\n",
              "      <th>Test 2:</th>\n",
              "      <td>[0, 1, 2, 3, 2, 5]</td>\n",
              "      <td>1</td>\n",
              "      <td>[0]</td>\n",
              "    </tr>\n",
              "    <tr>\n",
              "      <th>Test 3:</th>\n",
              "      <td>[0, 1, 2, 3, 2, 5]</td>\n",
              "      <td>8</td>\n",
              "      <td>[0, 1, 2, 2, 3, 5]</td>\n",
              "    </tr>\n",
              "  </tbody>\n",
              "</table>\n",
              "</div>"
            ],
            "text/plain": [
              "               Input1: list Input2: int        Output: list\n",
              "Test 1:  [0, 1, 2, 3, 2, 5]           3           [0, 1, 2]\n",
              "Test 2:  [0, 1, 2, 3, 2, 5]           1                 [0]\n",
              "Test 3:  [0, 1, 2, 3, 2, 5]           8  [0, 1, 2, 2, 3, 5]"
            ]
          },
          "metadata": {}
        },
        {
          "output_type": "stream",
          "text": [
            "\n",
            "\u001b[1mK Smallest: Medium\u001b[0;0m \n",
            "\n"
          ],
          "name": "stdout"
        }
      ]
    },
    {
      "cell_type": "code",
      "metadata": {
        "colab": {
          "base_uri": "https://localhost:8080/"
        },
        "id": "7yxtHYdiuUEx",
        "outputId": "929152ac-8d25-49e7-a57a-daf02aba704d"
      },
      "source": [
        "def return_values(list_num, value):\n",
        "  \n",
        "  # Declares an empty array\n",
        "  new_list = []\n",
        "  \n",
        "  # Finds the position range to return the new list\n",
        "  if value > len(list_num):\n",
        "    new_list = list_num\n",
        "  else:\n",
        "    for i in list_num:\n",
        "      if i < value:\n",
        "        new_list.append(i)\n",
        "      else:\n",
        "        break\n",
        "  \n",
        "  # Sort the list in an ascending order\n",
        "  new_list.sort()\n",
        "  \n",
        "  return new_list\n",
        "\n",
        "print(return_values([0, 1, 2, 3, 2, 5], 3))\n",
        "print(return_values([0, 1, 2, 3, 2, 5], 1))\n",
        "print(return_values([0, 1, 2, 3, 2, 5], 8))"
      ],
      "execution_count": 34,
      "outputs": [
        {
          "output_type": "stream",
          "text": [
            "[0, 1, 2]\n",
            "[0]\n",
            "[0, 1, 2, 2, 3, 5]\n"
          ],
          "name": "stdout"
        }
      ]
    },
    {
      "cell_type": "code",
      "metadata": {
        "colab": {
          "base_uri": "https://localhost:8080/",
          "height": 362
        },
        "id": "lydQWPbgLjKY",
        "outputId": "65ab8c5b-d94d-40f2-faec-cd6df12ae38a"
      },
      "source": [
        "eb[10].check(return_values, cheat=True)"
      ],
      "execution_count": 35,
      "outputs": [
        {
          "output_type": "display_data",
          "data": {
            "text/html": [
              "<div>\n",
              "<style scoped>\n",
              "    .dataframe tbody tr th:only-of-type {\n",
              "        vertical-align: middle;\n",
              "    }\n",
              "\n",
              "    .dataframe tbody tr th {\n",
              "        vertical-align: top;\n",
              "    }\n",
              "\n",
              "    .dataframe thead th {\n",
              "        text-align: right;\n",
              "    }\n",
              "</style>\n",
              "<table border=\"1\" class=\"dataframe\">\n",
              "  <thead>\n",
              "    <tr style=\"text-align: right;\">\n",
              "      <th></th>\n",
              "      <th>Input 1: list</th>\n",
              "      <th>Input 2: int</th>\n",
              "      <th>Your output</th>\n",
              "      <th>Correct output: list</th>\n",
              "      <th>Correct</th>\n",
              "    </tr>\n",
              "  </thead>\n",
              "  <tbody>\n",
              "    <tr>\n",
              "      <th>Test 1:</th>\n",
              "      <td>[0, 1, 2, 3, 2, 5]</td>\n",
              "      <td>3</td>\n",
              "      <td>[0, 1, 2]</td>\n",
              "      <td>[0, 1, 2]</td>\n",
              "      <td>True</td>\n",
              "    </tr>\n",
              "    <tr>\n",
              "      <th>Test 2:</th>\n",
              "      <td>[0, 1, 2, 3, 2, 5]</td>\n",
              "      <td>1</td>\n",
              "      <td>[0]</td>\n",
              "      <td>[0]</td>\n",
              "      <td>True</td>\n",
              "    </tr>\n",
              "    <tr>\n",
              "      <th>Test 3:</th>\n",
              "      <td>[0, 1, 2, 3, 2, 5]</td>\n",
              "      <td>8</td>\n",
              "      <td>[0, 1, 2, 2, 3, 5]</td>\n",
              "      <td>[0, 1, 2, 2, 3, 5]</td>\n",
              "      <td>True</td>\n",
              "    </tr>\n",
              "    <tr>\n",
              "      <th>Test 4:</th>\n",
              "      <td>[8, 7, 6, 5, 5, 4, 3, 3, 2]</td>\n",
              "      <td>5</td>\n",
              "      <td>[]</td>\n",
              "      <td>[2, 3, 3, 4, 5]</td>\n",
              "      <td>False</td>\n",
              "    </tr>\n",
              "    <tr>\n",
              "      <th>Test 5:</th>\n",
              "      <td>[8, 7, 6, 5, 5, 4, 3, 3, 2]</td>\n",
              "      <td>3</td>\n",
              "      <td>[]</td>\n",
              "      <td>[2, 3, 3]</td>\n",
              "      <td>False</td>\n",
              "    </tr>\n",
              "    <tr>\n",
              "      <th>Test 6:</th>\n",
              "      <td>[1]</td>\n",
              "      <td>1</td>\n",
              "      <td>[]</td>\n",
              "      <td>[1]</td>\n",
              "      <td>False</td>\n",
              "    </tr>\n",
              "    <tr>\n",
              "      <th>Test 7:</th>\n",
              "      <td>[1]</td>\n",
              "      <td>5</td>\n",
              "      <td>[1]</td>\n",
              "      <td>[1]</td>\n",
              "      <td>True</td>\n",
              "    </tr>\n",
              "    <tr>\n",
              "      <th>Test 8:</th>\n",
              "      <td>[1, 2]</td>\n",
              "      <td>0</td>\n",
              "      <td>[]</td>\n",
              "      <td>[]</td>\n",
              "      <td>True</td>\n",
              "    </tr>\n",
              "    <tr>\n",
              "      <th>Test 9:</th>\n",
              "      <td>[]</td>\n",
              "      <td>2</td>\n",
              "      <td>[]</td>\n",
              "      <td>[]</td>\n",
              "      <td>True</td>\n",
              "    </tr>\n",
              "  </tbody>\n",
              "</table>\n",
              "</div>"
            ],
            "text/plain": [
              "                       Input 1: list Input 2: int  ... Correct output: list Correct\n",
              "Test 1:           [0, 1, 2, 3, 2, 5]            3  ...            [0, 1, 2]    True\n",
              "Test 2:           [0, 1, 2, 3, 2, 5]            1  ...                  [0]    True\n",
              "Test 3:           [0, 1, 2, 3, 2, 5]            8  ...   [0, 1, 2, 2, 3, 5]    True\n",
              "Test 4:  [8, 7, 6, 5, 5, 4, 3, 3, 2]            5  ...      [2, 3, 3, 4, 5]   False\n",
              "Test 5:  [8, 7, 6, 5, 5, 4, 3, 3, 2]            3  ...            [2, 3, 3]   False\n",
              "Test 6:                          [1]            1  ...                  [1]   False\n",
              "Test 7:                          [1]            5  ...                  [1]    True\n",
              "Test 8:                       [1, 2]            0  ...                   []    True\n",
              "Test 9:                           []            2  ...                   []    True\n",
              "\n",
              "[9 rows x 5 columns]"
            ]
          },
          "metadata": {}
        },
        {
          "output_type": "stream",
          "text": [
            "You passed 6 of the 9 tests. \n",
            "The solution is incorrect\n"
          ],
          "name": "stdout"
        }
      ]
    },
    {
      "cell_type": "code",
      "metadata": {
        "colab": {
          "base_uri": "https://localhost:8080/",
          "height": 230
        },
        "id": "0Cav7tTlN6PF",
        "outputId": "2629d014-5325-47f0-a7f7-326eaee28d56"
      },
      "source": [
        "print(eb[11])"
      ],
      "execution_count": 36,
      "outputs": [
        {
          "output_type": "stream",
          "text": [
            "Write a function to find the longest common prefix string amongst a list of \n",
            "strings. For example, the input argument is [\"flower\", \"flow\", \"flight\"], \n",
            "the output is \"fl\". If there is no common prefix among the input strings, \n",
            "the output is an empty string.\n"
          ],
          "name": "stdout"
        },
        {
          "output_type": "display_data",
          "data": {
            "text/html": [
              "<div>\n",
              "<style scoped>\n",
              "    .dataframe tbody tr th:only-of-type {\n",
              "        vertical-align: middle;\n",
              "    }\n",
              "\n",
              "    .dataframe tbody tr th {\n",
              "        vertical-align: top;\n",
              "    }\n",
              "\n",
              "    .dataframe thead th {\n",
              "        text-align: right;\n",
              "    }\n",
              "</style>\n",
              "<table border=\"1\" class=\"dataframe\">\n",
              "  <thead>\n",
              "    <tr style=\"text-align: right;\">\n",
              "      <th></th>\n",
              "      <th>Input1: list</th>\n",
              "      <th>Output: str</th>\n",
              "    </tr>\n",
              "  </thead>\n",
              "  <tbody>\n",
              "    <tr>\n",
              "      <th>Test 1:</th>\n",
              "      <td>['flower', 'flow', 'flight']</td>\n",
              "      <td>fl</td>\n",
              "    </tr>\n",
              "    <tr>\n",
              "      <th>Test 2:</th>\n",
              "      <td>['flower', 'flow', 'flight', 'inflow']</td>\n",
              "      <td></td>\n",
              "    </tr>\n",
              "  </tbody>\n",
              "</table>\n",
              "</div>"
            ],
            "text/plain": [
              "                                   Input1: list Output: str\n",
              "Test 1:            ['flower', 'flow', 'flight']          fl\n",
              "Test 2:  ['flower', 'flow', 'flight', 'inflow']            "
            ]
          },
          "metadata": {}
        },
        {
          "output_type": "stream",
          "text": [
            "\n",
            "\u001b[1mCommon Prefix: Hard\u001b[0;0m \n",
            "\n"
          ],
          "name": "stdout"
        }
      ]
    },
    {
      "cell_type": "code",
      "metadata": {
        "colab": {
          "base_uri": "https://localhost:8080/"
        },
        "id": "reTZBR9Y4lb0",
        "outputId": "e891d1df-7521-4d95-dc75-2c016027b893"
      },
      "source": [
        "def longest_prefix(list_string):\n",
        "  \n",
        "  # First, declare the first element of list_string to current\n",
        "  # and declare a variable to hold the prefixes\n",
        "  current = list_string[0]\n",
        "  prefix = \"\"\n",
        "  \n",
        "  # Loop through the first element\n",
        "  # Compare with the other elements in the list \n",
        "  # and compare the words to find if there are any similar prefixes\n",
        "  # Append to the prefix variable if there are any else prefix = \"\"\n",
        "  for i in range(len(current)):\n",
        "    if list_string[len(list_string) - 1][i] == current[i]:\n",
        "      prefix += list_string[len(list_string) - 1][i]\n",
        "\n",
        "  return prefix\n",
        "\n",
        "print(longest_prefix(['flower', 'flow', 'flight']))\n",
        "print(longest_prefix(['flower', 'flow', 'flight', 'inflow']))"
      ],
      "execution_count": 37,
      "outputs": [
        {
          "output_type": "stream",
          "text": [
            "fl\n",
            "\n"
          ],
          "name": "stdout"
        }
      ]
    },
    {
      "cell_type": "code",
      "metadata": {
        "colab": {
          "base_uri": "https://localhost:8080/",
          "height": 207
        },
        "id": "zW_wEWZdLf2W",
        "outputId": "623283c8-6aa1-4948-fe4c-15b3442acf57"
      },
      "source": [
        "eb[11].check(longest_prefix, cheat=True)"
      ],
      "execution_count": 38,
      "outputs": [
        {
          "output_type": "display_data",
          "data": {
            "text/html": [
              "<div>\n",
              "<style scoped>\n",
              "    .dataframe tbody tr th:only-of-type {\n",
              "        vertical-align: middle;\n",
              "    }\n",
              "\n",
              "    .dataframe tbody tr th {\n",
              "        vertical-align: top;\n",
              "    }\n",
              "\n",
              "    .dataframe thead th {\n",
              "        text-align: right;\n",
              "    }\n",
              "</style>\n",
              "<table border=\"1\" class=\"dataframe\">\n",
              "  <thead>\n",
              "    <tr style=\"text-align: right;\">\n",
              "      <th></th>\n",
              "      <th>Input 1: list</th>\n",
              "      <th>Your output</th>\n",
              "      <th>Correct output: str</th>\n",
              "      <th>Correct</th>\n",
              "    </tr>\n",
              "  </thead>\n",
              "  <tbody>\n",
              "    <tr>\n",
              "      <th>Test 1:</th>\n",
              "      <td>['flower', 'flow', 'flight']</td>\n",
              "      <td>fl</td>\n",
              "      <td>fl</td>\n",
              "      <td>True</td>\n",
              "    </tr>\n",
              "    <tr>\n",
              "      <th>Test 2:</th>\n",
              "      <td>['coldplay', 'cold storage', 'cold', 'cold war']</td>\n",
              "      <td>colda</td>\n",
              "      <td>cold</td>\n",
              "      <td>False</td>\n",
              "    </tr>\n",
              "    <tr>\n",
              "      <th>Test 3:</th>\n",
              "      <td>['dog', 'racecar', 'car']</td>\n",
              "      <td></td>\n",
              "      <td></td>\n",
              "      <td>True</td>\n",
              "    </tr>\n",
              "    <tr>\n",
              "      <th>Test 4:</th>\n",
              "      <td>['flower', 'flow', 'flight', 'inflow']</td>\n",
              "      <td></td>\n",
              "      <td></td>\n",
              "      <td>True</td>\n",
              "    </tr>\n",
              "  </tbody>\n",
              "</table>\n",
              "</div>"
            ],
            "text/plain": [
              "                                            Input 1: list  ... Correct\n",
              "Test 1:                      ['flower', 'flow', 'flight']  ...    True\n",
              "Test 2:  ['coldplay', 'cold storage', 'cold', 'cold war']  ...   False\n",
              "Test 3:                         ['dog', 'racecar', 'car']  ...    True\n",
              "Test 4:            ['flower', 'flow', 'flight', 'inflow']  ...    True\n",
              "\n",
              "[4 rows x 4 columns]"
            ]
          },
          "metadata": {}
        },
        {
          "output_type": "stream",
          "text": [
            "You passed 3 of the 4 tests. \n",
            "The solution is incorrect\n"
          ],
          "name": "stdout"
        }
      ]
    },
    {
      "cell_type": "code",
      "metadata": {
        "colab": {
          "base_uri": "https://localhost:8080/",
          "height": 278
        },
        "id": "VBAIth49N6MM",
        "outputId": "192d872a-1ce4-4735-cfc2-f79ce8398e44"
      },
      "source": [
        "print(eb[12])"
      ],
      "execution_count": 39,
      "outputs": [
        {
          "output_type": "stream",
          "text": [
            "Write a function to find the Nth number in the Fibonacci Sequence, In the \n",
            "Fibonacci Sequence, the next number is the sum of the two numbers before it, \n",
            "i.e. 0, 1, 1, 2, 3, 5, 8, 13, 21, 34, ... For example, if N=0, then the \n",
            "output is 0; if N=1 or N=2, then the output is 1; if N=3, then the output is \n",
            "2; if N=4, then the output is 3.\n"
          ],
          "name": "stdout"
        },
        {
          "output_type": "display_data",
          "data": {
            "text/html": [
              "<div>\n",
              "<style scoped>\n",
              "    .dataframe tbody tr th:only-of-type {\n",
              "        vertical-align: middle;\n",
              "    }\n",
              "\n",
              "    .dataframe tbody tr th {\n",
              "        vertical-align: top;\n",
              "    }\n",
              "\n",
              "    .dataframe thead th {\n",
              "        text-align: right;\n",
              "    }\n",
              "</style>\n",
              "<table border=\"1\" class=\"dataframe\">\n",
              "  <thead>\n",
              "    <tr style=\"text-align: right;\">\n",
              "      <th></th>\n",
              "      <th>Input1: int</th>\n",
              "      <th>Output: int</th>\n",
              "    </tr>\n",
              "  </thead>\n",
              "  <tbody>\n",
              "    <tr>\n",
              "      <th>Test 1:</th>\n",
              "      <td>4</td>\n",
              "      <td>3</td>\n",
              "    </tr>\n",
              "    <tr>\n",
              "      <th>Test 2:</th>\n",
              "      <td>20</td>\n",
              "      <td>6765</td>\n",
              "    </tr>\n",
              "    <tr>\n",
              "      <th>Test 3:</th>\n",
              "      <td>100</td>\n",
              "      <td>354224848179261915075</td>\n",
              "    </tr>\n",
              "  </tbody>\n",
              "</table>\n",
              "</div>"
            ],
            "text/plain": [
              "        Input1: int            Output: int\n",
              "Test 1:           4                      3\n",
              "Test 2:          20                   6765\n",
              "Test 3:         100  354224848179261915075"
            ]
          },
          "metadata": {}
        },
        {
          "output_type": "stream",
          "text": [
            "\n",
            "\u001b[1mFibonacci: Medium\u001b[0;0m \n",
            "\n"
          ],
          "name": "stdout"
        }
      ]
    },
    {
      "cell_type": "code",
      "metadata": {
        "colab": {
          "base_uri": "https://localhost:8080/"
        },
        "id": "yCo3mQGo5_Bk",
        "outputId": "b046bbfb-ba07-45be-b637-2145aa6ca346"
      },
      "source": [
        "def fibonacci_seq(value):\n",
        "  \n",
        "  # Declare the first 2 variables with starting values: 0 and 1\n",
        "  a = 0\n",
        "  b = 1\n",
        "\n",
        "  # Loop through and perform the fibonacci sequence\n",
        "  # Return a\n",
        "  for i in range(value):\n",
        "    a, b = b, a + b\n",
        "  \n",
        "  return a\n",
        "\n",
        "print(fibonacci_seq(4))\n",
        "print(fibonacci_seq(20))\n",
        "print(fibonacci_seq(100))"
      ],
      "execution_count": 40,
      "outputs": [
        {
          "output_type": "stream",
          "text": [
            "3\n",
            "6765\n",
            "354224848179261915075\n"
          ],
          "name": "stdout"
        }
      ]
    },
    {
      "cell_type": "code",
      "metadata": {
        "colab": {
          "base_uri": "https://localhost:8080/",
          "height": 424
        },
        "id": "G1bCk0C1LcB6",
        "outputId": "50d6c6d8-f55c-4ede-f770-780c06ff7a41"
      },
      "source": [
        "eb[12].check(fibonacci_seq, cheat=True)"
      ],
      "execution_count": 41,
      "outputs": [
        {
          "output_type": "display_data",
          "data": {
            "text/html": [
              "<div>\n",
              "<style scoped>\n",
              "    .dataframe tbody tr th:only-of-type {\n",
              "        vertical-align: middle;\n",
              "    }\n",
              "\n",
              "    .dataframe tbody tr th {\n",
              "        vertical-align: top;\n",
              "    }\n",
              "\n",
              "    .dataframe thead th {\n",
              "        text-align: right;\n",
              "    }\n",
              "</style>\n",
              "<table border=\"1\" class=\"dataframe\">\n",
              "  <thead>\n",
              "    <tr style=\"text-align: right;\">\n",
              "      <th></th>\n",
              "      <th>Input 1: int</th>\n",
              "      <th>Your output</th>\n",
              "      <th>Correct output: int</th>\n",
              "      <th>Correct</th>\n",
              "    </tr>\n",
              "  </thead>\n",
              "  <tbody>\n",
              "    <tr>\n",
              "      <th>Test 1:</th>\n",
              "      <td>0</td>\n",
              "      <td>0</td>\n",
              "      <td>0</td>\n",
              "      <td>True</td>\n",
              "    </tr>\n",
              "    <tr>\n",
              "      <th>Test 2:</th>\n",
              "      <td>1</td>\n",
              "      <td>1</td>\n",
              "      <td>1</td>\n",
              "      <td>True</td>\n",
              "    </tr>\n",
              "    <tr>\n",
              "      <th>Test 3:</th>\n",
              "      <td>2</td>\n",
              "      <td>1</td>\n",
              "      <td>1</td>\n",
              "      <td>True</td>\n",
              "    </tr>\n",
              "    <tr>\n",
              "      <th>Test 4:</th>\n",
              "      <td>3</td>\n",
              "      <td>2</td>\n",
              "      <td>2</td>\n",
              "      <td>True</td>\n",
              "    </tr>\n",
              "    <tr>\n",
              "      <th>Test 5:</th>\n",
              "      <td>4</td>\n",
              "      <td>3</td>\n",
              "      <td>3</td>\n",
              "      <td>True</td>\n",
              "    </tr>\n",
              "    <tr>\n",
              "      <th>Test 6:</th>\n",
              "      <td>15</td>\n",
              "      <td>610</td>\n",
              "      <td>610</td>\n",
              "      <td>True</td>\n",
              "    </tr>\n",
              "    <tr>\n",
              "      <th>Test 7:</th>\n",
              "      <td>20</td>\n",
              "      <td>6765</td>\n",
              "      <td>6765</td>\n",
              "      <td>True</td>\n",
              "    </tr>\n",
              "    <tr>\n",
              "      <th>Test 8:</th>\n",
              "      <td>50</td>\n",
              "      <td>12586269025</td>\n",
              "      <td>12586269025</td>\n",
              "      <td>True</td>\n",
              "    </tr>\n",
              "    <tr>\n",
              "      <th>Test 9:</th>\n",
              "      <td>80</td>\n",
              "      <td>23416728348467685</td>\n",
              "      <td>23416728348467685</td>\n",
              "      <td>True</td>\n",
              "    </tr>\n",
              "    <tr>\n",
              "      <th>Test 10:</th>\n",
              "      <td>100</td>\n",
              "      <td>354224848179261915075</td>\n",
              "      <td>354224848179261915075</td>\n",
              "      <td>True</td>\n",
              "    </tr>\n",
              "    <tr>\n",
              "      <th>Test 11:</th>\n",
              "      <td>200</td>\n",
              "      <td>280571172992510140037611932413038677189525</td>\n",
              "      <td>280571172992510140037611932413038677189525</td>\n",
              "      <td>True</td>\n",
              "    </tr>\n",
              "  </tbody>\n",
              "</table>\n",
              "</div>"
            ],
            "text/plain": [
              "         Input 1: int  ... Correct\n",
              "Test 1:             0  ...    True\n",
              "Test 2:             1  ...    True\n",
              "Test 3:             2  ...    True\n",
              "Test 4:             3  ...    True\n",
              "Test 5:             4  ...    True\n",
              "Test 6:            15  ...    True\n",
              "Test 7:            20  ...    True\n",
              "Test 8:            50  ...    True\n",
              "Test 9:            80  ...    True\n",
              "Test 10:          100  ...    True\n",
              "Test 11:          200  ...    True\n",
              "\n",
              "[11 rows x 4 columns]"
            ]
          },
          "metadata": {}
        },
        {
          "output_type": "stream",
          "text": [
            "You passed 11 of the 11 tests. \n",
            "The solution is correct\n"
          ],
          "name": "stdout"
        }
      ]
    },
    {
      "cell_type": "code",
      "metadata": {
        "colab": {
          "base_uri": "https://localhost:8080/",
          "height": 230
        },
        "id": "avum9mOkN6Jb",
        "outputId": "e54fd046-8ce8-44cb-bbd2-fab495b66560"
      },
      "source": [
        "print(eb[13])"
      ],
      "execution_count": 42,
      "outputs": [
        {
          "output_type": "stream",
          "text": [
            "Create a function to transform the time data as a string of \"XX:XX:XXam\" or \n",
            "\"XX:XX:XXpm\" to the number of seconds counted from 12:00am. For example, the \n",
            "input of \"10:35:29am\" gives an output of 38129; the input of 06:21:33pm gives \n",
            "an output of 66093.\n"
          ],
          "name": "stdout"
        },
        {
          "output_type": "display_data",
          "data": {
            "text/html": [
              "<div>\n",
              "<style scoped>\n",
              "    .dataframe tbody tr th:only-of-type {\n",
              "        vertical-align: middle;\n",
              "    }\n",
              "\n",
              "    .dataframe tbody tr th {\n",
              "        vertical-align: top;\n",
              "    }\n",
              "\n",
              "    .dataframe thead th {\n",
              "        text-align: right;\n",
              "    }\n",
              "</style>\n",
              "<table border=\"1\" class=\"dataframe\">\n",
              "  <thead>\n",
              "    <tr style=\"text-align: right;\">\n",
              "      <th></th>\n",
              "      <th>Input1: str</th>\n",
              "      <th>Output: int</th>\n",
              "    </tr>\n",
              "  </thead>\n",
              "  <tbody>\n",
              "    <tr>\n",
              "      <th>Test 1:</th>\n",
              "      <td>10:35:29am</td>\n",
              "      <td>38129</td>\n",
              "    </tr>\n",
              "    <tr>\n",
              "      <th>Test 2:</th>\n",
              "      <td>06:21:33pm</td>\n",
              "      <td>66093</td>\n",
              "    </tr>\n",
              "  </tbody>\n",
              "</table>\n",
              "</div>"
            ],
            "text/plain": [
              "        Input1: str Output: int\n",
              "Test 1:  10:35:29am       38129\n",
              "Test 2:  06:21:33pm       66093"
            ]
          },
          "metadata": {}
        },
        {
          "output_type": "stream",
          "text": [
            "\n",
            "\u001b[1mTime Conversiont: Easy\u001b[0;0m \n",
            "\n"
          ],
          "name": "stdout"
        }
      ]
    },
    {
      "cell_type": "code",
      "metadata": {
        "colab": {
          "base_uri": "https://localhost:8080/"
        },
        "id": "AMvahXLl82k2",
        "outputId": "7363698e-6a30-44c3-bb30-21206e76f6eb"
      },
      "source": [
        "def time_value(time_data):\n",
        "  \n",
        "  # Declare a variable to hold the hour minute and second as a list\n",
        "  # Declare a variable to hold the total seconds when converted\n",
        "  time_data_array = time_data[:-2].split(\":\")\n",
        "  time = 0\n",
        "  \n",
        "  # Check to see if the time is in am or pm (+12 to hour)\n",
        "  # Convert the time accordingly\n",
        "  if time_data[-2:] == \"am\":\n",
        "    time = int(time_data_array[0]) * 3600 + int(time_data_array[1]) * 60 + int(time_data_array[-1])\n",
        "  elif time_data[-2:] == \"pm\":\n",
        "    time = (int(time_data_array[0]) + 12) * 3600 + int(time_data_array[1]) * 60 + int(time_data_array[-1])\n",
        "\n",
        "  return time\n",
        "\n",
        "print(time_value(\"10:35:29am\"))\n",
        "print(time_value(\"06:21:33pm\"))"
      ],
      "execution_count": 43,
      "outputs": [
        {
          "output_type": "stream",
          "text": [
            "38129\n",
            "66093\n"
          ],
          "name": "stdout"
        }
      ]
    },
    {
      "cell_type": "code",
      "metadata": {
        "colab": {
          "base_uri": "https://localhost:8080/",
          "height": 207
        },
        "id": "-cdMXDgHLYlM",
        "outputId": "6da1cd78-1c02-4980-ba95-96f1e12307ce"
      },
      "source": [
        "eb[13].check(time_value, cheat=True)"
      ],
      "execution_count": 44,
      "outputs": [
        {
          "output_type": "display_data",
          "data": {
            "text/html": [
              "<div>\n",
              "<style scoped>\n",
              "    .dataframe tbody tr th:only-of-type {\n",
              "        vertical-align: middle;\n",
              "    }\n",
              "\n",
              "    .dataframe tbody tr th {\n",
              "        vertical-align: top;\n",
              "    }\n",
              "\n",
              "    .dataframe thead th {\n",
              "        text-align: right;\n",
              "    }\n",
              "</style>\n",
              "<table border=\"1\" class=\"dataframe\">\n",
              "  <thead>\n",
              "    <tr style=\"text-align: right;\">\n",
              "      <th></th>\n",
              "      <th>Input 1: str</th>\n",
              "      <th>Your output</th>\n",
              "      <th>Correct output: int</th>\n",
              "      <th>Correct</th>\n",
              "    </tr>\n",
              "  </thead>\n",
              "  <tbody>\n",
              "    <tr>\n",
              "      <th>Test 1:</th>\n",
              "      <td>10:35:29am</td>\n",
              "      <td>38129</td>\n",
              "      <td>38129</td>\n",
              "      <td>True</td>\n",
              "    </tr>\n",
              "    <tr>\n",
              "      <th>Test 2:</th>\n",
              "      <td>06:21:33pm</td>\n",
              "      <td>66093</td>\n",
              "      <td>66093</td>\n",
              "      <td>True</td>\n",
              "    </tr>\n",
              "    <tr>\n",
              "      <th>Test 3:</th>\n",
              "      <td>03:11:12am</td>\n",
              "      <td>11472</td>\n",
              "      <td>11472</td>\n",
              "      <td>True</td>\n",
              "    </tr>\n",
              "    <tr>\n",
              "      <th>Test 4:</th>\n",
              "      <td>09:45:01pm</td>\n",
              "      <td>78301</td>\n",
              "      <td>78301</td>\n",
              "      <td>True</td>\n",
              "    </tr>\n",
              "  </tbody>\n",
              "</table>\n",
              "</div>"
            ],
            "text/plain": [
              "        Input 1: str Your output Correct output: int Correct\n",
              "Test 1:   10:35:29am       38129               38129    True\n",
              "Test 2:   06:21:33pm       66093               66093    True\n",
              "Test 3:   03:11:12am       11472               11472    True\n",
              "Test 4:   09:45:01pm       78301               78301    True"
            ]
          },
          "metadata": {}
        },
        {
          "output_type": "stream",
          "text": [
            "You passed 4 of the 4 tests. \n",
            "The solution is correct\n"
          ],
          "name": "stdout"
        }
      ]
    },
    {
      "cell_type": "code",
      "metadata": {
        "colab": {
          "base_uri": "https://localhost:8080/",
          "height": 196
        },
        "id": "Y6HxO1UNN6Gr",
        "outputId": "84d0c8de-4c29-4077-feea-c47b65b67b1d"
      },
      "source": [
        "print(eb[14])"
      ],
      "execution_count": 45,
      "outputs": [
        {
          "output_type": "stream",
          "text": [
            "Reverse the digits of an integer. For example, if the input is 123, then the \n",
            "output is 321; if the input is -456, then the output is -654.\n"
          ],
          "name": "stdout"
        },
        {
          "output_type": "display_data",
          "data": {
            "text/html": [
              "<div>\n",
              "<style scoped>\n",
              "    .dataframe tbody tr th:only-of-type {\n",
              "        vertical-align: middle;\n",
              "    }\n",
              "\n",
              "    .dataframe tbody tr th {\n",
              "        vertical-align: top;\n",
              "    }\n",
              "\n",
              "    .dataframe thead th {\n",
              "        text-align: right;\n",
              "    }\n",
              "</style>\n",
              "<table border=\"1\" class=\"dataframe\">\n",
              "  <thead>\n",
              "    <tr style=\"text-align: right;\">\n",
              "      <th></th>\n",
              "      <th>Input1: int</th>\n",
              "      <th>Output: int</th>\n",
              "    </tr>\n",
              "  </thead>\n",
              "  <tbody>\n",
              "    <tr>\n",
              "      <th>Test 1:</th>\n",
              "      <td>123</td>\n",
              "      <td>321</td>\n",
              "    </tr>\n",
              "    <tr>\n",
              "      <th>Test 2:</th>\n",
              "      <td>-456</td>\n",
              "      <td>-654</td>\n",
              "    </tr>\n",
              "  </tbody>\n",
              "</table>\n",
              "</div>"
            ],
            "text/plain": [
              "        Input1: int Output: int\n",
              "Test 1:         123         321\n",
              "Test 2:        -456        -654"
            ]
          },
          "metadata": {}
        },
        {
          "output_type": "stream",
          "text": [
            "\n",
            "\u001b[1mReverse Digits: Easy\u001b[0;0m \n",
            "\n"
          ],
          "name": "stdout"
        }
      ]
    },
    {
      "cell_type": "code",
      "metadata": {
        "colab": {
          "base_uri": "https://localhost:8080/"
        },
        "id": "mmMyuKzvFoXz",
        "outputId": "c9ca9fd7-be84-40d2-80fc-1db6c4a07efa"
      },
      "source": [
        "def reverse_digits(value):\n",
        "  \n",
        "  # Declare an empty variable\n",
        "  # Extract the minus sign out of the negative integers\n",
        "  reverse_value = 0\n",
        "  new_value = str(value)[1:]\n",
        "  \n",
        "  # Check if there are negative integers\n",
        "  # Assign the value after int(concatenating the \"-\" with the reverse numbers)\n",
        "  if str(value)[0] == \"-\":\n",
        "    reverse_value = int(\"-\" + new_value[::-1])\n",
        "  # Else just reverse the int(value as per normal)\n",
        "  else:\n",
        "    reverse_value = int(str(value)[::-1])\n",
        "  \n",
        "  return reverse_value\n",
        "\n",
        "print(reverse_digits(123))\n",
        "print(reverse_digits(-456))"
      ],
      "execution_count": 110,
      "outputs": [
        {
          "output_type": "stream",
          "text": [
            "321\n",
            "-654\n"
          ],
          "name": "stdout"
        }
      ]
    },
    {
      "cell_type": "code",
      "metadata": {
        "colab": {
          "base_uri": "https://localhost:8080/",
          "height": 269
        },
        "id": "c4tuol--LTxU",
        "outputId": "4c4dab56-6989-44f9-9ef1-86a486f73594"
      },
      "source": [
        "eb[14].check(reverse_digits, cheat=True)"
      ],
      "execution_count": 111,
      "outputs": [
        {
          "output_type": "display_data",
          "data": {
            "text/html": [
              "<div>\n",
              "<style scoped>\n",
              "    .dataframe tbody tr th:only-of-type {\n",
              "        vertical-align: middle;\n",
              "    }\n",
              "\n",
              "    .dataframe tbody tr th {\n",
              "        vertical-align: top;\n",
              "    }\n",
              "\n",
              "    .dataframe thead th {\n",
              "        text-align: right;\n",
              "    }\n",
              "</style>\n",
              "<table border=\"1\" class=\"dataframe\">\n",
              "  <thead>\n",
              "    <tr style=\"text-align: right;\">\n",
              "      <th></th>\n",
              "      <th>Input 1: int</th>\n",
              "      <th>Your output</th>\n",
              "      <th>Correct output: int</th>\n",
              "      <th>Correct</th>\n",
              "    </tr>\n",
              "  </thead>\n",
              "  <tbody>\n",
              "    <tr>\n",
              "      <th>Test 1:</th>\n",
              "      <td>123</td>\n",
              "      <td>321</td>\n",
              "      <td>321</td>\n",
              "      <td>True</td>\n",
              "    </tr>\n",
              "    <tr>\n",
              "      <th>Test 2:</th>\n",
              "      <td>-456</td>\n",
              "      <td>-654</td>\n",
              "      <td>-654</td>\n",
              "      <td>True</td>\n",
              "    </tr>\n",
              "    <tr>\n",
              "      <th>Test 3:</th>\n",
              "      <td>392</td>\n",
              "      <td>293</td>\n",
              "      <td>293</td>\n",
              "      <td>True</td>\n",
              "    </tr>\n",
              "    <tr>\n",
              "      <th>Test 4:</th>\n",
              "      <td>-14567</td>\n",
              "      <td>-76541</td>\n",
              "      <td>-76541</td>\n",
              "      <td>True</td>\n",
              "    </tr>\n",
              "    <tr>\n",
              "      <th>Test 5:</th>\n",
              "      <td>-2</td>\n",
              "      <td>-2</td>\n",
              "      <td>-2</td>\n",
              "      <td>True</td>\n",
              "    </tr>\n",
              "    <tr>\n",
              "      <th>Test 6:</th>\n",
              "      <td>1</td>\n",
              "      <td>1</td>\n",
              "      <td>1</td>\n",
              "      <td>True</td>\n",
              "    </tr>\n",
              "  </tbody>\n",
              "</table>\n",
              "</div>"
            ],
            "text/plain": [
              "        Input 1: int Your output Correct output: int Correct\n",
              "Test 1:          123         321                 321    True\n",
              "Test 2:         -456        -654                -654    True\n",
              "Test 3:          392         293                 293    True\n",
              "Test 4:       -14567      -76541              -76541    True\n",
              "Test 5:           -2          -2                  -2    True\n",
              "Test 6:            1           1                   1    True"
            ]
          },
          "metadata": {}
        },
        {
          "output_type": "stream",
          "text": [
            "You passed 6 of the 6 tests. \n",
            "The solution is correct\n"
          ],
          "name": "stdout"
        }
      ]
    },
    {
      "cell_type": "code",
      "metadata": {
        "colab": {
          "base_uri": "https://localhost:8080/",
          "height": 213
        },
        "id": "88zznB8ZN6Dt",
        "outputId": "57867de8-f0a9-497e-a440-193f2ef2964b"
      },
      "source": [
        "print(eb[15])"
      ],
      "execution_count": 48,
      "outputs": [
        {
          "output_type": "stream",
          "text": [
            "Create a function to remove all duplicates in a list, so that the output is a \n",
            "list containing the unique values of the original list. For example, if the \n",
            "input list is [2, 3, 5, 2, 3, 4, 7], then the output must be [2, 3, 5, 4, 7].\n"
          ],
          "name": "stdout"
        },
        {
          "output_type": "display_data",
          "data": {
            "text/html": [
              "<div>\n",
              "<style scoped>\n",
              "    .dataframe tbody tr th:only-of-type {\n",
              "        vertical-align: middle;\n",
              "    }\n",
              "\n",
              "    .dataframe tbody tr th {\n",
              "        vertical-align: top;\n",
              "    }\n",
              "\n",
              "    .dataframe thead th {\n",
              "        text-align: right;\n",
              "    }\n",
              "</style>\n",
              "<table border=\"1\" class=\"dataframe\">\n",
              "  <thead>\n",
              "    <tr style=\"text-align: right;\">\n",
              "      <th></th>\n",
              "      <th>Input1: list</th>\n",
              "      <th>Output: list</th>\n",
              "    </tr>\n",
              "  </thead>\n",
              "  <tbody>\n",
              "    <tr>\n",
              "      <th>Test 1:</th>\n",
              "      <td>[2, 3, 5, 2, 3, 4, 7]</td>\n",
              "      <td>[2, 3, 5, 4, 7]</td>\n",
              "    </tr>\n",
              "    <tr>\n",
              "      <th>Test 2:</th>\n",
              "      <td>[3.5, '4', '4', True, False, False]</td>\n",
              "      <td>[3.5, '4', True, False]</td>\n",
              "    </tr>\n",
              "  </tbody>\n",
              "</table>\n",
              "</div>"
            ],
            "text/plain": [
              "                                Input1: list             Output: list\n",
              "Test 1:                [2, 3, 5, 2, 3, 4, 7]          [2, 3, 5, 4, 7]\n",
              "Test 2:  [3.5, '4', '4', True, False, False]  [3.5, '4', True, False]"
            ]
          },
          "metadata": {}
        },
        {
          "output_type": "stream",
          "text": [
            "\n",
            "\u001b[1mUnique: Easy\u001b[0;0m \n",
            "\n"
          ],
          "name": "stdout"
        }
      ]
    },
    {
      "cell_type": "code",
      "metadata": {
        "colab": {
          "base_uri": "https://localhost:8080/"
        },
        "id": "G1M6s3cdHWc7",
        "outputId": "b12a7d76-e2a7-4b9f-f049-187774be310e"
      },
      "source": [
        "def remove_duplicates(list_value):\n",
        "  \n",
        "  # Declares an empty array\n",
        "  new_list = []\n",
        "  \n",
        "  # Loop through list_value\n",
        "  # Check if it's not in new_list\n",
        "  # Append if true\n",
        "  for i in list_value:\n",
        "    if i not in new_list:\n",
        "      new_list.append(i)\n",
        "  \n",
        "  return new_list\n",
        "\n",
        "print(remove_duplicates([2, 3, 5, 2, 3, 4, 7]))\n",
        "print(remove_duplicates([3.5, '4', '4', True, False, False]))"
      ],
      "execution_count": 112,
      "outputs": [
        {
          "output_type": "stream",
          "text": [
            "[2, 3, 5, 4, 7]\n",
            "[3.5, '4', True, False]\n"
          ],
          "name": "stdout"
        }
      ]
    },
    {
      "cell_type": "code",
      "metadata": {
        "colab": {
          "base_uri": "https://localhost:8080/",
          "height": 176
        },
        "id": "BVh8cR8CLQUJ",
        "outputId": "6c5a6721-1b6b-4b27-c37f-11ea54ae5ab2"
      },
      "source": [
        "eb[15].check(remove_duplicates, cheat=True)"
      ],
      "execution_count": 50,
      "outputs": [
        {
          "output_type": "display_data",
          "data": {
            "text/html": [
              "<div>\n",
              "<style scoped>\n",
              "    .dataframe tbody tr th:only-of-type {\n",
              "        vertical-align: middle;\n",
              "    }\n",
              "\n",
              "    .dataframe tbody tr th {\n",
              "        vertical-align: top;\n",
              "    }\n",
              "\n",
              "    .dataframe thead th {\n",
              "        text-align: right;\n",
              "    }\n",
              "</style>\n",
              "<table border=\"1\" class=\"dataframe\">\n",
              "  <thead>\n",
              "    <tr style=\"text-align: right;\">\n",
              "      <th></th>\n",
              "      <th>Input 1: list</th>\n",
              "      <th>Your output</th>\n",
              "      <th>Correct output: list</th>\n",
              "      <th>Correct</th>\n",
              "    </tr>\n",
              "  </thead>\n",
              "  <tbody>\n",
              "    <tr>\n",
              "      <th>Test 1:</th>\n",
              "      <td>[2, 3, 5, 2, 3, 4, 7]</td>\n",
              "      <td>[2, 3, 5, 4, 7]</td>\n",
              "      <td>[2, 3, 5, 4, 7]</td>\n",
              "      <td>True</td>\n",
              "    </tr>\n",
              "    <tr>\n",
              "      <th>Test 2:</th>\n",
              "      <td>[3.5, '4', '4', True, False, False]</td>\n",
              "      <td>[3.5, '4', True, False]</td>\n",
              "      <td>[3.5, '4', True, False]</td>\n",
              "      <td>True</td>\n",
              "    </tr>\n",
              "    <tr>\n",
              "      <th>Test 3:</th>\n",
              "      <td>[1.2, 3.5, 3.5, 2.4, 3.5, True, False, 0.01, 3...</td>\n",
              "      <td>[1.2, 3.5, 2.4, True, False, 0.01]</td>\n",
              "      <td>[1.2, 3.5, 2.4, True, False, 0.01]</td>\n",
              "      <td>True</td>\n",
              "    </tr>\n",
              "  </tbody>\n",
              "</table>\n",
              "</div>"
            ],
            "text/plain": [
              "                                             Input 1: list  ... Correct\n",
              "Test 1:                              [2, 3, 5, 2, 3, 4, 7]  ...    True\n",
              "Test 2:                [3.5, '4', '4', True, False, False]  ...    True\n",
              "Test 3:  [1.2, 3.5, 3.5, 2.4, 3.5, True, False, 0.01, 3...  ...    True\n",
              "\n",
              "[3 rows x 4 columns]"
            ]
          },
          "metadata": {}
        },
        {
          "output_type": "stream",
          "text": [
            "You passed 3 of the 3 tests. \n",
            "The solution is correct\n"
          ],
          "name": "stdout"
        }
      ]
    },
    {
      "cell_type": "code",
      "metadata": {
        "colab": {
          "base_uri": "https://localhost:8080/",
          "height": 247
        },
        "id": "vWMEJvx7N6A-",
        "outputId": "9ba467ba-38c2-41ab-da21-16b921c70154"
      },
      "source": [
        "print(eb[16])"
      ],
      "execution_count": 51,
      "outputs": [
        {
          "output_type": "stream",
          "text": [
            "Create a function with the input argument to be a string. The output is the \n",
            "longest word in the string. For example, the input is a string \"NUS Business \n",
            "School is a magical place\", then the output is the string \"Business\". If\n",
            "there are two or more words with the same maximum length, then return the \n",
            "first one.\n"
          ],
          "name": "stdout"
        },
        {
          "output_type": "display_data",
          "data": {
            "text/html": [
              "<div>\n",
              "<style scoped>\n",
              "    .dataframe tbody tr th:only-of-type {\n",
              "        vertical-align: middle;\n",
              "    }\n",
              "\n",
              "    .dataframe tbody tr th {\n",
              "        vertical-align: top;\n",
              "    }\n",
              "\n",
              "    .dataframe thead th {\n",
              "        text-align: right;\n",
              "    }\n",
              "</style>\n",
              "<table border=\"1\" class=\"dataframe\">\n",
              "  <thead>\n",
              "    <tr style=\"text-align: right;\">\n",
              "      <th></th>\n",
              "      <th>Input1: str</th>\n",
              "      <th>Output: str</th>\n",
              "    </tr>\n",
              "  </thead>\n",
              "  <tbody>\n",
              "    <tr>\n",
              "      <th>Test 1:</th>\n",
              "      <td>NUS Business School is a magical place</td>\n",
              "      <td>Business</td>\n",
              "    </tr>\n",
              "    <tr>\n",
              "      <th>Test 2:</th>\n",
              "      <td>Simple is better than complex</td>\n",
              "      <td>complex</td>\n",
              "    </tr>\n",
              "  </tbody>\n",
              "</table>\n",
              "</div>"
            ],
            "text/plain": [
              "                                    Input1: str Output: str\n",
              "Test 1:  NUS Business School is a magical place    Business\n",
              "Test 2:           Simple is better than complex     complex"
            ]
          },
          "metadata": {}
        },
        {
          "output_type": "stream",
          "text": [
            "\n",
            "\u001b[1mLongest Word: Medium\u001b[0;0m \n",
            "\n"
          ],
          "name": "stdout"
        }
      ]
    },
    {
      "cell_type": "code",
      "metadata": {
        "colab": {
          "base_uri": "https://localhost:8080/"
        },
        "id": "ziP9EA56ISoN",
        "outputId": "06f91ccd-671e-40b1-d363-d5f129db2995"
      },
      "source": [
        "def longest_string(sentence):\n",
        "  \n",
        "  # Split up the words in the sentence and assign them into an array sentence\n",
        "  # Declare a variable to hold the current length and a variable to hold the longest text\n",
        "  sentence = sentence.split()\n",
        "  current = 0\n",
        "  text = \"\"\n",
        "  \n",
        "  # Loop through the length of the array\n",
        "  # Check if the current length is smaller than the length of the element at the current position index\n",
        "  # Assign it to current if true and assign the value to text\n",
        "  for i in range(len(sentence)):\n",
        "    if current < len(sentence[i]):\n",
        "      current = len(sentence[i])\n",
        "      text = sentence[i]\n",
        "  \n",
        "  return text\n",
        "\n",
        "print(longest_string(\"NUS Business School is a magical place\"))\n",
        "print(longest_string(\"Simple is better than complex\"))"
      ],
      "execution_count": 52,
      "outputs": [
        {
          "output_type": "stream",
          "text": [
            "Business\n",
            "complex\n"
          ],
          "name": "stdout"
        }
      ]
    },
    {
      "cell_type": "code",
      "metadata": {
        "colab": {
          "base_uri": "https://localhost:8080/",
          "height": 269
        },
        "id": "zgfmuLMfLMGU",
        "outputId": "6f3d106a-74f3-4145-dc82-2dc0abc01b78"
      },
      "source": [
        "eb[16].check(longest_string, cheat=True)"
      ],
      "execution_count": 53,
      "outputs": [
        {
          "output_type": "display_data",
          "data": {
            "text/html": [
              "<div>\n",
              "<style scoped>\n",
              "    .dataframe tbody tr th:only-of-type {\n",
              "        vertical-align: middle;\n",
              "    }\n",
              "\n",
              "    .dataframe tbody tr th {\n",
              "        vertical-align: top;\n",
              "    }\n",
              "\n",
              "    .dataframe thead th {\n",
              "        text-align: right;\n",
              "    }\n",
              "</style>\n",
              "<table border=\"1\" class=\"dataframe\">\n",
              "  <thead>\n",
              "    <tr style=\"text-align: right;\">\n",
              "      <th></th>\n",
              "      <th>Input 1: str</th>\n",
              "      <th>Your output</th>\n",
              "      <th>Correct output: str</th>\n",
              "      <th>Correct</th>\n",
              "    </tr>\n",
              "  </thead>\n",
              "  <tbody>\n",
              "    <tr>\n",
              "      <th>Test 1:</th>\n",
              "      <td>NUS Business School is a magical place</td>\n",
              "      <td>Business</td>\n",
              "      <td>Business</td>\n",
              "      <td>True</td>\n",
              "    </tr>\n",
              "    <tr>\n",
              "      <th>Test 2:</th>\n",
              "      <td>Take a sad song and make it better</td>\n",
              "      <td>better</td>\n",
              "      <td>better</td>\n",
              "      <td>True</td>\n",
              "    </tr>\n",
              "    <tr>\n",
              "      <th>Test 3:</th>\n",
              "      <td>We are the champions my friend</td>\n",
              "      <td>champions</td>\n",
              "      <td>champions</td>\n",
              "      <td>True</td>\n",
              "    </tr>\n",
              "    <tr>\n",
              "      <th>Test 4:</th>\n",
              "      <td>Manners maketh man</td>\n",
              "      <td>Manners</td>\n",
              "      <td>Manners</td>\n",
              "      <td>True</td>\n",
              "    </tr>\n",
              "    <tr>\n",
              "      <th>Test 5:</th>\n",
              "      <td>All models are wrong but some are useful</td>\n",
              "      <td>models</td>\n",
              "      <td>models</td>\n",
              "      <td>True</td>\n",
              "    </tr>\n",
              "    <tr>\n",
              "      <th>Test 6:</th>\n",
              "      <td>Simple is better than complex</td>\n",
              "      <td>complex</td>\n",
              "      <td>complex</td>\n",
              "      <td>True</td>\n",
              "    </tr>\n",
              "  </tbody>\n",
              "</table>\n",
              "</div>"
            ],
            "text/plain": [
              "                                     Input 1: str  ... Correct\n",
              "Test 1:    NUS Business School is a magical place  ...    True\n",
              "Test 2:        Take a sad song and make it better  ...    True\n",
              "Test 3:            We are the champions my friend  ...    True\n",
              "Test 4:                        Manners maketh man  ...    True\n",
              "Test 5:  All models are wrong but some are useful  ...    True\n",
              "Test 6:             Simple is better than complex  ...    True\n",
              "\n",
              "[6 rows x 4 columns]"
            ]
          },
          "metadata": {}
        },
        {
          "output_type": "stream",
          "text": [
            "You passed 6 of the 6 tests. \n",
            "The solution is correct\n"
          ],
          "name": "stdout"
        }
      ]
    },
    {
      "cell_type": "code",
      "metadata": {
        "colab": {
          "base_uri": "https://localhost:8080/",
          "height": 213
        },
        "id": "zLDqXvU_N59y",
        "outputId": "752905c0-cce1-4f78-dfc3-701a54164a7e"
      },
      "source": [
        "print(eb[17])"
      ],
      "execution_count": 54,
      "outputs": [
        {
          "output_type": "stream",
          "text": [
            "Create a function to return the length of the last word in a string. For \n",
            "example, if the input is \"NUS Business School is a magical place\", then the \n",
            "output is 5, the length of the last word \"place\". \n"
          ],
          "name": "stdout"
        },
        {
          "output_type": "display_data",
          "data": {
            "text/html": [
              "<div>\n",
              "<style scoped>\n",
              "    .dataframe tbody tr th:only-of-type {\n",
              "        vertical-align: middle;\n",
              "    }\n",
              "\n",
              "    .dataframe tbody tr th {\n",
              "        vertical-align: top;\n",
              "    }\n",
              "\n",
              "    .dataframe thead th {\n",
              "        text-align: right;\n",
              "    }\n",
              "</style>\n",
              "<table border=\"1\" class=\"dataframe\">\n",
              "  <thead>\n",
              "    <tr style=\"text-align: right;\">\n",
              "      <th></th>\n",
              "      <th>Input1: str</th>\n",
              "      <th>Output: int</th>\n",
              "    </tr>\n",
              "  </thead>\n",
              "  <tbody>\n",
              "    <tr>\n",
              "      <th>Test 1:</th>\n",
              "      <td>NUS Business School is a magical place</td>\n",
              "      <td>5</td>\n",
              "    </tr>\n",
              "    <tr>\n",
              "      <th>Test 2:</th>\n",
              "      <td>Take a sad song and make it better</td>\n",
              "      <td>6</td>\n",
              "    </tr>\n",
              "  </tbody>\n",
              "</table>\n",
              "</div>"
            ],
            "text/plain": [
              "                                    Input1: str Output: int\n",
              "Test 1:  NUS Business School is a magical place           5\n",
              "Test 2:      Take a sad song and make it better           6"
            ]
          },
          "metadata": {}
        },
        {
          "output_type": "stream",
          "text": [
            "\n",
            "\u001b[1mLast Word: Easy\u001b[0;0m \n",
            "\n"
          ],
          "name": "stdout"
        }
      ]
    },
    {
      "cell_type": "code",
      "metadata": {
        "colab": {
          "base_uri": "https://localhost:8080/"
        },
        "id": "ZnRLMlLwdz1r",
        "outputId": "e1a20085-5f22-4e0b-fe50-32c2a1588554"
      },
      "source": [
        "def last_word(text):\n",
        "  \n",
        "  # Split up the words in the sentence and assign them into an array text\n",
        "  # Obtain the last word by using the position index: -1\n",
        "  text = text.split()\n",
        "  count = len(text[-1])\n",
        "  \n",
        "  return count\n",
        "\n",
        "print(last_word(\"NUS Business School is a magical place\"))\n",
        "print(last_word(\"Take a sad song and make it better\"))"
      ],
      "execution_count": 55,
      "outputs": [
        {
          "output_type": "stream",
          "text": [
            "5\n",
            "6\n"
          ],
          "name": "stdout"
        }
      ]
    },
    {
      "cell_type": "code",
      "metadata": {
        "colab": {
          "base_uri": "https://localhost:8080/",
          "height": 269
        },
        "id": "9FPb2S5lLI-V",
        "outputId": "ba4819fd-e2e4-468e-acf7-e183e49004fa"
      },
      "source": [
        "eb[17].check(last_word, cheat=True)"
      ],
      "execution_count": 56,
      "outputs": [
        {
          "output_type": "display_data",
          "data": {
            "text/html": [
              "<div>\n",
              "<style scoped>\n",
              "    .dataframe tbody tr th:only-of-type {\n",
              "        vertical-align: middle;\n",
              "    }\n",
              "\n",
              "    .dataframe tbody tr th {\n",
              "        vertical-align: top;\n",
              "    }\n",
              "\n",
              "    .dataframe thead th {\n",
              "        text-align: right;\n",
              "    }\n",
              "</style>\n",
              "<table border=\"1\" class=\"dataframe\">\n",
              "  <thead>\n",
              "    <tr style=\"text-align: right;\">\n",
              "      <th></th>\n",
              "      <th>Input 1: str</th>\n",
              "      <th>Your output</th>\n",
              "      <th>Correct output: int</th>\n",
              "      <th>Correct</th>\n",
              "    </tr>\n",
              "  </thead>\n",
              "  <tbody>\n",
              "    <tr>\n",
              "      <th>Test 1:</th>\n",
              "      <td>NUS Business School is a magical place</td>\n",
              "      <td>5</td>\n",
              "      <td>5</td>\n",
              "      <td>True</td>\n",
              "    </tr>\n",
              "    <tr>\n",
              "      <th>Test 2:</th>\n",
              "      <td>Take a sad song and make it better</td>\n",
              "      <td>6</td>\n",
              "      <td>6</td>\n",
              "      <td>True</td>\n",
              "    </tr>\n",
              "    <tr>\n",
              "      <th>Test 3:</th>\n",
              "      <td>We are the champions my friend</td>\n",
              "      <td>6</td>\n",
              "      <td>6</td>\n",
              "      <td>True</td>\n",
              "    </tr>\n",
              "    <tr>\n",
              "      <th>Test 4:</th>\n",
              "      <td>Manners maketh man</td>\n",
              "      <td>3</td>\n",
              "      <td>3</td>\n",
              "      <td>True</td>\n",
              "    </tr>\n",
              "    <tr>\n",
              "      <th>Test 5:</th>\n",
              "      <td>All models are wrong but some are useful</td>\n",
              "      <td>6</td>\n",
              "      <td>6</td>\n",
              "      <td>True</td>\n",
              "    </tr>\n",
              "    <tr>\n",
              "      <th>Test 6:</th>\n",
              "      <td>Simple is better than complex</td>\n",
              "      <td>7</td>\n",
              "      <td>7</td>\n",
              "      <td>True</td>\n",
              "    </tr>\n",
              "  </tbody>\n",
              "</table>\n",
              "</div>"
            ],
            "text/plain": [
              "                                     Input 1: str  ... Correct\n",
              "Test 1:    NUS Business School is a magical place  ...    True\n",
              "Test 2:        Take a sad song and make it better  ...    True\n",
              "Test 3:            We are the champions my friend  ...    True\n",
              "Test 4:                        Manners maketh man  ...    True\n",
              "Test 5:  All models are wrong but some are useful  ...    True\n",
              "Test 6:             Simple is better than complex  ...    True\n",
              "\n",
              "[6 rows x 4 columns]"
            ]
          },
          "metadata": {}
        },
        {
          "output_type": "stream",
          "text": [
            "You passed 6 of the 6 tests. \n",
            "The solution is correct\n"
          ],
          "name": "stdout"
        }
      ]
    },
    {
      "cell_type": "code",
      "metadata": {
        "colab": {
          "base_uri": "https://localhost:8080/",
          "height": 216
        },
        "id": "Wmo321X-N55_",
        "outputId": "0eac5f06-fbec-43c2-e550-40423878ed60"
      },
      "source": [
        "print(eb[18])"
      ],
      "execution_count": 57,
      "outputs": [
        {
          "output_type": "stream",
          "text": [
            "Create a function to convert a list of scores to grades. Grade \"A\" accounts \n",
            "for scores no lower than 90; grade \"B\" accounts for scores between 80 to 89; \n",
            "and grade \"C\" accounts for scores between 70 and 79; scores lower than 70 \n",
            "are recorded as \"D\". For example, if the input is [85.5, 92, 45, 74, 79], \n",
            "then the output is [\"B\", \"A\", \"D\", \"C\", \"C\"]. \n"
          ],
          "name": "stdout"
        },
        {
          "output_type": "display_data",
          "data": {
            "text/html": [
              "<div>\n",
              "<style scoped>\n",
              "    .dataframe tbody tr th:only-of-type {\n",
              "        vertical-align: middle;\n",
              "    }\n",
              "\n",
              "    .dataframe tbody tr th {\n",
              "        vertical-align: top;\n",
              "    }\n",
              "\n",
              "    .dataframe thead th {\n",
              "        text-align: right;\n",
              "    }\n",
              "</style>\n",
              "<table border=\"1\" class=\"dataframe\">\n",
              "  <thead>\n",
              "    <tr style=\"text-align: right;\">\n",
              "      <th></th>\n",
              "      <th>Input1: list</th>\n",
              "      <th>Output: list</th>\n",
              "    </tr>\n",
              "  </thead>\n",
              "  <tbody>\n",
              "    <tr>\n",
              "      <th>Test 1:</th>\n",
              "      <td>[85.5, 92, 45, 74, 79]</td>\n",
              "      <td>['B', 'A', 'D', 'C', 'C']</td>\n",
              "    </tr>\n",
              "  </tbody>\n",
              "</table>\n",
              "</div>"
            ],
            "text/plain": [
              "                   Input1: list               Output: list\n",
              "Test 1:  [85.5, 92, 45, 74, 79]  ['B', 'A', 'D', 'C', 'C']"
            ]
          },
          "metadata": {}
        },
        {
          "output_type": "stream",
          "text": [
            "\n",
            "\u001b[1mGrade: Easy\u001b[0;0m \n",
            "\n"
          ],
          "name": "stdout"
        }
      ]
    },
    {
      "cell_type": "code",
      "metadata": {
        "colab": {
          "base_uri": "https://localhost:8080/"
        },
        "id": "v6xpp0Va3kK1",
        "outputId": "3896b4b5-1929-43f5-952b-5eb6a073128a"
      },
      "source": [
        "def grade_converter(grade_list):\n",
        "  \n",
        "  # Converts all the elements in grade_list into floating types\n",
        "  grade_list = [float(a) for a in grade_list]\n",
        "  \n",
        "  # Loop through the length of grade_list\n",
        "  # Compare to see if the marks fit any category\n",
        "  # Carefully assign the correct grade for the marks obtained\n",
        "  for i in range(len(grade_list)):\n",
        "    if grade_list[i] >= 90.0:\n",
        "      grade_list[i] = \"A\"\n",
        "    elif grade_list[i] >= 80.0 and grade_list[i] < 90.0:\n",
        "      grade_list[i] = \"B\"\n",
        "    elif grade_list[i] >= 70.0 and grade_list[i] < 80.0:\n",
        "      grade_list[i] = \"C\"\n",
        "    else:\n",
        "      grade_list[i] = \"D\"\n",
        "  \n",
        "  return grade_list\n",
        "\n",
        "print(grade_converter([85.5, 92, 45, 74, 79]))"
      ],
      "execution_count": 58,
      "outputs": [
        {
          "output_type": "stream",
          "text": [
            "['B', 'A', 'D', 'C', 'C']\n"
          ],
          "name": "stdout"
        }
      ]
    },
    {
      "cell_type": "code",
      "metadata": {
        "colab": {
          "base_uri": "https://localhost:8080/",
          "height": 176
        },
        "id": "VIi2c-teLFcs",
        "outputId": "ff11f2d5-a79a-4231-d66d-963c795ce175"
      },
      "source": [
        "eb[18].check(grade_converter, cheat=True)"
      ],
      "execution_count": 59,
      "outputs": [
        {
          "output_type": "display_data",
          "data": {
            "text/html": [
              "<div>\n",
              "<style scoped>\n",
              "    .dataframe tbody tr th:only-of-type {\n",
              "        vertical-align: middle;\n",
              "    }\n",
              "\n",
              "    .dataframe tbody tr th {\n",
              "        vertical-align: top;\n",
              "    }\n",
              "\n",
              "    .dataframe thead th {\n",
              "        text-align: right;\n",
              "    }\n",
              "</style>\n",
              "<table border=\"1\" class=\"dataframe\">\n",
              "  <thead>\n",
              "    <tr style=\"text-align: right;\">\n",
              "      <th></th>\n",
              "      <th>Input 1: list</th>\n",
              "      <th>Your output</th>\n",
              "      <th>Correct output: list</th>\n",
              "      <th>Correct</th>\n",
              "    </tr>\n",
              "  </thead>\n",
              "  <tbody>\n",
              "    <tr>\n",
              "      <th>Test 1:</th>\n",
              "      <td>[85.5, 92, 45, 74, 79]</td>\n",
              "      <td>['B', 'A', 'D', 'C', 'C']</td>\n",
              "      <td>['B', 'A', 'D', 'C', 'C']</td>\n",
              "      <td>True</td>\n",
              "    </tr>\n",
              "    <tr>\n",
              "      <th>Test 2:</th>\n",
              "      <td>[25, 26, 55, 70, 80, 99]</td>\n",
              "      <td>['D', 'D', 'D', 'C', 'B', 'A']</td>\n",
              "      <td>['D', 'D', 'D', 'C', 'B', 'A']</td>\n",
              "      <td>True</td>\n",
              "    </tr>\n",
              "    <tr>\n",
              "      <th>Test 3:</th>\n",
              "      <td>[100, 95, 85]</td>\n",
              "      <td>['A', 'A', 'B']</td>\n",
              "      <td>['A', 'A', 'B']</td>\n",
              "      <td>True</td>\n",
              "    </tr>\n",
              "  </tbody>\n",
              "</table>\n",
              "</div>"
            ],
            "text/plain": [
              "                    Input 1: list  ... Correct\n",
              "Test 1:    [85.5, 92, 45, 74, 79]  ...    True\n",
              "Test 2:  [25, 26, 55, 70, 80, 99]  ...    True\n",
              "Test 3:             [100, 95, 85]  ...    True\n",
              "\n",
              "[3 rows x 4 columns]"
            ]
          },
          "metadata": {}
        },
        {
          "output_type": "stream",
          "text": [
            "You passed 3 of the 3 tests. \n",
            "The solution is correct\n"
          ],
          "name": "stdout"
        }
      ]
    },
    {
      "cell_type": "code",
      "metadata": {
        "colab": {
          "base_uri": "https://localhost:8080/",
          "height": 264
        },
        "id": "-VhqT7UMN5pT",
        "outputId": "45860d41-f129-43d8-f784-65604e1f3177"
      },
      "source": [
        "print(eb[19])"
      ],
      "execution_count": 60,
      "outputs": [
        {
          "output_type": "stream",
          "text": [
            "Create a function to grade bubble cards. The first input argument is list of \n",
            "answers to be graded, and the second input argument is a list of correct \n",
            "answers. The function compares these two lists, and returns the proportion \n",
            "of answers to be correct. For example, if the inputs are [\"A\", \"C\", \"B\", \"D\", \n",
            "\"A\", \"D\"] and [\"A\", \"B\", \"C\", \"D\", \"D\", \"D\"], then the output is 0.5 because \n",
            "half of the values are the same in these two lists.\n"
          ],
          "name": "stdout"
        },
        {
          "output_type": "display_data",
          "data": {
            "text/html": [
              "<div>\n",
              "<style scoped>\n",
              "    .dataframe tbody tr th:only-of-type {\n",
              "        vertical-align: middle;\n",
              "    }\n",
              "\n",
              "    .dataframe tbody tr th {\n",
              "        vertical-align: top;\n",
              "    }\n",
              "\n",
              "    .dataframe thead th {\n",
              "        text-align: right;\n",
              "    }\n",
              "</style>\n",
              "<table border=\"1\" class=\"dataframe\">\n",
              "  <thead>\n",
              "    <tr style=\"text-align: right;\">\n",
              "      <th></th>\n",
              "      <th>Input1: list</th>\n",
              "      <th>Input2: list</th>\n",
              "      <th>Output: float</th>\n",
              "    </tr>\n",
              "  </thead>\n",
              "  <tbody>\n",
              "    <tr>\n",
              "      <th>Test 1:</th>\n",
              "      <td>['A', 'C', 'B', 'D', 'A', 'D']</td>\n",
              "      <td>['A', 'B', 'C', 'D', 'D', 'D']</td>\n",
              "      <td>0.5</td>\n",
              "    </tr>\n",
              "    <tr>\n",
              "      <th>Test 2:</th>\n",
              "      <td>['A', 'B', 'C', 'D', 'D', 'D']</td>\n",
              "      <td>['A', 'B', 'C', 'D', 'D', 'D']</td>\n",
              "      <td>1.0</td>\n",
              "    </tr>\n",
              "  </tbody>\n",
              "</table>\n",
              "</div>"
            ],
            "text/plain": [
              "                           Input1: list  ... Output: float\n",
              "Test 1:  ['A', 'C', 'B', 'D', 'A', 'D']  ...           0.5\n",
              "Test 2:  ['A', 'B', 'C', 'D', 'D', 'D']  ...           1.0\n",
              "\n",
              "[2 rows x 3 columns]"
            ]
          },
          "metadata": {}
        },
        {
          "output_type": "stream",
          "text": [
            "\n",
            "\u001b[1mBubble Card: Easy\u001b[0;0m \n",
            "\n"
          ],
          "name": "stdout"
        }
      ]
    },
    {
      "cell_type": "code",
      "metadata": {
        "colab": {
          "base_uri": "https://localhost:8080/"
        },
        "id": "WWQzlofW-cR5",
        "outputId": "a99e7132-a100-496b-84ad-d02b2358dd6f"
      },
      "source": [
        "def bubble_cards(list1, list2):\n",
        "  \n",
        "  # Declare a variable to hold the number of correct\n",
        "  # and a variable to hold the total number of answers\n",
        "  correct = 0\n",
        "  total = len(list2)\n",
        "  \n",
        "  # Loop through the two lists\n",
        "  # Check if the two elements at the same position are correct\n",
        "  # Increment the variable correct if True\n",
        "  # Get the ratio output = correct / total\n",
        "  for i, j in zip(list1, list2):\n",
        "    if i == j:\n",
        "      correct += 1\n",
        "  output = correct / total\n",
        "  \n",
        "  return output\n",
        "\n",
        "print(bubble_cards(['A', 'C', 'B', 'D', 'A', 'D'], ['A', 'B', 'C', 'D', 'D', 'D']))\n",
        "print(bubble_cards(['A', 'B', 'C', 'D', 'D', 'D'], ['A', 'B', 'C', 'D', 'D', 'D']))"
      ],
      "execution_count": 61,
      "outputs": [
        {
          "output_type": "stream",
          "text": [
            "0.5\n",
            "1.0\n"
          ],
          "name": "stdout"
        }
      ]
    },
    {
      "cell_type": "code",
      "metadata": {
        "colab": {
          "base_uri": "https://localhost:8080/",
          "height": 207
        },
        "id": "EVL97tHELBfq",
        "outputId": "d4c89351-34dd-41b8-8df7-7d14bf552df5"
      },
      "source": [
        "eb[19].check(bubble_cards, cheat=True)"
      ],
      "execution_count": 62,
      "outputs": [
        {
          "output_type": "display_data",
          "data": {
            "text/html": [
              "<div>\n",
              "<style scoped>\n",
              "    .dataframe tbody tr th:only-of-type {\n",
              "        vertical-align: middle;\n",
              "    }\n",
              "\n",
              "    .dataframe tbody tr th {\n",
              "        vertical-align: top;\n",
              "    }\n",
              "\n",
              "    .dataframe thead th {\n",
              "        text-align: right;\n",
              "    }\n",
              "</style>\n",
              "<table border=\"1\" class=\"dataframe\">\n",
              "  <thead>\n",
              "    <tr style=\"text-align: right;\">\n",
              "      <th></th>\n",
              "      <th>Input 1: list</th>\n",
              "      <th>Input 2: list</th>\n",
              "      <th>Your output</th>\n",
              "      <th>Correct output: float</th>\n",
              "      <th>Correct</th>\n",
              "    </tr>\n",
              "  </thead>\n",
              "  <tbody>\n",
              "    <tr>\n",
              "      <th>Test 1:</th>\n",
              "      <td>['A', 'C', 'B', 'D', 'A', 'D']</td>\n",
              "      <td>['A', 'B', 'C', 'D', 'D', 'D']</td>\n",
              "      <td>0.5</td>\n",
              "      <td>0.5</td>\n",
              "      <td>True</td>\n",
              "    </tr>\n",
              "    <tr>\n",
              "      <th>Test 2:</th>\n",
              "      <td>['A', 'B', 'C', 'D', 'D', 'D']</td>\n",
              "      <td>['A', 'B', 'C', 'D', 'D', 'D']</td>\n",
              "      <td>1.0</td>\n",
              "      <td>1.0</td>\n",
              "      <td>True</td>\n",
              "    </tr>\n",
              "    <tr>\n",
              "      <th>Test 3:</th>\n",
              "      <td>['C', 'B', 'B', 'C', 'B', 'D']</td>\n",
              "      <td>['C', 'A', 'B', 'D', 'B', 'D']</td>\n",
              "      <td>0.6666666666666666</td>\n",
              "      <td>0.6666666666666666</td>\n",
              "      <td>True</td>\n",
              "    </tr>\n",
              "    <tr>\n",
              "      <th>Test 4:</th>\n",
              "      <td>['C', 'B', 'A']</td>\n",
              "      <td>['A', 'C', 'B']</td>\n",
              "      <td>0.0</td>\n",
              "      <td>0</td>\n",
              "      <td>True</td>\n",
              "    </tr>\n",
              "  </tbody>\n",
              "</table>\n",
              "</div>"
            ],
            "text/plain": [
              "                          Input 1: list  ... Correct\n",
              "Test 1:  ['A', 'C', 'B', 'D', 'A', 'D']  ...    True\n",
              "Test 2:  ['A', 'B', 'C', 'D', 'D', 'D']  ...    True\n",
              "Test 3:  ['C', 'B', 'B', 'C', 'B', 'D']  ...    True\n",
              "Test 4:                 ['C', 'B', 'A']  ...    True\n",
              "\n",
              "[4 rows x 5 columns]"
            ]
          },
          "metadata": {}
        },
        {
          "output_type": "stream",
          "text": [
            "You passed 4 of the 4 tests. \n",
            "The solution is correct\n"
          ],
          "name": "stdout"
        }
      ]
    },
    {
      "cell_type": "code",
      "metadata": {
        "colab": {
          "base_uri": "https://localhost:8080/",
          "height": 199
        },
        "id": "krbRG76NOMmx",
        "outputId": "db23f06a-7762-4fd6-9451-a256fbe4fd22"
      },
      "source": [
        "print(eb[20])"
      ],
      "execution_count": 63,
      "outputs": [
        {
          "output_type": "stream",
          "text": [
            "For a sequence of numbers in a list, create a new list containing the \n",
            "squares of all non-negative numbers, and cubes of all negative numbers. \n",
            "For example, if the input is [1, 2, 3, -4, -5, 6], then the output is \n",
            "[1, 4, 9, -64, -125, 36]. As a practice, please use list comprehension.\n"
          ],
          "name": "stdout"
        },
        {
          "output_type": "display_data",
          "data": {
            "text/html": [
              "<div>\n",
              "<style scoped>\n",
              "    .dataframe tbody tr th:only-of-type {\n",
              "        vertical-align: middle;\n",
              "    }\n",
              "\n",
              "    .dataframe tbody tr th {\n",
              "        vertical-align: top;\n",
              "    }\n",
              "\n",
              "    .dataframe thead th {\n",
              "        text-align: right;\n",
              "    }\n",
              "</style>\n",
              "<table border=\"1\" class=\"dataframe\">\n",
              "  <thead>\n",
              "    <tr style=\"text-align: right;\">\n",
              "      <th></th>\n",
              "      <th>Input1: list</th>\n",
              "      <th>Output: list</th>\n",
              "    </tr>\n",
              "  </thead>\n",
              "  <tbody>\n",
              "    <tr>\n",
              "      <th>Test 1:</th>\n",
              "      <td>[1, 2, 3, -4, -5, 6]</td>\n",
              "      <td>[1, 4, 9, -64, -125, 36]</td>\n",
              "    </tr>\n",
              "  </tbody>\n",
              "</table>\n",
              "</div>"
            ],
            "text/plain": [
              "                 Input1: list              Output: list\n",
              "Test 1:  [1, 2, 3, -4, -5, 6]  [1, 4, 9, -64, -125, 36]"
            ]
          },
          "metadata": {}
        },
        {
          "output_type": "stream",
          "text": [
            "\n",
            "\u001b[1mSquares And Cubes: Easy\u001b[0;0m \n",
            "\n"
          ],
          "name": "stdout"
        }
      ]
    },
    {
      "cell_type": "code",
      "metadata": {
        "colab": {
          "base_uri": "https://localhost:8080/"
        },
        "id": "Wmr2ep8cIcH7",
        "outputId": "6bb71691-8443-4069-d391-116a8ad176a7"
      },
      "source": [
        "def squares_cubes(list_value):\n",
        "  \n",
        "  # Converts all the elements in string_list into string types\n",
        "  string_list = [str(i) for i in list_value]\n",
        "  \n",
        "  # Loop through the length of string_list\n",
        "  # Check if the first index of position element = \"-\"\n",
        "  # Power if it's a positive ineteger\n",
        "  # Else cube if it's a negative integer\n",
        "  for i in range(len(string_list)):\n",
        "    if string_list[i][0] != \"-\":\n",
        "      string_list[i] = pow(int(string_list[i]), 2)\n",
        "    else:\n",
        "      string_list[i] = int(\"-\" + str(pow(int(string_list[i][1:]), 3)))\n",
        "  \n",
        "  return string_list\n",
        "\n",
        "squares_cubes([1, 2, 3, -4, -5, 6])"
      ],
      "execution_count": 64,
      "outputs": [
        {
          "output_type": "execute_result",
          "data": {
            "text/plain": [
              "[1, 4, 9, -64, -125, 36]"
            ]
          },
          "metadata": {},
          "execution_count": 64
        }
      ]
    },
    {
      "cell_type": "code",
      "metadata": {
        "colab": {
          "base_uri": "https://localhost:8080/",
          "height": 216
        },
        "id": "fxI4397mOO0z",
        "outputId": "9bd1df77-c40c-4c85-f58e-92f09da3ec0a"
      },
      "source": [
        "print(eb[21])"
      ],
      "execution_count": 65,
      "outputs": [
        {
          "output_type": "stream",
          "text": [
            "Create a function to present the unique values in a given list and the number \n",
            "of their appearances. The output of the function is a dictionary where the \n",
            "keys are the unique values, and the associated values are the number of their \n",
            "appearances. For example, if the inputs are [\"A\", \"C\", \"B\", \"D\", \"A\", \"D\"] \n",
            "then the output is {\"A\": 2, \"C\": 1, \"B\": 1, \"D\": 2}.\n"
          ],
          "name": "stdout"
        },
        {
          "output_type": "display_data",
          "data": {
            "text/html": [
              "<div>\n",
              "<style scoped>\n",
              "    .dataframe tbody tr th:only-of-type {\n",
              "        vertical-align: middle;\n",
              "    }\n",
              "\n",
              "    .dataframe tbody tr th {\n",
              "        vertical-align: top;\n",
              "    }\n",
              "\n",
              "    .dataframe thead th {\n",
              "        text-align: right;\n",
              "    }\n",
              "</style>\n",
              "<table border=\"1\" class=\"dataframe\">\n",
              "  <thead>\n",
              "    <tr style=\"text-align: right;\">\n",
              "      <th></th>\n",
              "      <th>Input1: list</th>\n",
              "      <th>Output: dict</th>\n",
              "    </tr>\n",
              "  </thead>\n",
              "  <tbody>\n",
              "    <tr>\n",
              "      <th>Test 1:</th>\n",
              "      <td>['A', 'C', 'B', 'D', 'A', 'D']</td>\n",
              "      <td>{'A': 2, 'C': 1, 'B': 1, 'D': 2}</td>\n",
              "    </tr>\n",
              "  </tbody>\n",
              "</table>\n",
              "</div>"
            ],
            "text/plain": [
              "                           Input1: list                      Output: dict\n",
              "Test 1:  ['A', 'C', 'B', 'D', 'A', 'D']  {'A': 2, 'C': 1, 'B': 1, 'D': 2}"
            ]
          },
          "metadata": {}
        },
        {
          "output_type": "stream",
          "text": [
            "\n",
            "\u001b[1mValue Counts: Medium\u001b[0;0m \n",
            "\n"
          ],
          "name": "stdout"
        }
      ]
    },
    {
      "cell_type": "code",
      "metadata": {
        "colab": {
          "base_uri": "https://localhost:8080/"
        },
        "id": "6q40ZsRxlWTH",
        "outputId": "228ffbde-e9a6-45b7-b48e-96f6501d3473"
      },
      "source": [
        "def list_dictionary(list_value):\n",
        "  \n",
        "  # Declares an array and assigns the number of counts of each character as a key-value pair\n",
        "  dictionary_list = {i: list_value.count(i) for i in list_value}\n",
        "  \n",
        "  return dictionary_list\n",
        "\n",
        "print(list_dictionary(['A', 'C', 'B', 'D', 'A', 'D']))"
      ],
      "execution_count": 66,
      "outputs": [
        {
          "output_type": "stream",
          "text": [
            "{'A': 2, 'C': 1, 'B': 1, 'D': 2}\n"
          ],
          "name": "stdout"
        }
      ]
    },
    {
      "cell_type": "code",
      "metadata": {
        "colab": {
          "base_uri": "https://localhost:8080/",
          "height": 176
        },
        "id": "rOK11xuQKxE5",
        "outputId": "c40173d9-c8a5-4822-c63c-45a66e7fd9dd"
      },
      "source": [
        "eb[21].check(list_dictionary, cheat=True)"
      ],
      "execution_count": 67,
      "outputs": [
        {
          "output_type": "display_data",
          "data": {
            "text/html": [
              "<div>\n",
              "<style scoped>\n",
              "    .dataframe tbody tr th:only-of-type {\n",
              "        vertical-align: middle;\n",
              "    }\n",
              "\n",
              "    .dataframe tbody tr th {\n",
              "        vertical-align: top;\n",
              "    }\n",
              "\n",
              "    .dataframe thead th {\n",
              "        text-align: right;\n",
              "    }\n",
              "</style>\n",
              "<table border=\"1\" class=\"dataframe\">\n",
              "  <thead>\n",
              "    <tr style=\"text-align: right;\">\n",
              "      <th></th>\n",
              "      <th>Input 1: list</th>\n",
              "      <th>Your output</th>\n",
              "      <th>Correct output: dict</th>\n",
              "      <th>Correct</th>\n",
              "    </tr>\n",
              "  </thead>\n",
              "  <tbody>\n",
              "    <tr>\n",
              "      <th>Test 1:</th>\n",
              "      <td>['A', 'C', 'B', 'D', 'A', 'D']</td>\n",
              "      <td>{'A': 2, 'C': 1, 'B': 1, 'D': 2}</td>\n",
              "      <td>{'A': 2, 'C': 1, 'B': 1, 'D': 2}</td>\n",
              "      <td>True</td>\n",
              "    </tr>\n",
              "    <tr>\n",
              "      <th>Test 2:</th>\n",
              "      <td>[1, 2, 2, 5, 3, 1, 2, 5, 4, 2, 4, 8, '1', '2',...</td>\n",
              "      <td>{1: 2, 2: 4, 5: 2, 3: 1, 4: 2, 8: 1, '1': 2, '...</td>\n",
              "      <td>{1: 2, 2: 4, 3: 1, 4: 2, 5: 2, 8: 1, '1': 2, '...</td>\n",
              "      <td>True</td>\n",
              "    </tr>\n",
              "    <tr>\n",
              "      <th>Test 3:</th>\n",
              "      <td>[1.2, 3.5, '2.4', 'B', 'B', 1.2, 1.2, 'B', 3.5]</td>\n",
              "      <td>{1.2: 3, 3.5: 2, '2.4': 1, 'B': 3}</td>\n",
              "      <td>{1.2: 3, 3.5: 2, '2.4': 1, 'B': 3}</td>\n",
              "      <td>True</td>\n",
              "    </tr>\n",
              "  </tbody>\n",
              "</table>\n",
              "</div>"
            ],
            "text/plain": [
              "                                             Input 1: list  ... Correct\n",
              "Test 1:                     ['A', 'C', 'B', 'D', 'A', 'D']  ...    True\n",
              "Test 2:  [1, 2, 2, 5, 3, 1, 2, 5, 4, 2, 4, 8, '1', '2',...  ...    True\n",
              "Test 3:    [1.2, 3.5, '2.4', 'B', 'B', 1.2, 1.2, 'B', 3.5]  ...    True\n",
              "\n",
              "[3 rows x 4 columns]"
            ]
          },
          "metadata": {}
        },
        {
          "output_type": "stream",
          "text": [
            "You passed 3 of the 3 tests. \n",
            "The solution is correct\n"
          ],
          "name": "stdout"
        }
      ]
    },
    {
      "cell_type": "code",
      "metadata": {
        "colab": {
          "base_uri": "https://localhost:8080/",
          "height": 199
        },
        "id": "G-O7kVrcOOrR",
        "outputId": "17def270-b527-4cd0-d346-de7eda21c13e"
      },
      "source": [
        "print(eb[22])"
      ],
      "execution_count": 68,
      "outputs": [
        {
          "output_type": "stream",
          "text": [
            "Write a function to sort a list from the smallest value to the largest value. \n",
            "For example, if the input is [3.5, 2.1, 2.1, 3.4, 2.8, 1.2], the output is \n",
            "[1.2, 2.1, 2.1, 2.8, 3.4, 3.5]. As a practice, do not use the build-in \n",
            "function sort.\n"
          ],
          "name": "stdout"
        },
        {
          "output_type": "display_data",
          "data": {
            "text/html": [
              "<div>\n",
              "<style scoped>\n",
              "    .dataframe tbody tr th:only-of-type {\n",
              "        vertical-align: middle;\n",
              "    }\n",
              "\n",
              "    .dataframe tbody tr th {\n",
              "        vertical-align: top;\n",
              "    }\n",
              "\n",
              "    .dataframe thead th {\n",
              "        text-align: right;\n",
              "    }\n",
              "</style>\n",
              "<table border=\"1\" class=\"dataframe\">\n",
              "  <thead>\n",
              "    <tr style=\"text-align: right;\">\n",
              "      <th></th>\n",
              "      <th>Input1: list</th>\n",
              "      <th>Output: list</th>\n",
              "    </tr>\n",
              "  </thead>\n",
              "  <tbody>\n",
              "    <tr>\n",
              "      <th>Test 1:</th>\n",
              "      <td>[3.5, 2.1, 2.2, 1.6, 0.8, 3.9, 2.5]</td>\n",
              "      <td>[0.8, 1.6, 2.1, 2.2, 2.5, 3.5, 3.9]</td>\n",
              "    </tr>\n",
              "  </tbody>\n",
              "</table>\n",
              "</div>"
            ],
            "text/plain": [
              "                                Input1: list                         Output: list\n",
              "Test 1:  [3.5, 2.1, 2.2, 1.6, 0.8, 3.9, 2.5]  [0.8, 1.6, 2.1, 2.2, 2.5, 3.5, 3.9]"
            ]
          },
          "metadata": {}
        },
        {
          "output_type": "stream",
          "text": [
            "\n",
            "\u001b[1mSort: Hard\u001b[0;0m \n",
            "\n"
          ],
          "name": "stdout"
        }
      ]
    },
    {
      "cell_type": "code",
      "metadata": {
        "colab": {
          "base_uri": "https://localhost:8080/"
        },
        "id": "b_RSDTfGlyAh",
        "outputId": "fbbecd82-8e06-4646-c643-c4a3ddf4e857"
      },
      "source": [
        "def sort_values(list_value):\n",
        "  \n",
        "  for i in range(len(list_value)):\n",
        "    switch = False\n",
        "    \n",
        "    for j in range(0, len(list_value) - i - 1):\n",
        "      if list_value[j] > list_value[j + 1]:\n",
        "        temp = list_value[j]\n",
        "        list_value[j] = list_value[j + 1]\n",
        "        list_value[j + 1] = temp\n",
        "        switch = True\n",
        "    \n",
        "    if not switch:\n",
        "      break\n",
        "\n",
        "  return list_value\n",
        "\n",
        "print(sort_values([3.5, 2.1, 2.2, 1.6, 0.8, 3.9, 2.5]))"
      ],
      "execution_count": 69,
      "outputs": [
        {
          "output_type": "stream",
          "text": [
            "[0.8, 1.6, 2.1, 2.2, 2.5, 3.5, 3.9]\n"
          ],
          "name": "stdout"
        }
      ]
    },
    {
      "cell_type": "code",
      "metadata": {
        "colab": {
          "base_uri": "https://localhost:8080/",
          "height": 176
        },
        "id": "gX8GwmFUKtiX",
        "outputId": "9de4ff7a-d654-4db0-a1b1-9f3c97c7cae7"
      },
      "source": [
        "eb[22].check(sort_values, cheat=True)"
      ],
      "execution_count": 70,
      "outputs": [
        {
          "output_type": "display_data",
          "data": {
            "text/html": [
              "<div>\n",
              "<style scoped>\n",
              "    .dataframe tbody tr th:only-of-type {\n",
              "        vertical-align: middle;\n",
              "    }\n",
              "\n",
              "    .dataframe tbody tr th {\n",
              "        vertical-align: top;\n",
              "    }\n",
              "\n",
              "    .dataframe thead th {\n",
              "        text-align: right;\n",
              "    }\n",
              "</style>\n",
              "<table border=\"1\" class=\"dataframe\">\n",
              "  <thead>\n",
              "    <tr style=\"text-align: right;\">\n",
              "      <th></th>\n",
              "      <th>Input 1: list</th>\n",
              "      <th>Your output</th>\n",
              "      <th>Correct output: list</th>\n",
              "      <th>Correct</th>\n",
              "    </tr>\n",
              "  </thead>\n",
              "  <tbody>\n",
              "    <tr>\n",
              "      <th>Test 1:</th>\n",
              "      <td>[3.5, 2.1, 2.2, 1.6, 0.8, 3.9, 2.5]</td>\n",
              "      <td>[0.8, 1.6, 2.1, 2.2, 2.5, 3.5, 3.9]</td>\n",
              "      <td>[0.8, 1.6, 2.1, 2.2, 2.5, 3.5, 3.9]</td>\n",
              "      <td>True</td>\n",
              "    </tr>\n",
              "    <tr>\n",
              "      <th>Test 2:</th>\n",
              "      <td>[3.5, 2.1, 2.1, 3.4, 2.8, 1.2]</td>\n",
              "      <td>[1.2, 2.1, 2.1, 2.8, 3.4, 3.5]</td>\n",
              "      <td>[1.2, 2.1, 2.1, 2.8, 3.4, 3.5]</td>\n",
              "      <td>True</td>\n",
              "    </tr>\n",
              "    <tr>\n",
              "      <th>Test 3:</th>\n",
              "      <td>[3.5, 2.1, 2.1, 3.4, 2.8, 3.4, 1.2]</td>\n",
              "      <td>[1.2, 2.1, 2.1, 2.8, 3.4, 3.4, 3.5]</td>\n",
              "      <td>[1.2, 2.1, 2.1, 2.8, 3.4, 3.4, 3.5]</td>\n",
              "      <td>True</td>\n",
              "    </tr>\n",
              "  </tbody>\n",
              "</table>\n",
              "</div>"
            ],
            "text/plain": [
              "                               Input 1: list  ... Correct\n",
              "Test 1:  [3.5, 2.1, 2.2, 1.6, 0.8, 3.9, 2.5]  ...    True\n",
              "Test 2:       [3.5, 2.1, 2.1, 3.4, 2.8, 1.2]  ...    True\n",
              "Test 3:  [3.5, 2.1, 2.1, 3.4, 2.8, 3.4, 1.2]  ...    True\n",
              "\n",
              "[3 rows x 4 columns]"
            ]
          },
          "metadata": {}
        },
        {
          "output_type": "stream",
          "text": [
            "You passed 3 of the 3 tests. \n",
            "The solution is correct\n"
          ],
          "name": "stdout"
        }
      ]
    },
    {
      "cell_type": "code",
      "metadata": {
        "colab": {
          "base_uri": "https://localhost:8080/",
          "height": 261
        },
        "id": "M8vJjg4pOOoA",
        "outputId": "f588de40-4f92-41a2-f15f-d3df8ca72c34"
      },
      "source": [
        "print(eb[23])"
      ],
      "execution_count": 71,
      "outputs": [
        {
          "output_type": "stream",
          "text": [
            "Write a function with one argument n, to return the nth row of the Pascal's \n",
            "triangle. For example, if n=1, the output is [1]; if n=2, then the output is \n",
            "[1, 1]; if n=3, then the output is [1, 2, 1]; if n=4, then the output is [1, \n",
            "3, 3, 1]. \n"
          ],
          "name": "stdout"
        },
        {
          "output_type": "display_data",
          "data": {
            "text/html": [
              "<div>\n",
              "<style scoped>\n",
              "    .dataframe tbody tr th:only-of-type {\n",
              "        vertical-align: middle;\n",
              "    }\n",
              "\n",
              "    .dataframe tbody tr th {\n",
              "        vertical-align: top;\n",
              "    }\n",
              "\n",
              "    .dataframe thead th {\n",
              "        text-align: right;\n",
              "    }\n",
              "</style>\n",
              "<table border=\"1\" class=\"dataframe\">\n",
              "  <thead>\n",
              "    <tr style=\"text-align: right;\">\n",
              "      <th></th>\n",
              "      <th>Input1: int</th>\n",
              "      <th>Output: list</th>\n",
              "    </tr>\n",
              "  </thead>\n",
              "  <tbody>\n",
              "    <tr>\n",
              "      <th>Test 1:</th>\n",
              "      <td>3</td>\n",
              "      <td>[1, 2, 1]</td>\n",
              "    </tr>\n",
              "    <tr>\n",
              "      <th>Test 2:</th>\n",
              "      <td>5</td>\n",
              "      <td>[1, 4, 6, 4, 1]</td>\n",
              "    </tr>\n",
              "    <tr>\n",
              "      <th>Test 3:</th>\n",
              "      <td>10</td>\n",
              "      <td>[1, 9, 36, 84, 126, 126, 84, 36, 9, 1]</td>\n",
              "    </tr>\n",
              "  </tbody>\n",
              "</table>\n",
              "</div>"
            ],
            "text/plain": [
              "        Input1: int                            Output: list\n",
              "Test 1:           3                               [1, 2, 1]\n",
              "Test 2:           5                         [1, 4, 6, 4, 1]\n",
              "Test 3:          10  [1, 9, 36, 84, 126, 126, 84, 36, 9, 1]"
            ]
          },
          "metadata": {}
        },
        {
          "output_type": "stream",
          "text": [
            "\n",
            "\u001b[1mPascal Triangle: Hard\u001b[0;0m \n",
            "\n"
          ],
          "name": "stdout"
        }
      ]
    },
    {
      "cell_type": "code",
      "metadata": {
        "colab": {
          "base_uri": "https://localhost:8080/"
        },
        "id": "zBBe7_p595Sv",
        "outputId": "e27e44ed-6489-442b-cbfe-952742c94e53"
      },
      "source": [
        "def pascal(value):\n",
        "  \n",
        "  pascal_triangle = []\n",
        "  current_row = []\n",
        "  previous_row = []\n",
        "  \n",
        "  for i in range(0, value + 1):\n",
        "    current_row = [j > 0 and j < i - 1 and i > 2 and previous_row[j-1] + previous_row[j] or 1 for j in range(0, i)]\n",
        "    previous_row = current_row\n",
        "    pascal_triangle += [current_row]\n",
        "  \n",
        "  return pascal_triangle[-1]\n",
        "\n",
        "print(pascal(3))\n",
        "print(pascal(5))\n",
        "print(pascal(10))"
      ],
      "execution_count": 72,
      "outputs": [
        {
          "output_type": "stream",
          "text": [
            "[1, 2, 1]\n",
            "[1, 4, 6, 4, 1]\n",
            "[1, 9, 36, 84, 126, 126, 84, 36, 9, 1]\n"
          ],
          "name": "stdout"
        }
      ]
    },
    {
      "cell_type": "code",
      "metadata": {
        "colab": {
          "base_uri": "https://localhost:8080/",
          "height": 331
        },
        "id": "ODmiX0PgKpjx",
        "outputId": "584d4fcc-673f-4ad5-f4e4-7036614de017"
      },
      "source": [
        "eb[23].check(pascal, cheat=True)"
      ],
      "execution_count": 73,
      "outputs": [
        {
          "output_type": "display_data",
          "data": {
            "text/html": [
              "<div>\n",
              "<style scoped>\n",
              "    .dataframe tbody tr th:only-of-type {\n",
              "        vertical-align: middle;\n",
              "    }\n",
              "\n",
              "    .dataframe tbody tr th {\n",
              "        vertical-align: top;\n",
              "    }\n",
              "\n",
              "    .dataframe thead th {\n",
              "        text-align: right;\n",
              "    }\n",
              "</style>\n",
              "<table border=\"1\" class=\"dataframe\">\n",
              "  <thead>\n",
              "    <tr style=\"text-align: right;\">\n",
              "      <th></th>\n",
              "      <th>Input 1: int</th>\n",
              "      <th>Your output</th>\n",
              "      <th>Correct output: list</th>\n",
              "      <th>Correct</th>\n",
              "    </tr>\n",
              "  </thead>\n",
              "  <tbody>\n",
              "    <tr>\n",
              "      <th>Test 1:</th>\n",
              "      <td>1</td>\n",
              "      <td>[1]</td>\n",
              "      <td>[1]</td>\n",
              "      <td>True</td>\n",
              "    </tr>\n",
              "    <tr>\n",
              "      <th>Test 2:</th>\n",
              "      <td>2</td>\n",
              "      <td>[1, 1]</td>\n",
              "      <td>[1, 1]</td>\n",
              "      <td>True</td>\n",
              "    </tr>\n",
              "    <tr>\n",
              "      <th>Test 3:</th>\n",
              "      <td>3</td>\n",
              "      <td>[1, 2, 1]</td>\n",
              "      <td>[1, 2, 1]</td>\n",
              "      <td>True</td>\n",
              "    </tr>\n",
              "    <tr>\n",
              "      <th>Test 4:</th>\n",
              "      <td>4</td>\n",
              "      <td>[1, 3, 3, 1]</td>\n",
              "      <td>[1, 3, 3, 1]</td>\n",
              "      <td>True</td>\n",
              "    </tr>\n",
              "    <tr>\n",
              "      <th>Test 5:</th>\n",
              "      <td>5</td>\n",
              "      <td>[1, 4, 6, 4, 1]</td>\n",
              "      <td>[1, 4, 6, 4, 1]</td>\n",
              "      <td>True</td>\n",
              "    </tr>\n",
              "    <tr>\n",
              "      <th>Test 6:</th>\n",
              "      <td>8</td>\n",
              "      <td>[1, 7, 21, 35, 35, 21, 7, 1]</td>\n",
              "      <td>[1, 7, 21, 35, 35, 21, 7, 1]</td>\n",
              "      <td>True</td>\n",
              "    </tr>\n",
              "    <tr>\n",
              "      <th>Test 7:</th>\n",
              "      <td>10</td>\n",
              "      <td>[1, 9, 36, 84, 126, 126, 84, 36, 9, 1]</td>\n",
              "      <td>[1, 9, 36, 84, 126, 126, 84, 36, 9, 1]</td>\n",
              "      <td>True</td>\n",
              "    </tr>\n",
              "    <tr>\n",
              "      <th>Test 8:</th>\n",
              "      <td>11</td>\n",
              "      <td>[1, 10, 45, 120, 210, 252, 210, 120, 45, 10, 1]</td>\n",
              "      <td>[1, 10, 45, 120, 210, 252, 210, 120, 45, 10, 1]</td>\n",
              "      <td>True</td>\n",
              "    </tr>\n",
              "  </tbody>\n",
              "</table>\n",
              "</div>"
            ],
            "text/plain": [
              "        Input 1: int  ... Correct\n",
              "Test 1:            1  ...    True\n",
              "Test 2:            2  ...    True\n",
              "Test 3:            3  ...    True\n",
              "Test 4:            4  ...    True\n",
              "Test 5:            5  ...    True\n",
              "Test 6:            8  ...    True\n",
              "Test 7:           10  ...    True\n",
              "Test 8:           11  ...    True\n",
              "\n",
              "[8 rows x 4 columns]"
            ]
          },
          "metadata": {}
        },
        {
          "output_type": "stream",
          "text": [
            "You passed 8 of the 8 tests. \n",
            "The solution is correct\n"
          ],
          "name": "stdout"
        }
      ]
    },
    {
      "cell_type": "code",
      "metadata": {
        "colab": {
          "base_uri": "https://localhost:8080/",
          "height": 295
        },
        "id": "ARfg9zq5OOk3",
        "outputId": "8425de18-99ee-4653-d026-a3e74ca40a78"
      },
      "source": [
        "print(eb[24])"
      ],
      "execution_count": 74,
      "outputs": [
        {
          "output_type": "stream",
          "text": [
            "There are n stairs, a person standing at the bottom wants to reach the top \n",
            "of the stairs. This person can climb either 1 stair or 2 stairs at a time. \n",
            "Write a function with the input argument n to count the number of ways, the \n",
            "person can reach the top. For example, if n = 2, this person has 2 ways to \n",
            "getto the top; if n = 3, this person has 3 ways to get to the top; if n = 4, \n",
            "this person has 5 ways to get to the top.\n"
          ],
          "name": "stdout"
        },
        {
          "output_type": "display_data",
          "data": {
            "text/html": [
              "<div>\n",
              "<style scoped>\n",
              "    .dataframe tbody tr th:only-of-type {\n",
              "        vertical-align: middle;\n",
              "    }\n",
              "\n",
              "    .dataframe tbody tr th {\n",
              "        vertical-align: top;\n",
              "    }\n",
              "\n",
              "    .dataframe thead th {\n",
              "        text-align: right;\n",
              "    }\n",
              "</style>\n",
              "<table border=\"1\" class=\"dataframe\">\n",
              "  <thead>\n",
              "    <tr style=\"text-align: right;\">\n",
              "      <th></th>\n",
              "      <th>Input1: int</th>\n",
              "      <th>Output: int</th>\n",
              "    </tr>\n",
              "  </thead>\n",
              "  <tbody>\n",
              "    <tr>\n",
              "      <th>Test 1:</th>\n",
              "      <td>2</td>\n",
              "      <td>2</td>\n",
              "    </tr>\n",
              "    <tr>\n",
              "      <th>Test 2:</th>\n",
              "      <td>5</td>\n",
              "      <td>8</td>\n",
              "    </tr>\n",
              "    <tr>\n",
              "      <th>Test 3:</th>\n",
              "      <td>11</td>\n",
              "      <td>144</td>\n",
              "    </tr>\n",
              "  </tbody>\n",
              "</table>\n",
              "</div>"
            ],
            "text/plain": [
              "        Input1: int Output: int\n",
              "Test 1:           2           2\n",
              "Test 2:           5           8\n",
              "Test 3:          11         144"
            ]
          },
          "metadata": {}
        },
        {
          "output_type": "stream",
          "text": [
            "\n",
            "\u001b[1mStairs: Hard\u001b[0;0m \n",
            "\n"
          ],
          "name": "stdout"
        }
      ]
    },
    {
      "cell_type": "code",
      "metadata": {
        "colab": {
          "base_uri": "https://localhost:8080/"
        },
        "id": "fA6ZCmFErPPS",
        "outputId": "9c9046bf-c5f9-4ff2-ee8d-e4c8c2ccaa64"
      },
      "source": [
        "def stairs_climb(number):\n",
        "  \n",
        "  a = 1\n",
        "  b = 2\n",
        "\n",
        "  if number == a:\n",
        "    output = a\n",
        "  elif number == b:\n",
        "    output = b\n",
        "  else:\n",
        "    for i in range(number - 2):\n",
        "      a, b = b, a + b\n",
        "    output = b\n",
        "\n",
        "  return output\n",
        "\n",
        "print(stairs_climb(2))\n",
        "print(stairs_climb(5))\n",
        "print(stairs_climb(11))"
      ],
      "execution_count": 75,
      "outputs": [
        {
          "output_type": "stream",
          "text": [
            "2\n",
            "8\n",
            "144\n"
          ],
          "name": "stdout"
        }
      ]
    },
    {
      "cell_type": "code",
      "metadata": {
        "colab": {
          "base_uri": "https://localhost:8080/",
          "height": 362
        },
        "id": "w5P8N8f6KleL",
        "outputId": "2400c310-6f73-4cd7-a290-3251b255c586"
      },
      "source": [
        "eb[24].check(stairs_climb, cheat=True)"
      ],
      "execution_count": 76,
      "outputs": [
        {
          "output_type": "display_data",
          "data": {
            "text/html": [
              "<div>\n",
              "<style scoped>\n",
              "    .dataframe tbody tr th:only-of-type {\n",
              "        vertical-align: middle;\n",
              "    }\n",
              "\n",
              "    .dataframe tbody tr th {\n",
              "        vertical-align: top;\n",
              "    }\n",
              "\n",
              "    .dataframe thead th {\n",
              "        text-align: right;\n",
              "    }\n",
              "</style>\n",
              "<table border=\"1\" class=\"dataframe\">\n",
              "  <thead>\n",
              "    <tr style=\"text-align: right;\">\n",
              "      <th></th>\n",
              "      <th>Input 1: int</th>\n",
              "      <th>Your output</th>\n",
              "      <th>Correct output: int</th>\n",
              "      <th>Correct</th>\n",
              "    </tr>\n",
              "  </thead>\n",
              "  <tbody>\n",
              "    <tr>\n",
              "      <th>Test 1:</th>\n",
              "      <td>1</td>\n",
              "      <td>1</td>\n",
              "      <td>1</td>\n",
              "      <td>True</td>\n",
              "    </tr>\n",
              "    <tr>\n",
              "      <th>Test 2:</th>\n",
              "      <td>2</td>\n",
              "      <td>2</td>\n",
              "      <td>2</td>\n",
              "      <td>True</td>\n",
              "    </tr>\n",
              "    <tr>\n",
              "      <th>Test 3:</th>\n",
              "      <td>3</td>\n",
              "      <td>3</td>\n",
              "      <td>3</td>\n",
              "      <td>True</td>\n",
              "    </tr>\n",
              "    <tr>\n",
              "      <th>Test 4:</th>\n",
              "      <td>4</td>\n",
              "      <td>5</td>\n",
              "      <td>5</td>\n",
              "      <td>True</td>\n",
              "    </tr>\n",
              "    <tr>\n",
              "      <th>Test 5:</th>\n",
              "      <td>5</td>\n",
              "      <td>8</td>\n",
              "      <td>8</td>\n",
              "      <td>True</td>\n",
              "    </tr>\n",
              "    <tr>\n",
              "      <th>Test 6:</th>\n",
              "      <td>8</td>\n",
              "      <td>34</td>\n",
              "      <td>34</td>\n",
              "      <td>True</td>\n",
              "    </tr>\n",
              "    <tr>\n",
              "      <th>Test 7:</th>\n",
              "      <td>10</td>\n",
              "      <td>89</td>\n",
              "      <td>89</td>\n",
              "      <td>True</td>\n",
              "    </tr>\n",
              "    <tr>\n",
              "      <th>Test 8:</th>\n",
              "      <td>11</td>\n",
              "      <td>144</td>\n",
              "      <td>144</td>\n",
              "      <td>True</td>\n",
              "    </tr>\n",
              "    <tr>\n",
              "      <th>Test 9:</th>\n",
              "      <td>14</td>\n",
              "      <td>610</td>\n",
              "      <td>610</td>\n",
              "      <td>True</td>\n",
              "    </tr>\n",
              "  </tbody>\n",
              "</table>\n",
              "</div>"
            ],
            "text/plain": [
              "        Input 1: int Your output Correct output: int Correct\n",
              "Test 1:            1           1                   1    True\n",
              "Test 2:            2           2                   2    True\n",
              "Test 3:            3           3                   3    True\n",
              "Test 4:            4           5                   5    True\n",
              "Test 5:            5           8                   8    True\n",
              "Test 6:            8          34                  34    True\n",
              "Test 7:           10          89                  89    True\n",
              "Test 8:           11         144                 144    True\n",
              "Test 9:           14         610                 610    True"
            ]
          },
          "metadata": {}
        },
        {
          "output_type": "stream",
          "text": [
            "You passed 9 of the 9 tests. \n",
            "The solution is correct\n"
          ],
          "name": "stdout"
        }
      ]
    },
    {
      "cell_type": "code",
      "metadata": {
        "colab": {
          "base_uri": "https://localhost:8080/",
          "height": 247
        },
        "id": "gr7Cr7n6OOhu",
        "outputId": "5dd8e26f-802e-468b-9775-fcae704839a4"
      },
      "source": [
        "print(eb[25])"
      ],
      "execution_count": 77,
      "outputs": [
        {
          "output_type": "stream",
          "text": [
            "Given positive integers n and m as input arguments, write a function to \n",
            "select all positive integers that are no larger than n and the summations \n",
            "of all digits are the same as m. Return these selected integers as a list. \n",
            "For example, if n = 30 and m = 5, the returned output is [5, 14, 23], if \n",
            "n = 50 and m = 9, then returned output is [9, 18, 27, 36, 45]\n"
          ],
          "name": "stdout"
        },
        {
          "output_type": "display_data",
          "data": {
            "text/html": [
              "<div>\n",
              "<style scoped>\n",
              "    .dataframe tbody tr th:only-of-type {\n",
              "        vertical-align: middle;\n",
              "    }\n",
              "\n",
              "    .dataframe tbody tr th {\n",
              "        vertical-align: top;\n",
              "    }\n",
              "\n",
              "    .dataframe thead th {\n",
              "        text-align: right;\n",
              "    }\n",
              "</style>\n",
              "<table border=\"1\" class=\"dataframe\">\n",
              "  <thead>\n",
              "    <tr style=\"text-align: right;\">\n",
              "      <th></th>\n",
              "      <th>Input1: int</th>\n",
              "      <th>Input2: int</th>\n",
              "      <th>Output: list</th>\n",
              "    </tr>\n",
              "  </thead>\n",
              "  <tbody>\n",
              "    <tr>\n",
              "      <th>Test 1:</th>\n",
              "      <td>30</td>\n",
              "      <td>5</td>\n",
              "      <td>[5, 14, 23]</td>\n",
              "    </tr>\n",
              "    <tr>\n",
              "      <th>Test 2:</th>\n",
              "      <td>50</td>\n",
              "      <td>9</td>\n",
              "      <td>[9, 18, 27, 36, 45]</td>\n",
              "    </tr>\n",
              "  </tbody>\n",
              "</table>\n",
              "</div>"
            ],
            "text/plain": [
              "        Input1: int Input2: int         Output: list\n",
              "Test 1:          30           5          [5, 14, 23]\n",
              "Test 2:          50           9  [9, 18, 27, 36, 45]"
            ]
          },
          "metadata": {}
        },
        {
          "output_type": "stream",
          "text": [
            "\n",
            "\u001b[1mDigit Sum: Medium\u001b[0;0m \n",
            "\n"
          ],
          "name": "stdout"
        }
      ]
    },
    {
      "cell_type": "code",
      "metadata": {
        "colab": {
          "base_uri": "https://localhost:8080/"
        },
        "id": "Oej_XM8Yta-O",
        "outputId": "19e8bb34-b3eb-42b8-d4c9-ba7630b7f9b4"
      },
      "source": [
        "def summations(limit, value):\n",
        "  \n",
        "  output = []\n",
        "  string_list = [str(i) for i in range(limit)]\n",
        "  \n",
        "  for j in string_list:\n",
        "    if len(j) == 1:\n",
        "      if int(j) == value:\n",
        "        output.append(int(j))\n",
        "    if int(j[0]) + int(j[-1]) == value:\n",
        "      output.append(int(j))\n",
        "  \n",
        "  return output\n",
        "\n",
        "print(summations(30, 5))\n",
        "print(summations(50, 9))"
      ],
      "execution_count": 78,
      "outputs": [
        {
          "output_type": "stream",
          "text": [
            "[5, 14, 23]\n",
            "[9, 18, 27, 36, 45]\n"
          ],
          "name": "stdout"
        }
      ]
    },
    {
      "cell_type": "code",
      "metadata": {
        "colab": {
          "base_uri": "https://localhost:8080/",
          "height": 207
        },
        "id": "sDOMgdRlKZbl",
        "outputId": "6bb2d20b-3e84-4581-8074-54620d2b413a"
      },
      "source": [
        "eb[25].check(summations, cheat=True)"
      ],
      "execution_count": 79,
      "outputs": [
        {
          "output_type": "display_data",
          "data": {
            "text/html": [
              "<div>\n",
              "<style scoped>\n",
              "    .dataframe tbody tr th:only-of-type {\n",
              "        vertical-align: middle;\n",
              "    }\n",
              "\n",
              "    .dataframe tbody tr th {\n",
              "        vertical-align: top;\n",
              "    }\n",
              "\n",
              "    .dataframe thead th {\n",
              "        text-align: right;\n",
              "    }\n",
              "</style>\n",
              "<table border=\"1\" class=\"dataframe\">\n",
              "  <thead>\n",
              "    <tr style=\"text-align: right;\">\n",
              "      <th></th>\n",
              "      <th>Input 1: int</th>\n",
              "      <th>Input 2: int</th>\n",
              "      <th>Your output</th>\n",
              "      <th>Correct output: list</th>\n",
              "      <th>Correct</th>\n",
              "    </tr>\n",
              "  </thead>\n",
              "  <tbody>\n",
              "    <tr>\n",
              "      <th>Test 1:</th>\n",
              "      <td>30</td>\n",
              "      <td>5</td>\n",
              "      <td>[5, 14, 23]</td>\n",
              "      <td>[5, 14, 23]</td>\n",
              "      <td>True</td>\n",
              "    </tr>\n",
              "    <tr>\n",
              "      <th>Test 2:</th>\n",
              "      <td>50</td>\n",
              "      <td>9</td>\n",
              "      <td>[9, 18, 27, 36, 45]</td>\n",
              "      <td>[9, 18, 27, 36, 45]</td>\n",
              "      <td>True</td>\n",
              "    </tr>\n",
              "    <tr>\n",
              "      <th>Test 3:</th>\n",
              "      <td>100</td>\n",
              "      <td>12</td>\n",
              "      <td>[6, 39, 48, 57, 66, 75, 84, 93]</td>\n",
              "      <td>[39, 48, 57, 66, 75, 84, 93]</td>\n",
              "      <td>False</td>\n",
              "    </tr>\n",
              "    <tr>\n",
              "      <th>Test 4:</th>\n",
              "      <td>200</td>\n",
              "      <td>8</td>\n",
              "      <td>[4, 8, 17, 26, 35, 44, 53, 62, 71, 80, 107, 11...</td>\n",
              "      <td>[8, 17, 26, 35, 44, 53, 62, 71, 80, 107, 116, ...</td>\n",
              "      <td>False</td>\n",
              "    </tr>\n",
              "  </tbody>\n",
              "</table>\n",
              "</div>"
            ],
            "text/plain": [
              "        Input 1: int  ... Correct\n",
              "Test 1:           30  ...    True\n",
              "Test 2:           50  ...    True\n",
              "Test 3:          100  ...   False\n",
              "Test 4:          200  ...   False\n",
              "\n",
              "[4 rows x 5 columns]"
            ]
          },
          "metadata": {}
        },
        {
          "output_type": "stream",
          "text": [
            "You passed 2 of the 4 tests. \n",
            "The solution is incorrect\n"
          ],
          "name": "stdout"
        }
      ]
    },
    {
      "cell_type": "code",
      "metadata": {
        "colab": {
          "base_uri": "https://localhost:8080/",
          "height": 230
        },
        "id": "wlVFkWl5OOel",
        "outputId": "dbc7a6d6-9ccb-4b93-d36d-6b08d64ad119"
      },
      "source": [
        "print(eb[26])"
      ],
      "execution_count": 80,
      "outputs": [
        {
          "output_type": "stream",
          "text": [
            "Given a list of numbers as the input argument, write a function to return \n",
            "a list of numbers that only appear once in the list. For example, if the \n",
            "input is [1, 2, 1, 4, 3, 2, 0], then the  output is [4, 3, 0]; if the input \n",
            "is [1.5, 2, 2.0, 3.5, 1.5, 2], then the output is [3.5].\n"
          ],
          "name": "stdout"
        },
        {
          "output_type": "display_data",
          "data": {
            "text/html": [
              "<div>\n",
              "<style scoped>\n",
              "    .dataframe tbody tr th:only-of-type {\n",
              "        vertical-align: middle;\n",
              "    }\n",
              "\n",
              "    .dataframe tbody tr th {\n",
              "        vertical-align: top;\n",
              "    }\n",
              "\n",
              "    .dataframe thead th {\n",
              "        text-align: right;\n",
              "    }\n",
              "</style>\n",
              "<table border=\"1\" class=\"dataframe\">\n",
              "  <thead>\n",
              "    <tr style=\"text-align: right;\">\n",
              "      <th></th>\n",
              "      <th>Input1: list</th>\n",
              "      <th>Output: list</th>\n",
              "    </tr>\n",
              "  </thead>\n",
              "  <tbody>\n",
              "    <tr>\n",
              "      <th>Test 1:</th>\n",
              "      <td>[1, 2, 1, 4, 3, 2, 0]</td>\n",
              "      <td>[4, 3, 0]</td>\n",
              "    </tr>\n",
              "    <tr>\n",
              "      <th>Test 2:</th>\n",
              "      <td>[1.5, 2, 2.0, 3.5, 1.5, 2]</td>\n",
              "      <td>[3.5]</td>\n",
              "    </tr>\n",
              "  </tbody>\n",
              "</table>\n",
              "</div>"
            ],
            "text/plain": [
              "                       Input1: list Output: list\n",
              "Test 1:       [1, 2, 1, 4, 3, 2, 0]    [4, 3, 0]\n",
              "Test 2:  [1.5, 2, 2.0, 3.5, 1.5, 2]        [3.5]"
            ]
          },
          "metadata": {}
        },
        {
          "output_type": "stream",
          "text": [
            "\n",
            "\u001b[1mOne Appearance: Medium\u001b[0;0m \n",
            "\n"
          ],
          "name": "stdout"
        }
      ]
    },
    {
      "cell_type": "code",
      "metadata": {
        "colab": {
          "base_uri": "https://localhost:8080/"
        },
        "id": "weOFCgBDuzDl",
        "outputId": "e92de5e5-a8b8-4c95-d8f9-59d6d427ef23"
      },
      "source": [
        "def appearance(list_value):\n",
        "  \n",
        "  once = []\n",
        "  \n",
        "  for i in list_value:\n",
        "    if list_value.count(i) == 1:\n",
        "      once.append(i)\n",
        "  \n",
        "  return once\n",
        "\n",
        "print(appearance([1, 2, 1, 4, 3, 2, 0]))\n",
        "print(appearance([1.5, 2, 2.0, 3.5, 1.5, 2]))"
      ],
      "execution_count": 81,
      "outputs": [
        {
          "output_type": "stream",
          "text": [
            "[4, 3, 0]\n",
            "[3.5]\n"
          ],
          "name": "stdout"
        }
      ]
    },
    {
      "cell_type": "code",
      "metadata": {
        "colab": {
          "base_uri": "https://localhost:8080/",
          "height": 176
        },
        "id": "rn1qqnOiKWN4",
        "outputId": "fcd6a437-df6d-4ad9-d9da-3567e3327b16"
      },
      "source": [
        "eb[26].check(appearance, cheat=True)"
      ],
      "execution_count": 82,
      "outputs": [
        {
          "output_type": "display_data",
          "data": {
            "text/html": [
              "<div>\n",
              "<style scoped>\n",
              "    .dataframe tbody tr th:only-of-type {\n",
              "        vertical-align: middle;\n",
              "    }\n",
              "\n",
              "    .dataframe tbody tr th {\n",
              "        vertical-align: top;\n",
              "    }\n",
              "\n",
              "    .dataframe thead th {\n",
              "        text-align: right;\n",
              "    }\n",
              "</style>\n",
              "<table border=\"1\" class=\"dataframe\">\n",
              "  <thead>\n",
              "    <tr style=\"text-align: right;\">\n",
              "      <th></th>\n",
              "      <th>Input 1: list</th>\n",
              "      <th>Your output</th>\n",
              "      <th>Correct output: list</th>\n",
              "      <th>Correct</th>\n",
              "    </tr>\n",
              "  </thead>\n",
              "  <tbody>\n",
              "    <tr>\n",
              "      <th>Test 1:</th>\n",
              "      <td>[1, 2, 1, 4, 3, 2, 0]</td>\n",
              "      <td>[4, 3, 0]</td>\n",
              "      <td>[4, 3, 0]</td>\n",
              "      <td>True</td>\n",
              "    </tr>\n",
              "    <tr>\n",
              "      <th>Test 2:</th>\n",
              "      <td>[1.5, 2, 2.0, 3.5, 1.5, 2]</td>\n",
              "      <td>[3.5]</td>\n",
              "      <td>[3.5]</td>\n",
              "      <td>True</td>\n",
              "    </tr>\n",
              "    <tr>\n",
              "      <th>Test 3:</th>\n",
              "      <td>[2.5, 3, 3.0, 2.5, 2.5]</td>\n",
              "      <td>[]</td>\n",
              "      <td>[]</td>\n",
              "      <td>True</td>\n",
              "    </tr>\n",
              "  </tbody>\n",
              "</table>\n",
              "</div>"
            ],
            "text/plain": [
              "                      Input 1: list Your output Correct output: list Correct\n",
              "Test 1:       [1, 2, 1, 4, 3, 2, 0]   [4, 3, 0]            [4, 3, 0]    True\n",
              "Test 2:  [1.5, 2, 2.0, 3.5, 1.5, 2]       [3.5]                [3.5]    True\n",
              "Test 3:     [2.5, 3, 3.0, 2.5, 2.5]          []                   []    True"
            ]
          },
          "metadata": {}
        },
        {
          "output_type": "stream",
          "text": [
            "You passed 3 of the 3 tests. \n",
            "The solution is correct\n"
          ],
          "name": "stdout"
        }
      ]
    },
    {
      "cell_type": "code",
      "metadata": {
        "colab": {
          "base_uri": "https://localhost:8080/",
          "height": 247
        },
        "id": "Mo7QDBwnOObo",
        "outputId": "10687d9c-fba1-45dc-a9ca-961b869c87d6"
      },
      "source": [
        "print(eb[27])"
      ],
      "execution_count": 83,
      "outputs": [
        {
          "output_type": "stream",
          "text": [
            "Given two strings as the input arguments, write a function to return the \n",
            "longest substring shared by these two input strings. For example, if the \n",
            "inputs are \"cdbabcde\" and \"babcffg\", then the output is \"abc\"; if the \n",
            "inputs are \"This is an apple\" and \"Check the app store\", then the output \n",
            "is \"app\". \n"
          ],
          "name": "stdout"
        },
        {
          "output_type": "display_data",
          "data": {
            "text/html": [
              "<div>\n",
              "<style scoped>\n",
              "    .dataframe tbody tr th:only-of-type {\n",
              "        vertical-align: middle;\n",
              "    }\n",
              "\n",
              "    .dataframe tbody tr th {\n",
              "        vertical-align: top;\n",
              "    }\n",
              "\n",
              "    .dataframe thead th {\n",
              "        text-align: right;\n",
              "    }\n",
              "</style>\n",
              "<table border=\"1\" class=\"dataframe\">\n",
              "  <thead>\n",
              "    <tr style=\"text-align: right;\">\n",
              "      <th></th>\n",
              "      <th>Input1: str</th>\n",
              "      <th>Input2: str</th>\n",
              "      <th>Output: str</th>\n",
              "    </tr>\n",
              "  </thead>\n",
              "  <tbody>\n",
              "    <tr>\n",
              "      <th>Test 1:</th>\n",
              "      <td>cdeabcde</td>\n",
              "      <td>babcffg</td>\n",
              "      <td>abc</td>\n",
              "    </tr>\n",
              "    <tr>\n",
              "      <th>Test 2:</th>\n",
              "      <td>This is an apple</td>\n",
              "      <td>Check the app store</td>\n",
              "      <td>app</td>\n",
              "    </tr>\n",
              "  </tbody>\n",
              "</table>\n",
              "</div>"
            ],
            "text/plain": [
              "              Input1: str          Input2: str Output: str\n",
              "Test 1:          cdeabcde              babcffg         abc\n",
              "Test 2:  This is an apple  Check the app store         app"
            ]
          },
          "metadata": {}
        },
        {
          "output_type": "stream",
          "text": [
            "\n",
            "\u001b[1mLongest Substring: Hard\u001b[0;0m \n",
            "\n"
          ],
          "name": "stdout"
        }
      ]
    },
    {
      "cell_type": "code",
      "metadata": {
        "colab": {
          "base_uri": "https://localhost:8080/"
        },
        "id": "gDoQZJtsuzqK",
        "outputId": "ada05bdb-167c-472e-ba5c-5fc0b2a3daf5"
      },
      "source": [
        "def longest_substring(text1, text2):\n",
        "  longest_substring = \"\"\n",
        "  count1, count2 = len(text1), len(text2)\n",
        "  for i in range(count1):\n",
        "      for j in range(count2):\n",
        "          temp = 0\n",
        "          same = ''\n",
        "          while ((i + temp < count1) and (j + temp <count2) and text1[i + temp] == text2[j + temp]):\n",
        "              same += text2[j+temp]\n",
        "              temp += 1\n",
        "          if (len(same) > len(longest_substring)):\n",
        "              longest_substring = same\n",
        "  return longest_substring\n",
        "\n",
        "print(longest_substring(\"cdeabcde\", \"babcffg\"))\n",
        "print(longest_substring(\"This is an apple\", \"Check the app store\"))"
      ],
      "execution_count": 84,
      "outputs": [
        {
          "output_type": "stream",
          "text": [
            "abc\n",
            " app\n"
          ],
          "name": "stdout"
        }
      ]
    },
    {
      "cell_type": "code",
      "metadata": {
        "colab": {
          "base_uri": "https://localhost:8080/",
          "height": 176
        },
        "id": "nTiULUZoKTcf",
        "outputId": "f431839c-85b7-43b3-ecef-4b30d7293422"
      },
      "source": [
        "eb[27].check(longest_substring, cheat=True)"
      ],
      "execution_count": 85,
      "outputs": [
        {
          "output_type": "display_data",
          "data": {
            "text/html": [
              "<div>\n",
              "<style scoped>\n",
              "    .dataframe tbody tr th:only-of-type {\n",
              "        vertical-align: middle;\n",
              "    }\n",
              "\n",
              "    .dataframe tbody tr th {\n",
              "        vertical-align: top;\n",
              "    }\n",
              "\n",
              "    .dataframe thead th {\n",
              "        text-align: right;\n",
              "    }\n",
              "</style>\n",
              "<table border=\"1\" class=\"dataframe\">\n",
              "  <thead>\n",
              "    <tr style=\"text-align: right;\">\n",
              "      <th></th>\n",
              "      <th>Input 1: str</th>\n",
              "      <th>Input 2: str</th>\n",
              "      <th>Your output</th>\n",
              "      <th>Correct output: str</th>\n",
              "      <th>Correct</th>\n",
              "    </tr>\n",
              "  </thead>\n",
              "  <tbody>\n",
              "    <tr>\n",
              "      <th>Test 1:</th>\n",
              "      <td>cdeabcde</td>\n",
              "      <td>babcffg</td>\n",
              "      <td>abc</td>\n",
              "      <td>abc</td>\n",
              "      <td>True</td>\n",
              "    </tr>\n",
              "    <tr>\n",
              "      <th>Test 2:</th>\n",
              "      <td>This is an apple</td>\n",
              "      <td>Check the app store</td>\n",
              "      <td>app</td>\n",
              "      <td>app</td>\n",
              "      <td>True</td>\n",
              "    </tr>\n",
              "    <tr>\n",
              "      <th>Test 3:</th>\n",
              "      <td>DAO</td>\n",
              "      <td>2702</td>\n",
              "      <td></td>\n",
              "      <td></td>\n",
              "      <td>True</td>\n",
              "    </tr>\n",
              "  </tbody>\n",
              "</table>\n",
              "</div>"
            ],
            "text/plain": [
              "             Input 1: str         Input 2: str  ... Correct output: str Correct\n",
              "Test 1:          cdeabcde              babcffg  ...                 abc    True\n",
              "Test 2:  This is an apple  Check the app store  ...                 app    True\n",
              "Test 3:               DAO                 2702  ...                        True\n",
              "\n",
              "[3 rows x 5 columns]"
            ]
          },
          "metadata": {}
        },
        {
          "output_type": "stream",
          "text": [
            "You passed 3 of the 3 tests. \n",
            "The solution is correct\n"
          ],
          "name": "stdout"
        }
      ]
    },
    {
      "cell_type": "code",
      "metadata": {
        "colab": {
          "base_uri": "https://localhost:8080/",
          "height": 230
        },
        "id": "0FIlzrxlOOYj",
        "outputId": "4ea5bdf8-0cdb-4c82-b06a-6efe57ebb070"
      },
      "source": [
        "print(eb[28])"
      ],
      "execution_count": 86,
      "outputs": [
        {
          "output_type": "stream",
          "text": [
            "Given a string containing different types of parentheses, write a function \n",
            "to check if these parentheses matches. For example, if the input is \"(this \n",
            "is {a test})\", the output is True; if the input is \"(this is {a test)}\", \n",
            "then the output is False.\n"
          ],
          "name": "stdout"
        },
        {
          "output_type": "display_data",
          "data": {
            "text/html": [
              "<div>\n",
              "<style scoped>\n",
              "    .dataframe tbody tr th:only-of-type {\n",
              "        vertical-align: middle;\n",
              "    }\n",
              "\n",
              "    .dataframe tbody tr th {\n",
              "        vertical-align: top;\n",
              "    }\n",
              "\n",
              "    .dataframe thead th {\n",
              "        text-align: right;\n",
              "    }\n",
              "</style>\n",
              "<table border=\"1\" class=\"dataframe\">\n",
              "  <thead>\n",
              "    <tr style=\"text-align: right;\">\n",
              "      <th></th>\n",
              "      <th>Input1: str</th>\n",
              "      <th>Output: bool</th>\n",
              "    </tr>\n",
              "  </thead>\n",
              "  <tbody>\n",
              "    <tr>\n",
              "      <th>Test 1:</th>\n",
              "      <td>(this is {a test})</td>\n",
              "      <td>True</td>\n",
              "    </tr>\n",
              "    <tr>\n",
              "      <th>Test 2:</th>\n",
              "      <td>(this is {a test)}</td>\n",
              "      <td>False</td>\n",
              "    </tr>\n",
              "  </tbody>\n",
              "</table>\n",
              "</div>"
            ],
            "text/plain": [
              "                Input1: str Output: bool\n",
              "Test 1:  (this is {a test})         True\n",
              "Test 2:  (this is {a test)}        False"
            ]
          },
          "metadata": {}
        },
        {
          "output_type": "stream",
          "text": [
            "\n",
            "\u001b[1mMatch Parentheses:  Very Hard\u001b[0;0m \n",
            "\n"
          ],
          "name": "stdout"
        }
      ]
    },
    {
      "cell_type": "code",
      "metadata": {
        "colab": {
          "base_uri": "https://localhost:8080/"
        },
        "id": "ZOBdCDT6vGF6",
        "outputId": "aee44f41-c67b-43c8-8df8-29a95c02a041"
      },
      "source": [
        "def parentheses(text):\n",
        "  \n",
        "  open_parentheses = tuple('({')\n",
        "  close_parentheses = tuple(')}')\n",
        "  map = dict(zip(open_parentheses, close_parentheses))\n",
        "  array_list = []\n",
        "\n",
        "  for i in text:\n",
        "    if i in open_parentheses:\n",
        "      array_list.append(map[i])\n",
        "    elif i in close_parentheses:\n",
        "      if not array_list or i != array_list.pop():\n",
        "        return False\n",
        "  \n",
        "  if not array_list:\n",
        "    return True\n",
        "  else:\n",
        "    return False\n",
        "\n",
        "print(parentheses(\"(this is {a test})\"))\n",
        "print(parentheses(\"(this is {a test)}\"))"
      ],
      "execution_count": 87,
      "outputs": [
        {
          "output_type": "stream",
          "text": [
            "True\n",
            "False\n"
          ],
          "name": "stdout"
        }
      ]
    },
    {
      "cell_type": "code",
      "metadata": {
        "colab": {
          "base_uri": "https://localhost:8080/",
          "height": 362
        },
        "id": "h9q-lSyBKOMF",
        "outputId": "925eb2a2-5bf2-4e01-fe15-a7e242b21235"
      },
      "source": [
        "eb[28].check(parentheses, cheat=True)"
      ],
      "execution_count": 88,
      "outputs": [
        {
          "output_type": "display_data",
          "data": {
            "text/html": [
              "<div>\n",
              "<style scoped>\n",
              "    .dataframe tbody tr th:only-of-type {\n",
              "        vertical-align: middle;\n",
              "    }\n",
              "\n",
              "    .dataframe tbody tr th {\n",
              "        vertical-align: top;\n",
              "    }\n",
              "\n",
              "    .dataframe thead th {\n",
              "        text-align: right;\n",
              "    }\n",
              "</style>\n",
              "<table border=\"1\" class=\"dataframe\">\n",
              "  <thead>\n",
              "    <tr style=\"text-align: right;\">\n",
              "      <th></th>\n",
              "      <th>Input 1: str</th>\n",
              "      <th>Your output</th>\n",
              "      <th>Correct output: bool</th>\n",
              "      <th>Correct</th>\n",
              "    </tr>\n",
              "  </thead>\n",
              "  <tbody>\n",
              "    <tr>\n",
              "      <th>Test 1:</th>\n",
              "      <td>(this is {a test})</td>\n",
              "      <td>True</td>\n",
              "      <td>True</td>\n",
              "      <td>True</td>\n",
              "    </tr>\n",
              "    <tr>\n",
              "      <th>Test 2:</th>\n",
              "      <td>(this is {a test)}</td>\n",
              "      <td>False</td>\n",
              "      <td>False</td>\n",
              "      <td>True</td>\n",
              "    </tr>\n",
              "    <tr>\n",
              "      <th>Test 3:</th>\n",
              "      <td>(this is )a {test}</td>\n",
              "      <td>True</td>\n",
              "      <td>True</td>\n",
              "      <td>True</td>\n",
              "    </tr>\n",
              "    <tr>\n",
              "      <th>Test 4:</th>\n",
              "      <td>(this [is] a {test}</td>\n",
              "      <td>False</td>\n",
              "      <td>False</td>\n",
              "      <td>True</td>\n",
              "    </tr>\n",
              "    <tr>\n",
              "      <th>Test 5:</th>\n",
              "      <td>(this [is a {test})</td>\n",
              "      <td>True</td>\n",
              "      <td>False</td>\n",
              "      <td>False</td>\n",
              "    </tr>\n",
              "    <tr>\n",
              "      <th>Test 6:</th>\n",
              "      <td>this (is {a }) test</td>\n",
              "      <td>True</td>\n",
              "      <td>True</td>\n",
              "      <td>True</td>\n",
              "    </tr>\n",
              "    <tr>\n",
              "      <th>Test 7:</th>\n",
              "      <td>this [is {a}} test</td>\n",
              "      <td>False</td>\n",
              "      <td>False</td>\n",
              "      <td>True</td>\n",
              "    </tr>\n",
              "    <tr>\n",
              "      <th>Test 8:</th>\n",
              "      <td>this is a test</td>\n",
              "      <td>True</td>\n",
              "      <td>True</td>\n",
              "      <td>True</td>\n",
              "    </tr>\n",
              "    <tr>\n",
              "      <th>Test 9:</th>\n",
              "      <td>this )is a test</td>\n",
              "      <td>False</td>\n",
              "      <td>False</td>\n",
              "      <td>True</td>\n",
              "    </tr>\n",
              "  </tbody>\n",
              "</table>\n",
              "</div>"
            ],
            "text/plain": [
              "                 Input 1: str Your output Correct output: bool Correct\n",
              "Test 1:    (this is {a test})        True                 True    True\n",
              "Test 2:    (this is {a test)}       False                False    True\n",
              "Test 3:    (this is )a {test}        True                 True    True\n",
              "Test 4:  (this [is] a {test}        False                False    True\n",
              "Test 5:   (this [is a {test})        True                False   False\n",
              "Test 6:   this (is {a }) test        True                 True    True\n",
              "Test 7:    this [is {a}} test       False                False    True\n",
              "Test 8:        this is a test        True                 True    True\n",
              "Test 9:       this )is a test       False                False    True"
            ]
          },
          "metadata": {}
        },
        {
          "output_type": "stream",
          "text": [
            "You passed 8 of the 9 tests. \n",
            "The solution is incorrect\n"
          ],
          "name": "stdout"
        }
      ]
    },
    {
      "cell_type": "code",
      "metadata": {
        "colab": {
          "base_uri": "https://localhost:8080/",
          "height": 230
        },
        "id": "NQZB_ezvOOVb",
        "outputId": "8eec61e7-993b-4f17-bfed-bbb54aee694c"
      },
      "source": [
        "print(eb[29])"
      ],
      "execution_count": 89,
      "outputs": [
        {
          "output_type": "stream",
          "text": [
            "Given a list of numbers as the input argument, write a function to move all \n",
            "zeros to the end of the list, while the order of the other numbers remain \n",
            "the same. For example, if the input is [0, 1, 0, 3, 12], then the output is \n",
            "[1, 3, 12, 0, 0]. \n"
          ],
          "name": "stdout"
        },
        {
          "output_type": "display_data",
          "data": {
            "text/html": [
              "<div>\n",
              "<style scoped>\n",
              "    .dataframe tbody tr th:only-of-type {\n",
              "        vertical-align: middle;\n",
              "    }\n",
              "\n",
              "    .dataframe tbody tr th {\n",
              "        vertical-align: top;\n",
              "    }\n",
              "\n",
              "    .dataframe thead th {\n",
              "        text-align: right;\n",
              "    }\n",
              "</style>\n",
              "<table border=\"1\" class=\"dataframe\">\n",
              "  <thead>\n",
              "    <tr style=\"text-align: right;\">\n",
              "      <th></th>\n",
              "      <th>Input1: list</th>\n",
              "      <th>Output: list</th>\n",
              "    </tr>\n",
              "  </thead>\n",
              "  <tbody>\n",
              "    <tr>\n",
              "      <th>Test 1:</th>\n",
              "      <td>[0, 1, 0, 3, 12]</td>\n",
              "      <td>[1, 3, 12, 0, 0]</td>\n",
              "    </tr>\n",
              "    <tr>\n",
              "      <th>Test 2:</th>\n",
              "      <td>[-4, -2, 1, 0, 0, 2, 0]</td>\n",
              "      <td>[-4, -2, 1, 2, 0, 0, 0]</td>\n",
              "    </tr>\n",
              "  </tbody>\n",
              "</table>\n",
              "</div>"
            ],
            "text/plain": [
              "                    Input1: list             Output: list\n",
              "Test 1:         [0, 1, 0, 3, 12]         [1, 3, 12, 0, 0]\n",
              "Test 2:  [-4, -2, 1, 0, 0, 2, 0]  [-4, -2, 1, 2, 0, 0, 0]"
            ]
          },
          "metadata": {}
        },
        {
          "output_type": "stream",
          "text": [
            "\n",
            "\u001b[1mMove Zeros: Easy\u001b[0;0m \n",
            "\n"
          ],
          "name": "stdout"
        }
      ]
    },
    {
      "cell_type": "code",
      "metadata": {
        "colab": {
          "base_uri": "https://localhost:8080/"
        },
        "id": "pGbKFxptv0LG",
        "outputId": "bf97d280-a984-4867-f87c-7ba20bf1db8c"
      },
      "source": [
        "def move_zeros(list_value):\n",
        "  \n",
        "  number = 0\n",
        "  number += list_value.count(0)\n",
        "  \n",
        "  for i in range(number):\n",
        "    list_value.remove(0)\n",
        "    list_value.append(0)\n",
        "\n",
        "  return list_value\n",
        "\n",
        "print(move_zeros([0, 1, 0, 3, 12]))\n",
        "print(move_zeros([-4, -2, 1, 0, 0, 2, 0]))"
      ],
      "execution_count": 90,
      "outputs": [
        {
          "output_type": "stream",
          "text": [
            "[1, 3, 12, 0, 0]\n",
            "[-4, -2, 1, 2, 0, 0, 0]\n"
          ],
          "name": "stdout"
        }
      ]
    },
    {
      "cell_type": "code",
      "metadata": {
        "colab": {
          "base_uri": "https://localhost:8080/",
          "height": 207
        },
        "id": "lLJ4q28sKJI3",
        "outputId": "1c701bc0-f97d-4eee-ae81-c849ba46f14f"
      },
      "source": [
        "eb[29].check(move_zeros, cheat=True)"
      ],
      "execution_count": 91,
      "outputs": [
        {
          "output_type": "display_data",
          "data": {
            "text/html": [
              "<div>\n",
              "<style scoped>\n",
              "    .dataframe tbody tr th:only-of-type {\n",
              "        vertical-align: middle;\n",
              "    }\n",
              "\n",
              "    .dataframe tbody tr th {\n",
              "        vertical-align: top;\n",
              "    }\n",
              "\n",
              "    .dataframe thead th {\n",
              "        text-align: right;\n",
              "    }\n",
              "</style>\n",
              "<table border=\"1\" class=\"dataframe\">\n",
              "  <thead>\n",
              "    <tr style=\"text-align: right;\">\n",
              "      <th></th>\n",
              "      <th>Input 1: list</th>\n",
              "      <th>Your output</th>\n",
              "      <th>Correct output: list</th>\n",
              "      <th>Correct</th>\n",
              "    </tr>\n",
              "  </thead>\n",
              "  <tbody>\n",
              "    <tr>\n",
              "      <th>Test 1:</th>\n",
              "      <td>[0, 1, 0, 3, 12]</td>\n",
              "      <td>[1, 3, 12, 0, 0]</td>\n",
              "      <td>[1, 3, 12, 0, 0]</td>\n",
              "      <td>True</td>\n",
              "    </tr>\n",
              "    <tr>\n",
              "      <th>Test 2:</th>\n",
              "      <td>[1, 0, 0, 2.5, 3, 0, 1]</td>\n",
              "      <td>[1, 2.5, 3, 1, 0, 0, 0]</td>\n",
              "      <td>[1, 2.5, 3, 1, 0, 0, 0]</td>\n",
              "      <td>True</td>\n",
              "    </tr>\n",
              "    <tr>\n",
              "      <th>Test 3:</th>\n",
              "      <td>[-4, -2, 1, 0, 0, 2, 0]</td>\n",
              "      <td>[-4, -2, 1, 2, 0, 0, 0]</td>\n",
              "      <td>[-4, -2, 1, 2, 0, 0, 0]</td>\n",
              "      <td>True</td>\n",
              "    </tr>\n",
              "    <tr>\n",
              "      <th>Test 4:</th>\n",
              "      <td>[2, 3, 5]</td>\n",
              "      <td>[2, 3, 5]</td>\n",
              "      <td>[2, 3, 5]</td>\n",
              "      <td>True</td>\n",
              "    </tr>\n",
              "  </tbody>\n",
              "</table>\n",
              "</div>"
            ],
            "text/plain": [
              "                   Input 1: list  ... Correct\n",
              "Test 1:         [0, 1, 0, 3, 12]  ...    True\n",
              "Test 2:  [1, 0, 0, 2.5, 3, 0, 1]  ...    True\n",
              "Test 3:  [-4, -2, 1, 0, 0, 2, 0]  ...    True\n",
              "Test 4:                [2, 3, 5]  ...    True\n",
              "\n",
              "[4 rows x 4 columns]"
            ]
          },
          "metadata": {}
        },
        {
          "output_type": "stream",
          "text": [
            "You passed 4 of the 4 tests. \n",
            "The solution is correct\n"
          ],
          "name": "stdout"
        }
      ]
    },
    {
      "cell_type": "code",
      "metadata": {
        "colab": {
          "base_uri": "https://localhost:8080/",
          "height": 199
        },
        "id": "B2EESbmmOOSZ",
        "outputId": "bd5da20c-bf8d-44ba-a938-186ba63cc07f"
      },
      "source": [
        "print(eb[30])"
      ],
      "execution_count": 92,
      "outputs": [
        {
          "output_type": "stream",
          "text": [
            "Given two lists of sorted numbers as the input arguments, write a function to \n",
            "merge these two lists as one list, with all numbers sorted. For example, if \n",
            "the inputs are [1, 2, 4] and [1, 3, 4], then the output is [1, 1, 2, 3, 4, 4]. \n",
            "As a practicce, do not use the built-in method sort.\n"
          ],
          "name": "stdout"
        },
        {
          "output_type": "display_data",
          "data": {
            "text/html": [
              "<div>\n",
              "<style scoped>\n",
              "    .dataframe tbody tr th:only-of-type {\n",
              "        vertical-align: middle;\n",
              "    }\n",
              "\n",
              "    .dataframe tbody tr th {\n",
              "        vertical-align: top;\n",
              "    }\n",
              "\n",
              "    .dataframe thead th {\n",
              "        text-align: right;\n",
              "    }\n",
              "</style>\n",
              "<table border=\"1\" class=\"dataframe\">\n",
              "  <thead>\n",
              "    <tr style=\"text-align: right;\">\n",
              "      <th></th>\n",
              "      <th>Input1: list</th>\n",
              "      <th>Input2: list</th>\n",
              "      <th>Output: list</th>\n",
              "    </tr>\n",
              "  </thead>\n",
              "  <tbody>\n",
              "    <tr>\n",
              "      <th>Test 1:</th>\n",
              "      <td>[1, 2, 4]</td>\n",
              "      <td>[1, 3, 4]</td>\n",
              "      <td>[1, 1, 2, 3, 4, 4]</td>\n",
              "    </tr>\n",
              "  </tbody>\n",
              "</table>\n",
              "</div>"
            ],
            "text/plain": [
              "        Input1: list Input2: list        Output: list\n",
              "Test 1:    [1, 2, 4]    [1, 3, 4]  [1, 1, 2, 3, 4, 4]"
            ]
          },
          "metadata": {}
        },
        {
          "output_type": "stream",
          "text": [
            "\n",
            "\u001b[1mMerge Lists: Easy\u001b[0;0m \n",
            "\n"
          ],
          "name": "stdout"
        }
      ]
    },
    {
      "cell_type": "code",
      "metadata": {
        "colab": {
          "base_uri": "https://localhost:8080/"
        },
        "id": "dYY97nSIw8gM",
        "outputId": "79c591b4-c288-4635-fc86-22413e15e961"
      },
      "source": [
        "def merge_list(list1, list2):\n",
        "  \n",
        "  list1.extend(list2)\n",
        "  \n",
        "  for i in range(len(list1)):\n",
        "    switch = False\n",
        "    \n",
        "    for j in range(0, len(list1) - i - 1):\n",
        "      if list1[j] > list1[j + 1]:\n",
        "        temp = list1[j]\n",
        "        list1[j] = list1[j + 1]\n",
        "        list1[j + 1] = temp\n",
        "        switch = True\n",
        "    \n",
        "    if not switch:\n",
        "      break\n",
        "\n",
        "  return list1\n",
        "\n",
        "print(merge_list([1, 2, 4], [1, 3, 4]))"
      ],
      "execution_count": 93,
      "outputs": [
        {
          "output_type": "stream",
          "text": [
            "[1, 1, 2, 3, 4, 4]\n"
          ],
          "name": "stdout"
        }
      ]
    },
    {
      "cell_type": "code",
      "metadata": {
        "colab": {
          "base_uri": "https://localhost:8080/",
          "height": 176
        },
        "id": "mptGFrEoKC9S",
        "outputId": "1f8bbae9-4881-4274-a82d-b4326f32fd3a"
      },
      "source": [
        "eb[30].check(merge_list, cheat=True)"
      ],
      "execution_count": 94,
      "outputs": [
        {
          "output_type": "display_data",
          "data": {
            "text/html": [
              "<div>\n",
              "<style scoped>\n",
              "    .dataframe tbody tr th:only-of-type {\n",
              "        vertical-align: middle;\n",
              "    }\n",
              "\n",
              "    .dataframe tbody tr th {\n",
              "        vertical-align: top;\n",
              "    }\n",
              "\n",
              "    .dataframe thead th {\n",
              "        text-align: right;\n",
              "    }\n",
              "</style>\n",
              "<table border=\"1\" class=\"dataframe\">\n",
              "  <thead>\n",
              "    <tr style=\"text-align: right;\">\n",
              "      <th></th>\n",
              "      <th>Input 1: list</th>\n",
              "      <th>Input 2: list</th>\n",
              "      <th>Your output</th>\n",
              "      <th>Correct output: list</th>\n",
              "      <th>Correct</th>\n",
              "    </tr>\n",
              "  </thead>\n",
              "  <tbody>\n",
              "    <tr>\n",
              "      <th>Test 1:</th>\n",
              "      <td>[1, 2, 4]</td>\n",
              "      <td>[1, 3, 4]</td>\n",
              "      <td>[1, 1, 2, 3, 4, 4]</td>\n",
              "      <td>[1, 1, 2, 3, 4, 4]</td>\n",
              "      <td>True</td>\n",
              "    </tr>\n",
              "    <tr>\n",
              "      <th>Test 2:</th>\n",
              "      <td>[0, 1, 1, 2, 5, 6]</td>\n",
              "      <td>[1, 2, 3]</td>\n",
              "      <td>[0, 1, 1, 1, 2, 2, 3, 5, 6]</td>\n",
              "      <td>[0, 1, 1, 1, 2, 2, 3, 5, 6]</td>\n",
              "      <td>True</td>\n",
              "    </tr>\n",
              "    <tr>\n",
              "      <th>Test 3:</th>\n",
              "      <td>[-4, -2, 0, 0, 1, 2]</td>\n",
              "      <td>[-1, 0, 2, 3, 4, 5]</td>\n",
              "      <td>[-4, -2, -1, 0, 0, 0, 1, 2, 2, 3, 4, 5]</td>\n",
              "      <td>[-4, -2, -1, 0, 0, 0, 1, 2, 2, 3, 4, 5]</td>\n",
              "      <td>True</td>\n",
              "    </tr>\n",
              "  </tbody>\n",
              "</table>\n",
              "</div>"
            ],
            "text/plain": [
              "                Input 1: list  ... Correct\n",
              "Test 1:             [1, 2, 4]  ...    True\n",
              "Test 2:    [0, 1, 1, 2, 5, 6]  ...    True\n",
              "Test 3:  [-4, -2, 0, 0, 1, 2]  ...    True\n",
              "\n",
              "[3 rows x 5 columns]"
            ]
          },
          "metadata": {}
        },
        {
          "output_type": "stream",
          "text": [
            "You passed 3 of the 3 tests. \n",
            "The solution is correct\n"
          ],
          "name": "stdout"
        }
      ]
    },
    {
      "cell_type": "code",
      "metadata": {
        "colab": {
          "base_uri": "https://localhost:8080/",
          "height": 329
        },
        "id": "OohLXj7gOOPh",
        "outputId": "a357c1d9-adfd-4ae7-aff7-8455d6f03a25"
      },
      "source": [
        "print(eb[31])"
      ],
      "execution_count": 95,
      "outputs": [
        {
          "output_type": "stream",
          "text": [
            "Given a list representing the prediction of stock prices in a number of days, \n",
            "design a function to find the maximum profit. For example, if the input list \n",
            "is [7, 1, 5, 3, 6, 4] then the profit is 4+3=7, because you can buy the stock \n",
            "on day 2 (price=1) and sell it on day 3 (price=5) so the profit is 4, then you \n",
            "can buy on day 4 (price=3) and sell it on day 5 (price=6) so the profit is 3. \n",
            "Note that you can make the buy and sell transcations in the same day, but you \n",
            "cannot buy the stock again before selling it, so if the given input list is \n",
            "[1, 2, 3, 4, 5] then the output is 5-1=4, or (2-1)+(3-2)+(4-3)+(5-4)=4.\n"
          ],
          "name": "stdout"
        },
        {
          "output_type": "display_data",
          "data": {
            "text/html": [
              "<div>\n",
              "<style scoped>\n",
              "    .dataframe tbody tr th:only-of-type {\n",
              "        vertical-align: middle;\n",
              "    }\n",
              "\n",
              "    .dataframe tbody tr th {\n",
              "        vertical-align: top;\n",
              "    }\n",
              "\n",
              "    .dataframe thead th {\n",
              "        text-align: right;\n",
              "    }\n",
              "</style>\n",
              "<table border=\"1\" class=\"dataframe\">\n",
              "  <thead>\n",
              "    <tr style=\"text-align: right;\">\n",
              "      <th></th>\n",
              "      <th>Input1: list</th>\n",
              "      <th>Output: int</th>\n",
              "    </tr>\n",
              "  </thead>\n",
              "  <tbody>\n",
              "    <tr>\n",
              "      <th>Test 1:</th>\n",
              "      <td>[7, 1, 5, 3, 6, 4]</td>\n",
              "      <td>7</td>\n",
              "    </tr>\n",
              "    <tr>\n",
              "      <th>Test 2:</th>\n",
              "      <td>[1, 2, 3, 4, 5]</td>\n",
              "      <td>4</td>\n",
              "    </tr>\n",
              "    <tr>\n",
              "      <th>Test 3:</th>\n",
              "      <td>[7, 6, 4, 3, 1]</td>\n",
              "      <td>0</td>\n",
              "    </tr>\n",
              "  </tbody>\n",
              "</table>\n",
              "</div>"
            ],
            "text/plain": [
              "               Input1: list Output: int\n",
              "Test 1:  [7, 1, 5, 3, 6, 4]           7\n",
              "Test 2:     [1, 2, 3, 4, 5]           4\n",
              "Test 3:     [7, 6, 4, 3, 1]           0"
            ]
          },
          "metadata": {}
        },
        {
          "output_type": "stream",
          "text": [
            "\n",
            "\u001b[1mTrading Decisions: Hard\u001b[0;0m \n",
            "\n"
          ],
          "name": "stdout"
        }
      ]
    },
    {
      "cell_type": "code",
      "metadata": {
        "colab": {
          "base_uri": "https://localhost:8080/"
        },
        "id": "f4wGGIk7b8BD",
        "outputId": "3a36cd35-6f48-465e-cc8c-dade15c089f2"
      },
      "source": [
        "def max_profit(list_value):\n",
        "  \n",
        "  profit = 0\n",
        "  \n",
        "  for i in range(len(list_value) - 1):\n",
        "    if list_value[i] < list_value[i + 1]:\n",
        "      profit += list_value[i + 1] - list_value[i]\n",
        "  \n",
        "  return profit\n",
        "\n",
        "print(max_profit([7, 1, 5, 3, 6, 4]))\n",
        "print(max_profit([1, 2, 3, 4, 5]))\n",
        "print(max_profit([7, 6, 4, 3, 1]))"
      ],
      "execution_count": 96,
      "outputs": [
        {
          "output_type": "stream",
          "text": [
            "7\n",
            "4\n",
            "0\n"
          ],
          "name": "stdout"
        }
      ]
    },
    {
      "cell_type": "code",
      "metadata": {
        "colab": {
          "base_uri": "https://localhost:8080/",
          "height": 238
        },
        "id": "unjGC-e7J-HH",
        "outputId": "350b1cdb-29da-46b3-f71b-0c25f53c2e6c"
      },
      "source": [
        "eb[31].check(max_profit, cheat=True)"
      ],
      "execution_count": 97,
      "outputs": [
        {
          "output_type": "display_data",
          "data": {
            "text/html": [
              "<div>\n",
              "<style scoped>\n",
              "    .dataframe tbody tr th:only-of-type {\n",
              "        vertical-align: middle;\n",
              "    }\n",
              "\n",
              "    .dataframe tbody tr th {\n",
              "        vertical-align: top;\n",
              "    }\n",
              "\n",
              "    .dataframe thead th {\n",
              "        text-align: right;\n",
              "    }\n",
              "</style>\n",
              "<table border=\"1\" class=\"dataframe\">\n",
              "  <thead>\n",
              "    <tr style=\"text-align: right;\">\n",
              "      <th></th>\n",
              "      <th>Input 1: list</th>\n",
              "      <th>Your output</th>\n",
              "      <th>Correct output: int</th>\n",
              "      <th>Correct</th>\n",
              "    </tr>\n",
              "  </thead>\n",
              "  <tbody>\n",
              "    <tr>\n",
              "      <th>Test 1:</th>\n",
              "      <td>[7, 1, 5, 3, 6, 4]</td>\n",
              "      <td>7</td>\n",
              "      <td>7</td>\n",
              "      <td>True</td>\n",
              "    </tr>\n",
              "    <tr>\n",
              "      <th>Test 2:</th>\n",
              "      <td>[1, 2, 3, 4, 5]</td>\n",
              "      <td>4</td>\n",
              "      <td>4</td>\n",
              "      <td>True</td>\n",
              "    </tr>\n",
              "    <tr>\n",
              "      <th>Test 3:</th>\n",
              "      <td>[7, 6, 4, 3, 1]</td>\n",
              "      <td>0</td>\n",
              "      <td>0</td>\n",
              "      <td>True</td>\n",
              "    </tr>\n",
              "    <tr>\n",
              "      <th>Test 4:</th>\n",
              "      <td>[4, 2, 1, 2, 3, 9, 0, 2]</td>\n",
              "      <td>10</td>\n",
              "      <td>10</td>\n",
              "      <td>True</td>\n",
              "    </tr>\n",
              "    <tr>\n",
              "      <th>Test 5:</th>\n",
              "      <td>[1, 2, 3, 2, 4, 5, 0, 1]</td>\n",
              "      <td>6</td>\n",
              "      <td>6</td>\n",
              "      <td>True</td>\n",
              "    </tr>\n",
              "  </tbody>\n",
              "</table>\n",
              "</div>"
            ],
            "text/plain": [
              "                    Input 1: list Your output Correct output: int Correct\n",
              "Test 1:        [7, 1, 5, 3, 6, 4]           7                   7    True\n",
              "Test 2:           [1, 2, 3, 4, 5]           4                   4    True\n",
              "Test 3:           [7, 6, 4, 3, 1]           0                   0    True\n",
              "Test 4:  [4, 2, 1, 2, 3, 9, 0, 2]          10                  10    True\n",
              "Test 5:  [1, 2, 3, 2, 4, 5, 0, 1]           6                   6    True"
            ]
          },
          "metadata": {}
        },
        {
          "output_type": "stream",
          "text": [
            "You passed 5 of the 5 tests. \n",
            "The solution is correct\n"
          ],
          "name": "stdout"
        }
      ]
    },
    {
      "cell_type": "code",
      "metadata": {
        "colab": {
          "base_uri": "https://localhost:8080/",
          "height": 380
        },
        "id": "2uSfvP51OOMn",
        "outputId": "263480fd-10c4-416a-c1e7-8e65154d57ad"
      },
      "source": [
        "print(eb[32])"
      ],
      "execution_count": 98,
      "outputs": [
        {
          "output_type": "stream",
          "text": [
            "At a lemonade stand, each lemonade costs $5. Customers are standing in a queue\n",
            "to buy from you, and order one at a time. Each customer will only buy one \n",
            "lemonade and pay with either a $5, $10, or $20 bill, and these payments are \n",
            "kept in a listas the input argument. You must provide the correct change to \n",
            "each customer, so that the net transaction is that the customer pays $5. Note \n",
            "that you don't have any change in hand at first. Return True if and only if \n",
            "you can provide every customer with the correct change, otherwise False. For\n",
            "example, if the input is [5, 5, 5, 10, 20], then the output is Ture, because \n",
            "we collected three $5 bills to pay back the subsequent customers. If the input \n",
            "is [10, 10], then the output is False, because there is no way to pay back \n",
            "the customers. \n"
          ],
          "name": "stdout"
        },
        {
          "output_type": "display_data",
          "data": {
            "text/html": [
              "<div>\n",
              "<style scoped>\n",
              "    .dataframe tbody tr th:only-of-type {\n",
              "        vertical-align: middle;\n",
              "    }\n",
              "\n",
              "    .dataframe tbody tr th {\n",
              "        vertical-align: top;\n",
              "    }\n",
              "\n",
              "    .dataframe thead th {\n",
              "        text-align: right;\n",
              "    }\n",
              "</style>\n",
              "<table border=\"1\" class=\"dataframe\">\n",
              "  <thead>\n",
              "    <tr style=\"text-align: right;\">\n",
              "      <th></th>\n",
              "      <th>Input1: list</th>\n",
              "      <th>Output: bool</th>\n",
              "    </tr>\n",
              "  </thead>\n",
              "  <tbody>\n",
              "    <tr>\n",
              "      <th>Test 1:</th>\n",
              "      <td>[5, 5, 5, 10, 20]</td>\n",
              "      <td>True</td>\n",
              "    </tr>\n",
              "    <tr>\n",
              "      <th>Test 2:</th>\n",
              "      <td>[10, 10]</td>\n",
              "      <td>False</td>\n",
              "    </tr>\n",
              "    <tr>\n",
              "      <th>Test 3:</th>\n",
              "      <td>[5, 10, 20, 5, 5, 10]</td>\n",
              "      <td>False</td>\n",
              "    </tr>\n",
              "  </tbody>\n",
              "</table>\n",
              "</div>"
            ],
            "text/plain": [
              "                  Input1: list Output: bool\n",
              "Test 1:      [5, 5, 5, 10, 20]         True\n",
              "Test 2:               [10, 10]        False\n",
              "Test 3:  [5, 10, 20, 5, 5, 10]        False"
            ]
          },
          "metadata": {}
        },
        {
          "output_type": "stream",
          "text": [
            "\n",
            "\u001b[1mLemonade Stand: Hard\u001b[0;0m \n",
            "\n"
          ],
          "name": "stdout"
        }
      ]
    },
    {
      "cell_type": "code",
      "metadata": {
        "colab": {
          "base_uri": "https://localhost:8080/"
        },
        "id": "IriCG3wOefyL",
        "outputId": "bbc1a42c-511d-4664-a6b2-b86f9fae670f"
      },
      "source": [
        "def lemonade(pay):\n",
        "  \n",
        "  balance = 0\n",
        "\n",
        "  if pay[0] != 5:\n",
        "    return False\n",
        "  \n",
        "  for i in range(len(pay)):\n",
        "    if pay[i] == 5:\n",
        "      balance += pay[i]\n",
        "    if pay[i] > balance:\n",
        "      if pay[i] - 5 > balance:\n",
        "        return False\n",
        "      balance += pay[i] - 5\n",
        "  \n",
        "  return True\n",
        "\n",
        "print(lemonade([5, 5, 5, 10, 20]))\n",
        "print(lemonade([10, 10]))\n",
        "print(lemonade([5, 10, 20, 5, 5, 10]))"
      ],
      "execution_count": 99,
      "outputs": [
        {
          "output_type": "stream",
          "text": [
            "True\n",
            "False\n",
            "False\n"
          ],
          "name": "stdout"
        }
      ]
    },
    {
      "cell_type": "code",
      "metadata": {
        "colab": {
          "base_uri": "https://localhost:8080/",
          "height": 300
        },
        "id": "BvvrU7OPJcej",
        "outputId": "9a3b6d30-2d5e-4a95-d54a-085131da608a"
      },
      "source": [
        "eb[32].check(lemonade, cheat=True)"
      ],
      "execution_count": 100,
      "outputs": [
        {
          "output_type": "display_data",
          "data": {
            "text/html": [
              "<div>\n",
              "<style scoped>\n",
              "    .dataframe tbody tr th:only-of-type {\n",
              "        vertical-align: middle;\n",
              "    }\n",
              "\n",
              "    .dataframe tbody tr th {\n",
              "        vertical-align: top;\n",
              "    }\n",
              "\n",
              "    .dataframe thead th {\n",
              "        text-align: right;\n",
              "    }\n",
              "</style>\n",
              "<table border=\"1\" class=\"dataframe\">\n",
              "  <thead>\n",
              "    <tr style=\"text-align: right;\">\n",
              "      <th></th>\n",
              "      <th>Input 1: list</th>\n",
              "      <th>Your output</th>\n",
              "      <th>Correct output: bool</th>\n",
              "      <th>Correct</th>\n",
              "    </tr>\n",
              "  </thead>\n",
              "  <tbody>\n",
              "    <tr>\n",
              "      <th>Test 1:</th>\n",
              "      <td>[5, 5, 5, 10, 20]</td>\n",
              "      <td>True</td>\n",
              "      <td>True</td>\n",
              "      <td>True</td>\n",
              "    </tr>\n",
              "    <tr>\n",
              "      <th>Test 2:</th>\n",
              "      <td>[10, 10]</td>\n",
              "      <td>False</td>\n",
              "      <td>False</td>\n",
              "      <td>True</td>\n",
              "    </tr>\n",
              "    <tr>\n",
              "      <th>Test 3:</th>\n",
              "      <td>[5, 10, 20, 5, 5, 10]</td>\n",
              "      <td>False</td>\n",
              "      <td>False</td>\n",
              "      <td>True</td>\n",
              "    </tr>\n",
              "    <tr>\n",
              "      <th>Test 4:</th>\n",
              "      <td>[5, 5, 10, 10, 5, 20]</td>\n",
              "      <td>True</td>\n",
              "      <td>True</td>\n",
              "      <td>True</td>\n",
              "    </tr>\n",
              "    <tr>\n",
              "      <th>Test 5:</th>\n",
              "      <td>[5, 5, 10, 10, 20]</td>\n",
              "      <td>False</td>\n",
              "      <td>False</td>\n",
              "      <td>True</td>\n",
              "    </tr>\n",
              "    <tr>\n",
              "      <th>Test 6:</th>\n",
              "      <td>[5, 10, 5, 10, 5, 20, 5, 10, 5, 5, 20]</td>\n",
              "      <td>True</td>\n",
              "      <td>True</td>\n",
              "      <td>True</td>\n",
              "    </tr>\n",
              "    <tr>\n",
              "      <th>Test 7:</th>\n",
              "      <td>[5, 10, 5, 10, 5, 20, 5, 20, 5, 5, 20]</td>\n",
              "      <td>True</td>\n",
              "      <td>False</td>\n",
              "      <td>False</td>\n",
              "    </tr>\n",
              "  </tbody>\n",
              "</table>\n",
              "</div>"
            ],
            "text/plain": [
              "                                  Input 1: list  ... Correct\n",
              "Test 1:                       [5, 5, 5, 10, 20]  ...    True\n",
              "Test 2:                                [10, 10]  ...    True\n",
              "Test 3:                   [5, 10, 20, 5, 5, 10]  ...    True\n",
              "Test 4:                   [5, 5, 10, 10, 5, 20]  ...    True\n",
              "Test 5:                      [5, 5, 10, 10, 20]  ...    True\n",
              "Test 6:  [5, 10, 5, 10, 5, 20, 5, 10, 5, 5, 20]  ...    True\n",
              "Test 7:  [5, 10, 5, 10, 5, 20, 5, 20, 5, 5, 20]  ...   False\n",
              "\n",
              "[7 rows x 4 columns]"
            ]
          },
          "metadata": {}
        },
        {
          "output_type": "stream",
          "text": [
            "You passed 6 of the 7 tests. \n",
            "The solution is incorrect\n"
          ],
          "name": "stdout"
        }
      ]
    },
    {
      "cell_type": "code",
      "metadata": {
        "colab": {
          "base_uri": "https://localhost:8080/",
          "height": 295
        },
        "id": "p9FYQGC3OOJ6",
        "outputId": "29a8d463-d9b0-460a-b296-685df8fc13b6"
      },
      "source": [
        "print(eb[33])"
      ],
      "execution_count": 101,
      "outputs": [
        {
          "output_type": "stream",
          "text": [
            "An array is monotonic if it is either monotone increasing or monotone \n",
            "decreasing. A list a is monotone increasing if for all i <= j, a[i] <= a[j]. \n",
            "A list a is monotone decreasing if for all i <= j, a[i] >= a[j]. Write a \n",
            "function to return Trueif and only if the given input list is monotonic. For\n",
            "example, if the input is [1,2,2,3], then the output is True. If the input is \n",
            "[1,3,2], then the output is False.\n"
          ],
          "name": "stdout"
        },
        {
          "output_type": "display_data",
          "data": {
            "text/html": [
              "<div>\n",
              "<style scoped>\n",
              "    .dataframe tbody tr th:only-of-type {\n",
              "        vertical-align: middle;\n",
              "    }\n",
              "\n",
              "    .dataframe tbody tr th {\n",
              "        vertical-align: top;\n",
              "    }\n",
              "\n",
              "    .dataframe thead th {\n",
              "        text-align: right;\n",
              "    }\n",
              "</style>\n",
              "<table border=\"1\" class=\"dataframe\">\n",
              "  <thead>\n",
              "    <tr style=\"text-align: right;\">\n",
              "      <th></th>\n",
              "      <th>Input1: list</th>\n",
              "      <th>Output: bool</th>\n",
              "    </tr>\n",
              "  </thead>\n",
              "  <tbody>\n",
              "    <tr>\n",
              "      <th>Test 1:</th>\n",
              "      <td>[1, 2, 2, 3]</td>\n",
              "      <td>True</td>\n",
              "    </tr>\n",
              "    <tr>\n",
              "      <th>Test 2:</th>\n",
              "      <td>[6, 5, 4, 4]</td>\n",
              "      <td>True</td>\n",
              "    </tr>\n",
              "    <tr>\n",
              "      <th>Test 3:</th>\n",
              "      <td>[1, 3, 2]</td>\n",
              "      <td>False</td>\n",
              "    </tr>\n",
              "  </tbody>\n",
              "</table>\n",
              "</div>"
            ],
            "text/plain": [
              "         Input1: list Output: bool\n",
              "Test 1:  [1, 2, 2, 3]         True\n",
              "Test 2:  [6, 5, 4, 4]         True\n",
              "Test 3:     [1, 3, 2]        False"
            ]
          },
          "metadata": {}
        },
        {
          "output_type": "stream",
          "text": [
            "\n",
            "\u001b[1mMonotnoe Trend: Medium\u001b[0;0m \n",
            "\n"
          ],
          "name": "stdout"
        }
      ]
    },
    {
      "cell_type": "code",
      "metadata": {
        "colab": {
          "base_uri": "https://localhost:8080/"
        },
        "id": "06-QdHfnuZeT",
        "outputId": "78ee27df-8077-4315-f564-d0560dc25bdb"
      },
      "source": [
        "def monotone(list_value):\n",
        "  \n",
        "  return (all(list_value[i] <= list_value[i + 1] for i in range(len(list_value) - 1)) \n",
        "  or all(list_value[i] >= list_value[i + 1] for i in range(len(list_value) - 1)))\n",
        "\n",
        "print(monotone([1, 2, 2, 3]))\n",
        "print(monotone([6, 5, 4, 4]))\n",
        "print(monotone([1, 3, 2]))"
      ],
      "execution_count": 102,
      "outputs": [
        {
          "output_type": "stream",
          "text": [
            "True\n",
            "True\n",
            "False\n"
          ],
          "name": "stdout"
        }
      ]
    },
    {
      "cell_type": "code",
      "metadata": {
        "colab": {
          "base_uri": "https://localhost:8080/",
          "height": 331
        },
        "id": "5FBFJxgJJvbh",
        "outputId": "f599d8f4-9c8a-40a3-e99e-1e83be3a6a32"
      },
      "source": [
        "eb[33].check(monotone, cheat=True)"
      ],
      "execution_count": 103,
      "outputs": [
        {
          "output_type": "display_data",
          "data": {
            "text/html": [
              "<div>\n",
              "<style scoped>\n",
              "    .dataframe tbody tr th:only-of-type {\n",
              "        vertical-align: middle;\n",
              "    }\n",
              "\n",
              "    .dataframe tbody tr th {\n",
              "        vertical-align: top;\n",
              "    }\n",
              "\n",
              "    .dataframe thead th {\n",
              "        text-align: right;\n",
              "    }\n",
              "</style>\n",
              "<table border=\"1\" class=\"dataframe\">\n",
              "  <thead>\n",
              "    <tr style=\"text-align: right;\">\n",
              "      <th></th>\n",
              "      <th>Input 1: list</th>\n",
              "      <th>Your output</th>\n",
              "      <th>Correct output: bool</th>\n",
              "      <th>Correct</th>\n",
              "    </tr>\n",
              "  </thead>\n",
              "  <tbody>\n",
              "    <tr>\n",
              "      <th>Test 1:</th>\n",
              "      <td>[1, 2, 2, 3]</td>\n",
              "      <td>True</td>\n",
              "      <td>True</td>\n",
              "      <td>True</td>\n",
              "    </tr>\n",
              "    <tr>\n",
              "      <th>Test 2:</th>\n",
              "      <td>[6, 5, 4, 4]</td>\n",
              "      <td>True</td>\n",
              "      <td>True</td>\n",
              "      <td>True</td>\n",
              "    </tr>\n",
              "    <tr>\n",
              "      <th>Test 3:</th>\n",
              "      <td>[2, 3, 2, 4, 5]</td>\n",
              "      <td>False</td>\n",
              "      <td>False</td>\n",
              "      <td>True</td>\n",
              "    </tr>\n",
              "    <tr>\n",
              "      <th>Test 4:</th>\n",
              "      <td>[1, 3, 2]</td>\n",
              "      <td>False</td>\n",
              "      <td>False</td>\n",
              "      <td>True</td>\n",
              "    </tr>\n",
              "    <tr>\n",
              "      <th>Test 5:</th>\n",
              "      <td>[1, 2, 4, 5]</td>\n",
              "      <td>True</td>\n",
              "      <td>True</td>\n",
              "      <td>True</td>\n",
              "    </tr>\n",
              "    <tr>\n",
              "      <th>Test 6:</th>\n",
              "      <td>[1, 1, 1]</td>\n",
              "      <td>True</td>\n",
              "      <td>True</td>\n",
              "      <td>True</td>\n",
              "    </tr>\n",
              "    <tr>\n",
              "      <th>Test 7:</th>\n",
              "      <td>[1, 1, 1, 2, 3, 7]</td>\n",
              "      <td>True</td>\n",
              "      <td>True</td>\n",
              "      <td>True</td>\n",
              "    </tr>\n",
              "    <tr>\n",
              "      <th>Test 8:</th>\n",
              "      <td>[1, 2, 2, 2, 3, 3, 3, 2]</td>\n",
              "      <td>False</td>\n",
              "      <td>False</td>\n",
              "      <td>True</td>\n",
              "    </tr>\n",
              "  </tbody>\n",
              "</table>\n",
              "</div>"
            ],
            "text/plain": [
              "                    Input 1: list Your output Correct output: bool Correct\n",
              "Test 1:              [1, 2, 2, 3]        True                 True    True\n",
              "Test 2:              [6, 5, 4, 4]        True                 True    True\n",
              "Test 3:           [2, 3, 2, 4, 5]       False                False    True\n",
              "Test 4:                 [1, 3, 2]       False                False    True\n",
              "Test 5:              [1, 2, 4, 5]        True                 True    True\n",
              "Test 6:                 [1, 1, 1]        True                 True    True\n",
              "Test 7:        [1, 1, 1, 2, 3, 7]        True                 True    True\n",
              "Test 8:  [1, 2, 2, 2, 3, 3, 3, 2]       False                False    True"
            ]
          },
          "metadata": {}
        },
        {
          "output_type": "stream",
          "text": [
            "You passed 8 of the 8 tests. \n",
            "The solution is correct\n"
          ],
          "name": "stdout"
        }
      ]
    },
    {
      "cell_type": "code",
      "metadata": {
        "colab": {
          "base_uri": "https://localhost:8080/",
          "height": 230
        },
        "id": "WD1sIEwbOOG3",
        "outputId": "b7b05330-bf33-464e-bd80-5ae25553dd45"
      },
      "source": [
        "print(eb[34])"
      ],
      "execution_count": 104,
      "outputs": [
        {
          "output_type": "stream",
          "text": [
            "Given a nested list of integers, implement an iterator to flatten it. Each \n",
            "element is either an integer, or a list -- whose elements may also be integers \n",
            "or other lists. For example, if the input is [[1,1],2,[1,1]], then the output \n",
            "is [1, 1, 2, 1, 1]. If the input is [1,[4,[6]]], then the output is [1, 4, 6]. \n"
          ],
          "name": "stdout"
        },
        {
          "output_type": "display_data",
          "data": {
            "text/html": [
              "<div>\n",
              "<style scoped>\n",
              "    .dataframe tbody tr th:only-of-type {\n",
              "        vertical-align: middle;\n",
              "    }\n",
              "\n",
              "    .dataframe tbody tr th {\n",
              "        vertical-align: top;\n",
              "    }\n",
              "\n",
              "    .dataframe thead th {\n",
              "        text-align: right;\n",
              "    }\n",
              "</style>\n",
              "<table border=\"1\" class=\"dataframe\">\n",
              "  <thead>\n",
              "    <tr style=\"text-align: right;\">\n",
              "      <th></th>\n",
              "      <th>Input1: list</th>\n",
              "      <th>Output: list</th>\n",
              "    </tr>\n",
              "  </thead>\n",
              "  <tbody>\n",
              "    <tr>\n",
              "      <th>Test 1:</th>\n",
              "      <td>[[1, 1], 2, [1, 1]]</td>\n",
              "      <td>[1, 1, 2, 1, 1]</td>\n",
              "    </tr>\n",
              "    <tr>\n",
              "      <th>Test 2:</th>\n",
              "      <td>[1, [4, [6]]]</td>\n",
              "      <td>[1, 4, 6]</td>\n",
              "    </tr>\n",
              "  </tbody>\n",
              "</table>\n",
              "</div>"
            ],
            "text/plain": [
              "                Input1: list     Output: list\n",
              "Test 1:  [[1, 1], 2, [1, 1]]  [1, 1, 2, 1, 1]\n",
              "Test 2:        [1, [4, [6]]]        [1, 4, 6]"
            ]
          },
          "metadata": {}
        },
        {
          "output_type": "stream",
          "text": [
            "\n",
            "\u001b[1mFlatten Lists: Hard\u001b[0;0m \n",
            "\n"
          ],
          "name": "stdout"
        }
      ]
    },
    {
      "cell_type": "code",
      "metadata": {
        "colab": {
          "base_uri": "https://localhost:8080/"
        },
        "id": "nmgKMkWI1ZC_",
        "outputId": "c5f31556-6c38-4b37-dd4c-f29cac1531ff"
      },
      "source": [
        "!pip install iteration_utilities"
      ],
      "execution_count": 105,
      "outputs": [
        {
          "output_type": "stream",
          "text": [
            "Requirement already satisfied: iteration_utilities in /usr/local/lib/python3.7/dist-packages (0.11.0)\n"
          ],
          "name": "stdout"
        }
      ]
    },
    {
      "cell_type": "code",
      "metadata": {
        "id": "yR9Kft_e1OLK"
      },
      "source": [
        "from iteration_utilities import deepflatten"
      ],
      "execution_count": 106,
      "outputs": []
    },
    {
      "cell_type": "code",
      "metadata": {
        "colab": {
          "base_uri": "https://localhost:8080/"
        },
        "id": "CQ2MzW0XyX0X",
        "outputId": "fc7bb8b4-7757-4726-94b1-45af2afc95e5"
      },
      "source": [
        "def flattener(list_value):\n",
        "  \n",
        "  flattened_list = list(deepflatten(list_value))\n",
        "  \n",
        "  return flattened_list\n",
        "\n",
        "print(flattener([[1, 1], 2, [1, 1]]))\n",
        "print(flattener([1, [4, [6]]]))"
      ],
      "execution_count": 107,
      "outputs": [
        {
          "output_type": "stream",
          "text": [
            "[1, 1, 2, 1, 1]\n",
            "[1, 4, 6]\n"
          ],
          "name": "stdout"
        }
      ]
    },
    {
      "cell_type": "code",
      "metadata": {
        "colab": {
          "base_uri": "https://localhost:8080/",
          "height": 176
        },
        "id": "SiingrE7Jy7w",
        "outputId": "e5ef7fe4-6867-485d-dfa2-1d4e024ff36b"
      },
      "source": [
        "eb[34].check(flattener, cheat=True)"
      ],
      "execution_count": 108,
      "outputs": [
        {
          "output_type": "display_data",
          "data": {
            "text/html": [
              "<div>\n",
              "<style scoped>\n",
              "    .dataframe tbody tr th:only-of-type {\n",
              "        vertical-align: middle;\n",
              "    }\n",
              "\n",
              "    .dataframe tbody tr th {\n",
              "        vertical-align: top;\n",
              "    }\n",
              "\n",
              "    .dataframe thead th {\n",
              "        text-align: right;\n",
              "    }\n",
              "</style>\n",
              "<table border=\"1\" class=\"dataframe\">\n",
              "  <thead>\n",
              "    <tr style=\"text-align: right;\">\n",
              "      <th></th>\n",
              "      <th>Input 1: list</th>\n",
              "      <th>Your output</th>\n",
              "      <th>Correct output: list</th>\n",
              "      <th>Correct</th>\n",
              "    </tr>\n",
              "  </thead>\n",
              "  <tbody>\n",
              "    <tr>\n",
              "      <th>Test 1:</th>\n",
              "      <td>[[1, 1], 2, [1, 1]]</td>\n",
              "      <td>[1, 1, 2, 1, 1]</td>\n",
              "      <td>[1, 1, 2, 1, 1]</td>\n",
              "      <td>True</td>\n",
              "    </tr>\n",
              "    <tr>\n",
              "      <th>Test 2:</th>\n",
              "      <td>[1, [4, [6]]]</td>\n",
              "      <td>[1, 4, 6]</td>\n",
              "      <td>[1, 4, 6]</td>\n",
              "      <td>True</td>\n",
              "    </tr>\n",
              "    <tr>\n",
              "      <th>Test 3:</th>\n",
              "      <td>[[1], [2, [3], None], [[[4]]]]</td>\n",
              "      <td>[1, 2, 3, None, 4]</td>\n",
              "      <td>[1, 2, 3, None, 4]</td>\n",
              "      <td>True</td>\n",
              "    </tr>\n",
              "  </tbody>\n",
              "</table>\n",
              "</div>"
            ],
            "text/plain": [
              "                          Input 1: list  ... Correct\n",
              "Test 1:             [[1, 1], 2, [1, 1]]  ...    True\n",
              "Test 2:                   [1, [4, [6]]]  ...    True\n",
              "Test 3:  [[1], [2, [3], None], [[[4]]]]  ...    True\n",
              "\n",
              "[3 rows x 4 columns]"
            ]
          },
          "metadata": {}
        },
        {
          "output_type": "stream",
          "text": [
            "You passed 3 of the 3 tests. \n",
            "The solution is correct\n"
          ],
          "name": "stdout"
        }
      ]
    },
    {
      "cell_type": "code",
      "metadata": {
        "colab": {
          "base_uri": "https://localhost:8080/",
          "height": 216
        },
        "id": "15DT9-u8OOEK",
        "outputId": "c9c17891-159f-4813-cd89-2292901c89ac"
      },
      "source": [
        "print(eb[35])"
      ],
      "execution_count": 109,
      "outputs": [
        {
          "output_type": "stream",
          "text": [
            "Given a list of daily temperatures T, return a list such that, for each day \n",
            "in the input, tells you how many days you would have to wait until a warmer \n",
            "temperature. If there is no future day for which this is possible, put 0 \n",
            "instead. For example, given the list of temperatures T = [73, 74, 75, 71, \n",
            "69, 72, 76, 73], your output should be [1, 1, 4, 2, 1, 1, 0, 0].\n"
          ],
          "name": "stdout"
        },
        {
          "output_type": "display_data",
          "data": {
            "text/html": [
              "<div>\n",
              "<style scoped>\n",
              "    .dataframe tbody tr th:only-of-type {\n",
              "        vertical-align: middle;\n",
              "    }\n",
              "\n",
              "    .dataframe tbody tr th {\n",
              "        vertical-align: top;\n",
              "    }\n",
              "\n",
              "    .dataframe thead th {\n",
              "        text-align: right;\n",
              "    }\n",
              "</style>\n",
              "<table border=\"1\" class=\"dataframe\">\n",
              "  <thead>\n",
              "    <tr style=\"text-align: right;\">\n",
              "      <th></th>\n",
              "      <th>Input1: list</th>\n",
              "      <th>Output: list</th>\n",
              "    </tr>\n",
              "  </thead>\n",
              "  <tbody>\n",
              "    <tr>\n",
              "      <th>Test 1:</th>\n",
              "      <td>[73, 74, 75, 71, 69, 72, 76, 73]</td>\n",
              "      <td>[1, 1, 4, 2, 1, 1, 0, 0]</td>\n",
              "    </tr>\n",
              "  </tbody>\n",
              "</table>\n",
              "</div>"
            ],
            "text/plain": [
              "                             Input1: list              Output: list\n",
              "Test 1:  [73, 74, 75, 71, 69, 72, 76, 73]  [1, 1, 4, 2, 1, 1, 0, 0]"
            ]
          },
          "metadata": {}
        },
        {
          "output_type": "stream",
          "text": [
            "\n",
            "\u001b[1mWarmer Temperature: Medium\u001b[0;0m \n",
            "\n"
          ],
          "name": "stdout"
        }
      ]
    }
  ]
}