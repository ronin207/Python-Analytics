{
  "nbformat": 4,
  "nbformat_minor": 0,
  "metadata": {
    "colab": {
      "name": "Lecture03.ipynb",
      "provenance": [],
      "authorship_tag": "ABX9TyNr55Dk6/zvUt0lxOWy56i9",
      "include_colab_link": true
    },
    "kernelspec": {
      "name": "python3",
      "display_name": "Python 3"
    },
    "language_info": {
      "name": "python"
    }
  },
  "cells": [
    {
      "cell_type": "markdown",
      "metadata": {
        "id": "view-in-github",
        "colab_type": "text"
      },
      "source": [
        "<a href=\"https://colab.research.google.com/github/ronin207/Python-Analytics/blob/main/Lecture03.ipynb\" target=\"_parent\"><img src=\"https://colab.research.google.com/assets/colab-badge.svg\" alt=\"Open In Colab\"/></a>"
      ]
    },
    {
      "cell_type": "markdown",
      "metadata": {
        "id": "LvWamPcgeGXD"
      },
      "source": [
        "## NUS Python for Analytics Lecture 03\n",
        "\n",
        "#### Working with Built-in Compound Data Types\n",
        "\n",
        "<ul>\n",
        "  <li>Lists</li>\n",
        "  <li>Tuples</li>\n",
        "  <li>Dictionaries</li>\n",
        "</ul>"
      ]
    },
    {
      "cell_type": "markdown",
      "metadata": {
        "id": "ZSC1qSppeqB1"
      },
      "source": [
        "#### Self-Study Assignment 3.2: Practising Methods of Lists\n",
        "\n",
        "Revisit the program you wrote in Week 2 to print the initials of a name given by the user. <br>Now, write the same program using methods of lists. <br>For example, if the given name is 'John Fitzgerald Kennedy', then the printed-out message is 'JFK'."
      ]
    },
    {
      "cell_type": "markdown",
      "metadata": {
        "id": "38K1c3uthGqK"
      },
      "source": [
        "#### Lecture 02 Method"
      ]
    },
    {
      "cell_type": "code",
      "metadata": {
        "colab": {
          "base_uri": "https://localhost:8080/"
        },
        "id": "cPJgxIKGcZGV",
        "outputId": "9b0a9e17-5c08-483a-9a56-25155ba13abb"
      },
      "source": [
        "# Collect name input and title. Declare a capitalized_name_input to get all the capitalized letters\n",
        "name_input = str.title(input(\"Insert name here: \"))\n",
        "capitalized_name_input = \"\"\n",
        "\n",
        "# Loop through name_input to find the capitalized letters\n",
        "# Concatenate the capitalized letters\n",
        "for i in name_input:\n",
        "  if i.isupper():\n",
        "    capitalized_name_input += i\n",
        "  elif i == \" \":\n",
        "    continue\n",
        "\n",
        "# Output\n",
        "print(capitalized_name_input)"
      ],
      "execution_count": null,
      "outputs": [
        {
          "output_type": "stream",
          "text": [
            "Insert name here: John Fitzgerald Kennedy\n",
            "JFK\n"
          ],
          "name": "stdout"
        }
      ]
    },
    {
      "cell_type": "markdown",
      "metadata": {
        "id": "JuPtsMNGhQwc"
      },
      "source": [
        "#### Lecture 03 Method"
      ]
    },
    {
      "cell_type": "code",
      "metadata": {
        "colab": {
          "base_uri": "https://localhost:8080/"
        },
        "id": "kTnXNrtkhL24",
        "outputId": "bfa02166-e3e4-431e-b4d0-76079d2e48a7"
      },
      "source": [
        "# Collect name input and title. Declare a capitalized_name_input to get all the capitalized letters\n",
        "name_input = list(str.title(input(\"Insert name here: \")))\n",
        "capitalized_name_input_list = []\n",
        "capitalized_name_input = \"\"\n",
        "\n",
        "# Loop through name_input to find the capitalized letters\n",
        "# Concatenate the capitalized letters\n",
        "for i in name_input:\n",
        "  if i.isupper():\n",
        "    capitalized_name_input_list.append(i)\n",
        "  elif i == \" \":\n",
        "    continue\n",
        "\n",
        "# Output\n",
        "print(capitalized_name_input.join(capitalized_name_input_list))"
      ],
      "execution_count": null,
      "outputs": [
        {
          "output_type": "stream",
          "text": [
            "Insert name here: John Fitzgerald Kennedy\n",
            "JFK\n"
          ],
          "name": "stdout"
        }
      ]
    },
    {
      "cell_type": "markdown",
      "metadata": {
        "id": "2F5VE8qyi0JL"
      },
      "source": [
        "#### **Required Assignment: Newsvendor Case**\n",
        "\n",
        "In this case study, we adopt the classic problem setting with two products: A newsboy selling two types of newspapers, <code>paper1</code> and <code>paper2</code>. The future demands for newspapers are affected by weather conditions.\n",
        "\n",
        "<u>Questions</u>\n",
        "\n",
        "<ol>\n",
        "  <li>Verify that the sum of all probabilities is one. You can use the function <code>sum</code> to sum up every element in the list, and the string method <a href=\"https://www.programiz.com/python-programming/methods/string/format\"> format</a> to control the decimal digits of the displayed result.</li>\n",
        "  <li>Calculate the expected values of the demands of <code>paper1</code>  and <code>paper2</code>. Display the output in the format 'Expected demand: ......'. Numeric result has three decimal digits.</li>\n",
        "  <li>Calculate the standard deviation of paper demands, expressed as: <br>\n",
        "  $𝜎_𝐷=\\sqrt{\\Sigma_{s=1}^S p_s(d_s−𝔼(𝐷_{𝑝𝑎𝑝𝑒𝑟}))^2}$<br>\n",
        "  Display the results with three decimal digits.</li>\n",
        "  <li>Suppose that the costs of <code>paper1</code> and <code>paper2</code> are 0.6 and 0.8 dollars, and the selling prices of <code>paper1</code> and <code>paper2</code> are 1.00 and 1.15, respectively. Calculate the expected total profit, if the newsboy has ordered 430 pieces of <code>paper1</code> and 380 pieces of <code>paper2</code>`. Print the results with two decimal digits.<br>\n",
        "<strong>Hint</strong>: The profit can be calculated as the total revenue (the sold quantity multiplied by the price) minus the total cost (the order quantity multiplied by the cost). The sold quantity equals the demand if the demand is smaller than the order quantity; otherwise, the sold quantity equals the order quantity. You may calculate the expected sold quantity first, and then use it to compute the expected profit.</li>\n",
        "</ol>"
      ]
    },
    {
      "cell_type": "markdown",
      "metadata": {
        "id": "nmvjknfvqKSv"
      },
      "source": [
        "### **Case Study: A Newsvendor Problem**\n",
        "\n",
        "<strong><em>Background</em></strong>: The newsvendor model is a mathematical model in operations management and applied economics used to determine optimal inventory levels. It is typically characterized by fixed prices and uncertain demand for a number of perishable products. In this case study, we adopt the classic problem setting with two products: a newsboy is selling two types of newspapers, <code>paper1</code>, and <code>paper2</code>. The future demands of newspapers are affected by weather conditions. The demands under different weather conditions, as well as the probability associated with each weather condition, are provided in the following table.\n",
        "\n",
        "|           | probabilities | paper1  | paper2   |\n",
        "|-----------|---------------|---------|--------- |\n",
        "Sunny       | 0.315         | 560     | 533      \n",
        "Cloudy      | 0.226         | 530     | 486\n",
        "Raining     | 0.289         | 389     | 386\n",
        "Thunderstorm| 0.087         | 202     | 234\n",
        "Haze        | 0.083         | 278     | 263\n",
        "\n",
        "The table above is given as the <code>distr</code> type data object below."
      ]
    },
    {
      "cell_type": "code",
      "metadata": {
        "colab": {
          "base_uri": "https://localhost:8080/"
        },
        "id": "eHh01bOWkAAY",
        "outputId": "eae82bab-1ae0-4c80-f440-a2f5021991a2"
      },
      "source": [
        "distr = {'weather': ['Sunny', 'Cloudy', 'Raining', 'Thunderstorm', 'Haze'],\n",
        "         'probs': [0.315, 0.226, 0.289, 0.087, 0.083],\n",
        "         'paper1': [560, 530, 389, 202, 278],\n",
        "         'paper2': [533, 486, 386, 234, 263]}\n",
        "\n",
        "distr"
      ],
      "execution_count": null,
      "outputs": [
        {
          "output_type": "execute_result",
          "data": {
            "text/plain": [
              "{'paper1': [560, 530, 389, 202, 278],\n",
              " 'paper2': [533, 486, 386, 234, 263],\n",
              " 'probs': [0.315, 0.226, 0.289, 0.087, 0.083],\n",
              " 'weather': ['Sunny', 'Cloudy', 'Raining', 'Thunderstorm', 'Haze']}"
            ]
          },
          "metadata": {},
          "execution_count": 3
        }
      ]
    },
    {
      "cell_type": "markdown",
      "metadata": {
        "id": "Qhtb_6JK7qVV"
      },
      "source": [
        "##### **Task 1**:<br>\n",
        "Verify that the sum of all probabilities is one. You can use the function <code>sum</code> to sum up every element in the list, and the string method <a href=\"https://www.programiz.com/python-programming/methods/string/format\"> format</a> to control the decimal digits of the displayed result."
      ]
    },
    {
      "cell_type": "code",
      "metadata": {
        "colab": {
          "base_uri": "https://localhost:8080/"
        },
        "id": "iJVnQyO-taQ3",
        "outputId": "a7c6654d-7e08-4f94-958d-24969dc31b15"
      },
      "source": [
        "probabilities = distr['probs']\n",
        "probabilities_sum = sum(probabilities)\n",
        "\n",
        "print(\"The sum of proabilities is: {0: 0.2f}\".format(probabilities_sum))"
      ],
      "execution_count": null,
      "outputs": [
        {
          "output_type": "stream",
          "text": [
            "The sum of proabilities is:  1.00\n"
          ],
          "name": "stdout"
        }
      ]
    },
    {
      "cell_type": "markdown",
      "metadata": {
        "id": "gqNxU6HV7q2D"
      },
      "source": [
        "##### **Task 2**:<br>\n",
        "Calculate the expected values of the demands of <code>paper1</code>  and <code>paper2</code>. Display the output in the format 'Expected demand: ......'. Numeric result has three decimal digits."
      ]
    },
    {
      "cell_type": "code",
      "metadata": {
        "colab": {
          "base_uri": "https://localhost:8080/"
        },
        "id": "hnWh4WG0vE0t",
        "outputId": "f104fc6e-8f17-4dfe-9ebd-63e13b0eff57"
      },
      "source": [
        "# Using For Loop ...\n",
        "demand1 = distr['paper1']\n",
        "\n",
        "expected1 = 0                                \n",
        "for probability, demand in zip(probabilities, demand1):     \n",
        "    expected1 += probability * demand                \n",
        "\n",
        "print(\"Expected Demand 1: {0: 0.3f}\".format(expected1))"
      ],
      "execution_count": null,
      "outputs": [
        {
          "output_type": "stream",
          "text": [
            "Expected Demand 1:  449.249\n"
          ],
          "name": "stdout"
        }
      ]
    },
    {
      "cell_type": "code",
      "metadata": {
        "colab": {
          "base_uri": "https://localhost:8080/"
        },
        "id": "wNsVKX_Xz2xl",
        "outputId": "2fb78ed2-b7b1-47dc-e464-b1f2a4094f19"
      },
      "source": [
        "# Using List Comprehension ...\n",
        "demand2 = distr['paper2']\n",
        "\n",
        "expected2 = sum([probability * demand for probability, demand in zip(probabilities, demand2)])\n",
        "print(\"Expected Demand 2: {0: 0.3f}\".format(expected2))"
      ],
      "execution_count": null,
      "outputs": [
        {
          "output_type": "stream",
          "text": [
            "Expected Demand 2:  431.472\n"
          ],
          "name": "stdout"
        }
      ]
    },
    {
      "cell_type": "markdown",
      "metadata": {
        "id": "lKsnjvt37sEn"
      },
      "source": [
        "##### **Task 3**:<br>\n",
        "Calculate the standard deviation of paper demands, expressed as: <br>\n",
        "  $𝜎_𝐷=\\sqrt{\\Sigma_{s=1}^S p_s(d_s−𝔼(𝐷_{𝑝𝑎𝑝𝑒𝑟}))^2}$<br>\n",
        "  Display the results with three decimal digits."
      ]
    },
    {
      "cell_type": "code",
      "metadata": {
        "colab": {
          "base_uri": "https://localhost:8080/"
        },
        "id": "Hm92F_v-z7cN",
        "outputId": "92d79243-673a-40c6-a67a-cbea2aa4ec6b"
      },
      "source": [
        "# Using List Comprehension ...\n",
        "standard_dev1 = (sum([probability * (demand - expected1) ** 2 for probability, demand in zip(probabilities, demand1)])) ** 0.5\n",
        "print(\"The Standard Deviation of Demand 1: {0: 0.3f}\".format(standard_dev1))"
      ],
      "execution_count": null,
      "outputs": [
        {
          "output_type": "stream",
          "text": [
            "The Standard Deviation of Demand 1:  118.908\n"
          ],
          "name": "stdout"
        }
      ]
    },
    {
      "cell_type": "code",
      "metadata": {
        "colab": {
          "base_uri": "https://localhost:8080/"
        },
        "id": "5xL-eHB61voW",
        "outputId": "4145091a-3018-49c3-96ec-920ece7cdc64"
      },
      "source": [
        "# Using List Comprehension ...\n",
        "standard_dev2 = (sum([probability * (demand - expected2) ** 2 for probability, demand in zip(probabilities, demand2)])) ** 0.5\n",
        "print(\"The Standard Deviation of Demand 2: {0: 0.3f}\".format(standard_dev2))"
      ],
      "execution_count": null,
      "outputs": [
        {
          "output_type": "stream",
          "text": [
            "The Standard Deviation of Demand 2:  101.316\n"
          ],
          "name": "stdout"
        }
      ]
    },
    {
      "cell_type": "markdown",
      "metadata": {
        "id": "LwYDALua7tXg"
      },
      "source": [
        "##### **Task 4**:<br>\n",
        "Suppose that the costs of <code>paper1</code> and <code>paper2</code> are 0.6 and 0.8 dollars, and the selling prices of <code>paper1</code> and <code>paper2</code> are 1.00 and 1.15, respectively. Calculate the expected total profit, if the newsboy has ordered 430 pieces of <code>paper1</code> and 380 pieces of <code>paper2</code>`. Print the results with two decimal digits.<br>\n",
        "<strong>Hint</strong>: The profit can be calculated as the total revenue (the sold quantity multiplied by the price) minus the total cost (the order quantity multiplied by the cost). The sold quantity equals the demand if the demand is smaller than the order quantity; otherwise, the sold quantity equals the order quantity. You may calculate the expected sold quantity first, and then use it to compute the expected profit."
      ]
    },
    {
      "cell_type": "code",
      "metadata": {
        "id": "Kv0B98GK13MH"
      },
      "source": [
        "cost1 = 0.6\n",
        "cost2 = 0.8\n",
        "price1 = 1.0\n",
        "price2 = 1.15\n",
        "order1 = 430\n",
        "order2 = 380"
      ],
      "execution_count": null,
      "outputs": []
    },
    {
      "cell_type": "code",
      "metadata": {
        "id": "CzGV9HpB4G9g"
      },
      "source": [
        "expected1_sold = 0\n",
        "for probability, demand in zip(probabilities, demand1):\n",
        "  if demand < order1:\n",
        "    expected1_sold += probability * demand\n",
        "  else:\n",
        "    expected1_sold += probability * order1\n",
        "\n",
        "expected1_profit = expected1_sold * price1 - order1 * cost1"
      ],
      "execution_count": null,
      "outputs": []
    },
    {
      "cell_type": "code",
      "metadata": {
        "id": "frUnoCUd4bhj"
      },
      "source": [
        "expected2_sold = 0\n",
        "for probability, demand in zip(probabilities, demand2):\n",
        "  if demand < order2:\n",
        "    expected2_sold += probability * demand\n",
        "  else:\n",
        "    expected2_sold += probability * order2\n",
        "\n",
        "expected2_profit = expected2_sold * price2 - order2 * cost2"
      ],
      "execution_count": null,
      "outputs": []
    },
    {
      "cell_type": "code",
      "metadata": {
        "colab": {
          "base_uri": "https://localhost:8080/"
        },
        "id": "S8VrfjDT4iPf",
        "outputId": "11a39118-8720-42d8-ca34-5e22ede7de4a"
      },
      "source": [
        "print(\"The Expected Total Profit is: ${0: 0.2f}\".format(expected1_profit + expected2_profit))"
      ],
      "execution_count": null,
      "outputs": [
        {
          "output_type": "stream",
          "text": [
            "The Expected Total Profit is: $ 234.92\n"
          ],
          "name": "stdout"
        }
      ]
    }
  ]
}